{
 "cells": [
  {
   "cell_type": "markdown",
   "metadata": {},
   "source": [
    "## Условия задачи\n",
    "\n",
    "Чтобы оптимизировать производственные расходы, металлургический комбинат ООО «Так закаляем сталь» решил уменьшить потребление электроэнергии на этапе обработки стали. Необходимо построить модель, которая предскажет температуру стали.\n",
    "\n",
    "### Описание этапа обработки\n",
    "\n",
    "Сталь обрабатывают в металлическом ковше вместимостью около 100 тонн. Чтобы ковш выдерживал высокие температуры, изнутри его облицовывают огнеупорным кирпичом. Расплавленную сталь заливают в ковш и подогревают до нужной температуры графитовыми электродами. Они установлены в крышке ковша. \n",
    "\n",
    "Из сплава выводится сера (десульфурация), добавлением примесей корректируется химический состав и отбираются пробы. Сталь легируют — изменяют её состав — подавая куски сплава из бункера для сыпучих материалов или проволоку через специальный трайб-аппарат (англ. tribe, «масса»).\n",
    "\n",
    "Перед тем как первый раз ввести легирующие добавки, измеряют температуру стали и производят её химический анализ. Потом температуру на несколько минут повышают, добавляют легирующие материалы и продувают сплав инертным газом. Затем его перемешивают и снова проводят измерения. Такой цикл повторяется до достижения целевого химического состава и оптимальной температуры плавки.\n",
    "\n",
    "Тогда расплавленная сталь отправляется на доводку металла или поступает в машину непрерывной разливки. Оттуда готовый продукт выходит в виде заготовок-слябов (англ. *slab*, «плита»).\n",
    "\n",
    "### Описание данных\n",
    "\n",
    "Данные состоят из файлов, полученных из разных источников:\n",
    "\n",
    "- `data_arc.csv` — данные об электродах;\n",
    "- `data_bulk.csv` — данные о подаче сыпучих материалов (объём);\n",
    "- `data_bulk_time.csv` *—* данные о подаче сыпучих материалов (время);\n",
    "- `data_gas.csv` — данные о продувке сплава газом;\n",
    "- `data_temp.csv` — результаты измерения температуры;\n",
    "- `data_wire.csv` — данные о проволочных материалах (объём);\n",
    "- `data_wire_time.csv` — данные о проволочных материалах (время).\n",
    "\n",
    "Во всех файлах столбец `key` содержит номер партии. В файлах может быть несколько строк с одинаковым значением `key`: они соответствуют разным итерациям обработки."
   ]
  },
  {
   "cell_type": "markdown",
   "metadata": {},
   "source": [
    "## 1. Знакомство с данными."
   ]
  },
  {
   "cell_type": "code",
   "execution_count": 2,
   "metadata": {},
   "outputs": [],
   "source": [
    "import pandas as pd\n",
    "import numpy as np\n",
    "import matplotlib.pyplot as plt\n",
    "from sklearn.model_selection import train_test_split\n",
    "from sklearn.metrics import mean_absolute_error\n",
    "from sklearn.linear_model import LinearRegression\n",
    "from sklearn.ensemble import RandomForestRegressor\n",
    "import lightgbm as lgb\n",
    "from sklearn.preprocessing import StandardScaler\n",
    "from sklearn.model_selection import GridSearchCV"
   ]
  },
  {
   "cell_type": "code",
   "execution_count": 3,
   "metadata": {},
   "outputs": [],
   "source": [
    "# зачитаем данные в df, организуем все df в один словарь, а описания данных в другой словарь с теми же ключами\n",
    "data = {}\n",
    "data_description = {\n",
    "    'arc'      : 'данные об электродах',\n",
    "    'bulk'     : 'данные о подаче сыпучих материалов (объём)', \n",
    "    'bulk_time': 'данные о подаче сыпучих материалов (время)',\n",
    "    'gas'      : 'данные о продувке сплава газом',\n",
    "    'temp'     : 'результаты измерения температуры',\n",
    "    'wire'     : 'данные о проволочных материалах (объём)',\n",
    "    'wire_time': 'данные о проволочных материалах (время)'\n",
    "}\n",
    "\n",
    "\n",
    "for data_keys in data_description:\n",
    "    data[data_keys] = pd.read_csv(f'/datasets/final_steel/data_{data_keys}.csv')"
   ]
  },
  {
   "cell_type": "code",
   "execution_count": 4,
   "metadata": {
    "scrolled": false
   },
   "outputs": [
    {
     "name": "stdout",
     "output_type": "stream",
     "text": [
      "****** arc : данные об электродах ***********\n",
      "<class 'pandas.core.frame.DataFrame'>\n",
      "RangeIndex: 14876 entries, 0 to 14875\n",
      "Data columns (total 5 columns):\n",
      " #   Column                Non-Null Count  Dtype  \n",
      "---  ------                --------------  -----  \n",
      " 0   key                   14876 non-null  int64  \n",
      " 1   Начало нагрева дугой  14876 non-null  object \n",
      " 2   Конец нагрева дугой   14876 non-null  object \n",
      " 3   Активная мощность     14876 non-null  float64\n",
      " 4   Реактивная мощность   14876 non-null  float64\n",
      "dtypes: float64(2), int64(1), object(2)\n",
      "memory usage: 581.2+ KB\n",
      "None\n"
     ]
    },
    {
     "data": {
      "text/html": [
       "<div>\n",
       "<style scoped>\n",
       "    .dataframe tbody tr th:only-of-type {\n",
       "        vertical-align: middle;\n",
       "    }\n",
       "\n",
       "    .dataframe tbody tr th {\n",
       "        vertical-align: top;\n",
       "    }\n",
       "\n",
       "    .dataframe thead th {\n",
       "        text-align: right;\n",
       "    }\n",
       "</style>\n",
       "<table border=\"1\" class=\"dataframe\">\n",
       "  <thead>\n",
       "    <tr style=\"text-align: right;\">\n",
       "      <th></th>\n",
       "      <th>key</th>\n",
       "      <th>Начало нагрева дугой</th>\n",
       "      <th>Конец нагрева дугой</th>\n",
       "      <th>Активная мощность</th>\n",
       "      <th>Реактивная мощность</th>\n",
       "    </tr>\n",
       "  </thead>\n",
       "  <tbody>\n",
       "    <tr>\n",
       "      <th>0</th>\n",
       "      <td>1</td>\n",
       "      <td>2019-05-03 11:02:14</td>\n",
       "      <td>2019-05-03 11:06:02</td>\n",
       "      <td>0.976059</td>\n",
       "      <td>0.687084</td>\n",
       "    </tr>\n",
       "    <tr>\n",
       "      <th>1</th>\n",
       "      <td>1</td>\n",
       "      <td>2019-05-03 11:07:28</td>\n",
       "      <td>2019-05-03 11:10:33</td>\n",
       "      <td>0.805607</td>\n",
       "      <td>0.520285</td>\n",
       "    </tr>\n",
       "    <tr>\n",
       "      <th>2</th>\n",
       "      <td>1</td>\n",
       "      <td>2019-05-03 11:11:44</td>\n",
       "      <td>2019-05-03 11:14:36</td>\n",
       "      <td>0.744363</td>\n",
       "      <td>0.498805</td>\n",
       "    </tr>\n",
       "  </tbody>\n",
       "</table>\n",
       "</div>"
      ],
      "text/plain": [
       "   key Начало нагрева дугой  Конец нагрева дугой  Активная мощность  \\\n",
       "0    1  2019-05-03 11:02:14  2019-05-03 11:06:02           0.976059   \n",
       "1    1  2019-05-03 11:07:28  2019-05-03 11:10:33           0.805607   \n",
       "2    1  2019-05-03 11:11:44  2019-05-03 11:14:36           0.744363   \n",
       "\n",
       "   Реактивная мощность  \n",
       "0             0.687084  \n",
       "1             0.520285  \n",
       "2             0.498805  "
      ]
     },
     "metadata": {},
     "output_type": "display_data"
    },
    {
     "name": "stdout",
     "output_type": "stream",
     "text": [
      "****** bulk : данные о подаче сыпучих материалов (объём) ***********\n",
      "<class 'pandas.core.frame.DataFrame'>\n",
      "RangeIndex: 3129 entries, 0 to 3128\n",
      "Data columns (total 16 columns):\n",
      " #   Column   Non-Null Count  Dtype  \n",
      "---  ------   --------------  -----  \n",
      " 0   key      3129 non-null   int64  \n",
      " 1   Bulk 1   252 non-null    float64\n",
      " 2   Bulk 2   22 non-null     float64\n",
      " 3   Bulk 3   1298 non-null   float64\n",
      " 4   Bulk 4   1014 non-null   float64\n",
      " 5   Bulk 5   77 non-null     float64\n",
      " 6   Bulk 6   576 non-null    float64\n",
      " 7   Bulk 7   25 non-null     float64\n",
      " 8   Bulk 8   1 non-null      float64\n",
      " 9   Bulk 9   19 non-null     float64\n",
      " 10  Bulk 10  176 non-null    float64\n",
      " 11  Bulk 11  177 non-null    float64\n",
      " 12  Bulk 12  2450 non-null   float64\n",
      " 13  Bulk 13  18 non-null     float64\n",
      " 14  Bulk 14  2806 non-null   float64\n",
      " 15  Bulk 15  2248 non-null   float64\n",
      "dtypes: float64(15), int64(1)\n",
      "memory usage: 391.2 KB\n",
      "None\n"
     ]
    },
    {
     "data": {
      "text/html": [
       "<div>\n",
       "<style scoped>\n",
       "    .dataframe tbody tr th:only-of-type {\n",
       "        vertical-align: middle;\n",
       "    }\n",
       "\n",
       "    .dataframe tbody tr th {\n",
       "        vertical-align: top;\n",
       "    }\n",
       "\n",
       "    .dataframe thead th {\n",
       "        text-align: right;\n",
       "    }\n",
       "</style>\n",
       "<table border=\"1\" class=\"dataframe\">\n",
       "  <thead>\n",
       "    <tr style=\"text-align: right;\">\n",
       "      <th></th>\n",
       "      <th>key</th>\n",
       "      <th>Bulk 1</th>\n",
       "      <th>Bulk 2</th>\n",
       "      <th>Bulk 3</th>\n",
       "      <th>Bulk 4</th>\n",
       "      <th>Bulk 5</th>\n",
       "      <th>Bulk 6</th>\n",
       "      <th>Bulk 7</th>\n",
       "      <th>Bulk 8</th>\n",
       "      <th>Bulk 9</th>\n",
       "      <th>Bulk 10</th>\n",
       "      <th>Bulk 11</th>\n",
       "      <th>Bulk 12</th>\n",
       "      <th>Bulk 13</th>\n",
       "      <th>Bulk 14</th>\n",
       "      <th>Bulk 15</th>\n",
       "    </tr>\n",
       "  </thead>\n",
       "  <tbody>\n",
       "    <tr>\n",
       "      <th>0</th>\n",
       "      <td>1</td>\n",
       "      <td>NaN</td>\n",
       "      <td>NaN</td>\n",
       "      <td>NaN</td>\n",
       "      <td>43.0</td>\n",
       "      <td>NaN</td>\n",
       "      <td>NaN</td>\n",
       "      <td>NaN</td>\n",
       "      <td>NaN</td>\n",
       "      <td>NaN</td>\n",
       "      <td>NaN</td>\n",
       "      <td>NaN</td>\n",
       "      <td>206.0</td>\n",
       "      <td>NaN</td>\n",
       "      <td>150.0</td>\n",
       "      <td>154.0</td>\n",
       "    </tr>\n",
       "    <tr>\n",
       "      <th>1</th>\n",
       "      <td>2</td>\n",
       "      <td>NaN</td>\n",
       "      <td>NaN</td>\n",
       "      <td>NaN</td>\n",
       "      <td>73.0</td>\n",
       "      <td>NaN</td>\n",
       "      <td>NaN</td>\n",
       "      <td>NaN</td>\n",
       "      <td>NaN</td>\n",
       "      <td>NaN</td>\n",
       "      <td>NaN</td>\n",
       "      <td>NaN</td>\n",
       "      <td>206.0</td>\n",
       "      <td>NaN</td>\n",
       "      <td>149.0</td>\n",
       "      <td>154.0</td>\n",
       "    </tr>\n",
       "    <tr>\n",
       "      <th>2</th>\n",
       "      <td>3</td>\n",
       "      <td>NaN</td>\n",
       "      <td>NaN</td>\n",
       "      <td>NaN</td>\n",
       "      <td>34.0</td>\n",
       "      <td>NaN</td>\n",
       "      <td>NaN</td>\n",
       "      <td>NaN</td>\n",
       "      <td>NaN</td>\n",
       "      <td>NaN</td>\n",
       "      <td>NaN</td>\n",
       "      <td>NaN</td>\n",
       "      <td>205.0</td>\n",
       "      <td>NaN</td>\n",
       "      <td>152.0</td>\n",
       "      <td>153.0</td>\n",
       "    </tr>\n",
       "  </tbody>\n",
       "</table>\n",
       "</div>"
      ],
      "text/plain": [
       "   key  Bulk 1  Bulk 2  Bulk 3  Bulk 4  Bulk 5  Bulk 6  Bulk 7  Bulk 8  \\\n",
       "0    1     NaN     NaN     NaN    43.0     NaN     NaN     NaN     NaN   \n",
       "1    2     NaN     NaN     NaN    73.0     NaN     NaN     NaN     NaN   \n",
       "2    3     NaN     NaN     NaN    34.0     NaN     NaN     NaN     NaN   \n",
       "\n",
       "   Bulk 9  Bulk 10  Bulk 11  Bulk 12  Bulk 13  Bulk 14  Bulk 15  \n",
       "0     NaN      NaN      NaN    206.0      NaN    150.0    154.0  \n",
       "1     NaN      NaN      NaN    206.0      NaN    149.0    154.0  \n",
       "2     NaN      NaN      NaN    205.0      NaN    152.0    153.0  "
      ]
     },
     "metadata": {},
     "output_type": "display_data"
    },
    {
     "name": "stdout",
     "output_type": "stream",
     "text": [
      "****** bulk_time : данные о подаче сыпучих материалов (время) ***********\n",
      "<class 'pandas.core.frame.DataFrame'>\n",
      "RangeIndex: 3129 entries, 0 to 3128\n",
      "Data columns (total 16 columns):\n",
      " #   Column   Non-Null Count  Dtype \n",
      "---  ------   --------------  ----- \n",
      " 0   key      3129 non-null   int64 \n",
      " 1   Bulk 1   252 non-null    object\n",
      " 2   Bulk 2   22 non-null     object\n",
      " 3   Bulk 3   1298 non-null   object\n",
      " 4   Bulk 4   1014 non-null   object\n",
      " 5   Bulk 5   77 non-null     object\n",
      " 6   Bulk 6   576 non-null    object\n",
      " 7   Bulk 7   25 non-null     object\n",
      " 8   Bulk 8   1 non-null      object\n",
      " 9   Bulk 9   19 non-null     object\n",
      " 10  Bulk 10  176 non-null    object\n",
      " 11  Bulk 11  177 non-null    object\n",
      " 12  Bulk 12  2450 non-null   object\n",
      " 13  Bulk 13  18 non-null     object\n",
      " 14  Bulk 14  2806 non-null   object\n",
      " 15  Bulk 15  2248 non-null   object\n",
      "dtypes: int64(1), object(15)\n",
      "memory usage: 391.2+ KB\n",
      "None\n"
     ]
    },
    {
     "data": {
      "text/html": [
       "<div>\n",
       "<style scoped>\n",
       "    .dataframe tbody tr th:only-of-type {\n",
       "        vertical-align: middle;\n",
       "    }\n",
       "\n",
       "    .dataframe tbody tr th {\n",
       "        vertical-align: top;\n",
       "    }\n",
       "\n",
       "    .dataframe thead th {\n",
       "        text-align: right;\n",
       "    }\n",
       "</style>\n",
       "<table border=\"1\" class=\"dataframe\">\n",
       "  <thead>\n",
       "    <tr style=\"text-align: right;\">\n",
       "      <th></th>\n",
       "      <th>key</th>\n",
       "      <th>Bulk 1</th>\n",
       "      <th>Bulk 2</th>\n",
       "      <th>Bulk 3</th>\n",
       "      <th>Bulk 4</th>\n",
       "      <th>Bulk 5</th>\n",
       "      <th>Bulk 6</th>\n",
       "      <th>Bulk 7</th>\n",
       "      <th>Bulk 8</th>\n",
       "      <th>Bulk 9</th>\n",
       "      <th>Bulk 10</th>\n",
       "      <th>Bulk 11</th>\n",
       "      <th>Bulk 12</th>\n",
       "      <th>Bulk 13</th>\n",
       "      <th>Bulk 14</th>\n",
       "      <th>Bulk 15</th>\n",
       "    </tr>\n",
       "  </thead>\n",
       "  <tbody>\n",
       "    <tr>\n",
       "      <th>0</th>\n",
       "      <td>1</td>\n",
       "      <td>NaN</td>\n",
       "      <td>NaN</td>\n",
       "      <td>NaN</td>\n",
       "      <td>2019-05-03 11:21:30</td>\n",
       "      <td>NaN</td>\n",
       "      <td>NaN</td>\n",
       "      <td>NaN</td>\n",
       "      <td>NaN</td>\n",
       "      <td>NaN</td>\n",
       "      <td>NaN</td>\n",
       "      <td>NaN</td>\n",
       "      <td>2019-05-03 11:03:52</td>\n",
       "      <td>NaN</td>\n",
       "      <td>2019-05-03 11:03:52</td>\n",
       "      <td>2019-05-03 11:03:52</td>\n",
       "    </tr>\n",
       "    <tr>\n",
       "      <th>1</th>\n",
       "      <td>2</td>\n",
       "      <td>NaN</td>\n",
       "      <td>NaN</td>\n",
       "      <td>NaN</td>\n",
       "      <td>2019-05-03 11:46:38</td>\n",
       "      <td>NaN</td>\n",
       "      <td>NaN</td>\n",
       "      <td>NaN</td>\n",
       "      <td>NaN</td>\n",
       "      <td>NaN</td>\n",
       "      <td>NaN</td>\n",
       "      <td>NaN</td>\n",
       "      <td>2019-05-03 11:40:20</td>\n",
       "      <td>NaN</td>\n",
       "      <td>2019-05-03 11:40:20</td>\n",
       "      <td>2019-05-03 11:40:20</td>\n",
       "    </tr>\n",
       "    <tr>\n",
       "      <th>2</th>\n",
       "      <td>3</td>\n",
       "      <td>NaN</td>\n",
       "      <td>NaN</td>\n",
       "      <td>NaN</td>\n",
       "      <td>2019-05-03 12:31:06</td>\n",
       "      <td>NaN</td>\n",
       "      <td>NaN</td>\n",
       "      <td>NaN</td>\n",
       "      <td>NaN</td>\n",
       "      <td>NaN</td>\n",
       "      <td>NaN</td>\n",
       "      <td>NaN</td>\n",
       "      <td>2019-05-03 12:09:40</td>\n",
       "      <td>NaN</td>\n",
       "      <td>2019-05-03 12:09:40</td>\n",
       "      <td>2019-05-03 12:09:40</td>\n",
       "    </tr>\n",
       "  </tbody>\n",
       "</table>\n",
       "</div>"
      ],
      "text/plain": [
       "   key Bulk 1 Bulk 2 Bulk 3               Bulk 4 Bulk 5 Bulk 6 Bulk 7 Bulk 8  \\\n",
       "0    1    NaN    NaN    NaN  2019-05-03 11:21:30    NaN    NaN    NaN    NaN   \n",
       "1    2    NaN    NaN    NaN  2019-05-03 11:46:38    NaN    NaN    NaN    NaN   \n",
       "2    3    NaN    NaN    NaN  2019-05-03 12:31:06    NaN    NaN    NaN    NaN   \n",
       "\n",
       "  Bulk 9 Bulk 10 Bulk 11              Bulk 12 Bulk 13              Bulk 14  \\\n",
       "0    NaN     NaN     NaN  2019-05-03 11:03:52     NaN  2019-05-03 11:03:52   \n",
       "1    NaN     NaN     NaN  2019-05-03 11:40:20     NaN  2019-05-03 11:40:20   \n",
       "2    NaN     NaN     NaN  2019-05-03 12:09:40     NaN  2019-05-03 12:09:40   \n",
       "\n",
       "               Bulk 15  \n",
       "0  2019-05-03 11:03:52  \n",
       "1  2019-05-03 11:40:20  \n",
       "2  2019-05-03 12:09:40  "
      ]
     },
     "metadata": {},
     "output_type": "display_data"
    },
    {
     "name": "stdout",
     "output_type": "stream",
     "text": [
      "****** gas : данные о продувке сплава газом ***********\n",
      "<class 'pandas.core.frame.DataFrame'>\n",
      "RangeIndex: 3239 entries, 0 to 3238\n",
      "Data columns (total 2 columns):\n",
      " #   Column  Non-Null Count  Dtype  \n",
      "---  ------  --------------  -----  \n",
      " 0   key     3239 non-null   int64  \n",
      " 1   Газ 1   3239 non-null   float64\n",
      "dtypes: float64(1), int64(1)\n",
      "memory usage: 50.7 KB\n",
      "None\n"
     ]
    },
    {
     "data": {
      "text/html": [
       "<div>\n",
       "<style scoped>\n",
       "    .dataframe tbody tr th:only-of-type {\n",
       "        vertical-align: middle;\n",
       "    }\n",
       "\n",
       "    .dataframe tbody tr th {\n",
       "        vertical-align: top;\n",
       "    }\n",
       "\n",
       "    .dataframe thead th {\n",
       "        text-align: right;\n",
       "    }\n",
       "</style>\n",
       "<table border=\"1\" class=\"dataframe\">\n",
       "  <thead>\n",
       "    <tr style=\"text-align: right;\">\n",
       "      <th></th>\n",
       "      <th>key</th>\n",
       "      <th>Газ 1</th>\n",
       "    </tr>\n",
       "  </thead>\n",
       "  <tbody>\n",
       "    <tr>\n",
       "      <th>0</th>\n",
       "      <td>1</td>\n",
       "      <td>29.749986</td>\n",
       "    </tr>\n",
       "    <tr>\n",
       "      <th>1</th>\n",
       "      <td>2</td>\n",
       "      <td>12.555561</td>\n",
       "    </tr>\n",
       "    <tr>\n",
       "      <th>2</th>\n",
       "      <td>3</td>\n",
       "      <td>28.554793</td>\n",
       "    </tr>\n",
       "  </tbody>\n",
       "</table>\n",
       "</div>"
      ],
      "text/plain": [
       "   key      Газ 1\n",
       "0    1  29.749986\n",
       "1    2  12.555561\n",
       "2    3  28.554793"
      ]
     },
     "metadata": {},
     "output_type": "display_data"
    },
    {
     "name": "stdout",
     "output_type": "stream",
     "text": [
      "****** temp : результаты измерения температуры ***********\n",
      "<class 'pandas.core.frame.DataFrame'>\n",
      "RangeIndex: 15907 entries, 0 to 15906\n",
      "Data columns (total 3 columns):\n",
      " #   Column        Non-Null Count  Dtype  \n",
      "---  ------        --------------  -----  \n",
      " 0   key           15907 non-null  int64  \n",
      " 1   Время замера  15907 non-null  object \n",
      " 2   Температура   13006 non-null  float64\n",
      "dtypes: float64(1), int64(1), object(1)\n",
      "memory usage: 372.9+ KB\n",
      "None\n"
     ]
    },
    {
     "data": {
      "text/html": [
       "<div>\n",
       "<style scoped>\n",
       "    .dataframe tbody tr th:only-of-type {\n",
       "        vertical-align: middle;\n",
       "    }\n",
       "\n",
       "    .dataframe tbody tr th {\n",
       "        vertical-align: top;\n",
       "    }\n",
       "\n",
       "    .dataframe thead th {\n",
       "        text-align: right;\n",
       "    }\n",
       "</style>\n",
       "<table border=\"1\" class=\"dataframe\">\n",
       "  <thead>\n",
       "    <tr style=\"text-align: right;\">\n",
       "      <th></th>\n",
       "      <th>key</th>\n",
       "      <th>Время замера</th>\n",
       "      <th>Температура</th>\n",
       "    </tr>\n",
       "  </thead>\n",
       "  <tbody>\n",
       "    <tr>\n",
       "      <th>0</th>\n",
       "      <td>1</td>\n",
       "      <td>2019-05-03 11:16:18</td>\n",
       "      <td>1571.0</td>\n",
       "    </tr>\n",
       "    <tr>\n",
       "      <th>1</th>\n",
       "      <td>1</td>\n",
       "      <td>2019-05-03 11:25:53</td>\n",
       "      <td>1604.0</td>\n",
       "    </tr>\n",
       "    <tr>\n",
       "      <th>2</th>\n",
       "      <td>1</td>\n",
       "      <td>2019-05-03 11:29:11</td>\n",
       "      <td>1618.0</td>\n",
       "    </tr>\n",
       "  </tbody>\n",
       "</table>\n",
       "</div>"
      ],
      "text/plain": [
       "   key         Время замера  Температура\n",
       "0    1  2019-05-03 11:16:18       1571.0\n",
       "1    1  2019-05-03 11:25:53       1604.0\n",
       "2    1  2019-05-03 11:29:11       1618.0"
      ]
     },
     "metadata": {},
     "output_type": "display_data"
    },
    {
     "name": "stdout",
     "output_type": "stream",
     "text": [
      "****** wire : данные о проволочных материалах (объём) ***********\n",
      "<class 'pandas.core.frame.DataFrame'>\n",
      "RangeIndex: 3081 entries, 0 to 3080\n",
      "Data columns (total 10 columns):\n",
      " #   Column  Non-Null Count  Dtype  \n",
      "---  ------  --------------  -----  \n",
      " 0   key     3081 non-null   int64  \n",
      " 1   Wire 1  3055 non-null   float64\n",
      " 2   Wire 2  1079 non-null   float64\n",
      " 3   Wire 3  63 non-null     float64\n",
      " 4   Wire 4  14 non-null     float64\n",
      " 5   Wire 5  1 non-null      float64\n",
      " 6   Wire 6  73 non-null     float64\n",
      " 7   Wire 7  11 non-null     float64\n",
      " 8   Wire 8  19 non-null     float64\n",
      " 9   Wire 9  29 non-null     float64\n",
      "dtypes: float64(9), int64(1)\n",
      "memory usage: 240.8 KB\n",
      "None\n"
     ]
    },
    {
     "data": {
      "text/html": [
       "<div>\n",
       "<style scoped>\n",
       "    .dataframe tbody tr th:only-of-type {\n",
       "        vertical-align: middle;\n",
       "    }\n",
       "\n",
       "    .dataframe tbody tr th {\n",
       "        vertical-align: top;\n",
       "    }\n",
       "\n",
       "    .dataframe thead th {\n",
       "        text-align: right;\n",
       "    }\n",
       "</style>\n",
       "<table border=\"1\" class=\"dataframe\">\n",
       "  <thead>\n",
       "    <tr style=\"text-align: right;\">\n",
       "      <th></th>\n",
       "      <th>key</th>\n",
       "      <th>Wire 1</th>\n",
       "      <th>Wire 2</th>\n",
       "      <th>Wire 3</th>\n",
       "      <th>Wire 4</th>\n",
       "      <th>Wire 5</th>\n",
       "      <th>Wire 6</th>\n",
       "      <th>Wire 7</th>\n",
       "      <th>Wire 8</th>\n",
       "      <th>Wire 9</th>\n",
       "    </tr>\n",
       "  </thead>\n",
       "  <tbody>\n",
       "    <tr>\n",
       "      <th>0</th>\n",
       "      <td>1</td>\n",
       "      <td>60.059998</td>\n",
       "      <td>NaN</td>\n",
       "      <td>NaN</td>\n",
       "      <td>NaN</td>\n",
       "      <td>NaN</td>\n",
       "      <td>NaN</td>\n",
       "      <td>NaN</td>\n",
       "      <td>NaN</td>\n",
       "      <td>NaN</td>\n",
       "    </tr>\n",
       "    <tr>\n",
       "      <th>1</th>\n",
       "      <td>2</td>\n",
       "      <td>96.052315</td>\n",
       "      <td>NaN</td>\n",
       "      <td>NaN</td>\n",
       "      <td>NaN</td>\n",
       "      <td>NaN</td>\n",
       "      <td>NaN</td>\n",
       "      <td>NaN</td>\n",
       "      <td>NaN</td>\n",
       "      <td>NaN</td>\n",
       "    </tr>\n",
       "    <tr>\n",
       "      <th>2</th>\n",
       "      <td>3</td>\n",
       "      <td>91.160157</td>\n",
       "      <td>NaN</td>\n",
       "      <td>NaN</td>\n",
       "      <td>NaN</td>\n",
       "      <td>NaN</td>\n",
       "      <td>NaN</td>\n",
       "      <td>NaN</td>\n",
       "      <td>NaN</td>\n",
       "      <td>NaN</td>\n",
       "    </tr>\n",
       "  </tbody>\n",
       "</table>\n",
       "</div>"
      ],
      "text/plain": [
       "   key     Wire 1  Wire 2  Wire 3  Wire 4  Wire 5  Wire 6  Wire 7  Wire 8  \\\n",
       "0    1  60.059998     NaN     NaN     NaN     NaN     NaN     NaN     NaN   \n",
       "1    2  96.052315     NaN     NaN     NaN     NaN     NaN     NaN     NaN   \n",
       "2    3  91.160157     NaN     NaN     NaN     NaN     NaN     NaN     NaN   \n",
       "\n",
       "   Wire 9  \n",
       "0     NaN  \n",
       "1     NaN  \n",
       "2     NaN  "
      ]
     },
     "metadata": {},
     "output_type": "display_data"
    },
    {
     "name": "stdout",
     "output_type": "stream",
     "text": [
      "****** wire_time : данные о проволочных материалах (время) ***********\n",
      "<class 'pandas.core.frame.DataFrame'>\n",
      "RangeIndex: 3081 entries, 0 to 3080\n",
      "Data columns (total 10 columns):\n",
      " #   Column  Non-Null Count  Dtype \n",
      "---  ------  --------------  ----- \n",
      " 0   key     3081 non-null   int64 \n",
      " 1   Wire 1  3055 non-null   object\n",
      " 2   Wire 2  1079 non-null   object\n",
      " 3   Wire 3  63 non-null     object\n",
      " 4   Wire 4  14 non-null     object\n",
      " 5   Wire 5  1 non-null      object\n",
      " 6   Wire 6  73 non-null     object\n",
      " 7   Wire 7  11 non-null     object\n",
      " 8   Wire 8  19 non-null     object\n",
      " 9   Wire 9  29 non-null     object\n",
      "dtypes: int64(1), object(9)\n",
      "memory usage: 240.8+ KB\n",
      "None\n"
     ]
    },
    {
     "data": {
      "text/html": [
       "<div>\n",
       "<style scoped>\n",
       "    .dataframe tbody tr th:only-of-type {\n",
       "        vertical-align: middle;\n",
       "    }\n",
       "\n",
       "    .dataframe tbody tr th {\n",
       "        vertical-align: top;\n",
       "    }\n",
       "\n",
       "    .dataframe thead th {\n",
       "        text-align: right;\n",
       "    }\n",
       "</style>\n",
       "<table border=\"1\" class=\"dataframe\">\n",
       "  <thead>\n",
       "    <tr style=\"text-align: right;\">\n",
       "      <th></th>\n",
       "      <th>key</th>\n",
       "      <th>Wire 1</th>\n",
       "      <th>Wire 2</th>\n",
       "      <th>Wire 3</th>\n",
       "      <th>Wire 4</th>\n",
       "      <th>Wire 5</th>\n",
       "      <th>Wire 6</th>\n",
       "      <th>Wire 7</th>\n",
       "      <th>Wire 8</th>\n",
       "      <th>Wire 9</th>\n",
       "    </tr>\n",
       "  </thead>\n",
       "  <tbody>\n",
       "    <tr>\n",
       "      <th>0</th>\n",
       "      <td>1</td>\n",
       "      <td>2019-05-03 11:11:41</td>\n",
       "      <td>NaN</td>\n",
       "      <td>NaN</td>\n",
       "      <td>NaN</td>\n",
       "      <td>NaN</td>\n",
       "      <td>NaN</td>\n",
       "      <td>NaN</td>\n",
       "      <td>NaN</td>\n",
       "      <td>NaN</td>\n",
       "    </tr>\n",
       "    <tr>\n",
       "      <th>1</th>\n",
       "      <td>2</td>\n",
       "      <td>2019-05-03 11:46:10</td>\n",
       "      <td>NaN</td>\n",
       "      <td>NaN</td>\n",
       "      <td>NaN</td>\n",
       "      <td>NaN</td>\n",
       "      <td>NaN</td>\n",
       "      <td>NaN</td>\n",
       "      <td>NaN</td>\n",
       "      <td>NaN</td>\n",
       "    </tr>\n",
       "    <tr>\n",
       "      <th>2</th>\n",
       "      <td>3</td>\n",
       "      <td>2019-05-03 12:13:47</td>\n",
       "      <td>NaN</td>\n",
       "      <td>NaN</td>\n",
       "      <td>NaN</td>\n",
       "      <td>NaN</td>\n",
       "      <td>NaN</td>\n",
       "      <td>NaN</td>\n",
       "      <td>NaN</td>\n",
       "      <td>NaN</td>\n",
       "    </tr>\n",
       "  </tbody>\n",
       "</table>\n",
       "</div>"
      ],
      "text/plain": [
       "   key               Wire 1 Wire 2 Wire 3 Wire 4 Wire 5 Wire 6 Wire 7 Wire 8  \\\n",
       "0    1  2019-05-03 11:11:41    NaN    NaN    NaN    NaN    NaN    NaN    NaN   \n",
       "1    2  2019-05-03 11:46:10    NaN    NaN    NaN    NaN    NaN    NaN    NaN   \n",
       "2    3  2019-05-03 12:13:47    NaN    NaN    NaN    NaN    NaN    NaN    NaN   \n",
       "\n",
       "  Wire 9  \n",
       "0    NaN  \n",
       "1    NaN  \n",
       "2    NaN  "
      ]
     },
     "metadata": {},
     "output_type": "display_data"
    }
   ],
   "source": [
    "# посмотрим на данные\n",
    "for df_name in data:\n",
    "    print(f'****** {df_name} : {data_description[df_name]} ***********')\n",
    "    print(data[df_name].info())\n",
    "    display(data[df_name].head(3))"
   ]
  },
  {
   "cell_type": "markdown",
   "metadata": {},
   "source": [
    "## 1. Выводы после ознакомления с данными.\n",
    "- Предоставлены данные о 14876 сеансах нагрева, для каждого сеанса - время включения, время выключения, средняя потребленная мощность.\n",
    "- Предоставлены данные 15907 операциях измерения температуры, но данные об измеренной температуре есть только для 13006 операций, пропущено почти 3000 значений температуры (при этом время замера есть). \n",
    "- Сразу бросается в глаза большое кол-во пропусков в данных о подаче сыпучих материалов и проволочных материалов. Однако даже беглый взгляд на данные позволяет предположить, что речь идет не о реальных пропусках, а об особенностях структуры данных. В определенные моменты времени в металл добавляются те или иные вещества (легирующие присадки) либо в виде сыпучих материалов, либо в виде проволоки. В заданный момент времени производится подача только определенных материалов, что обусловлено текущим составом расплава и целевым составом стали. Соответственно, в данных об операциях подачи сыпучих материалов и проволочных материалов должны быть пропуски для всех тех добавок, которые не использовались в данной операции. Таким образом, предоставлены данные о 3129 операциях подачи сыпучих материалов и о 3081 операции подачи проволоки.\n",
    "- Предоставлены данные о 3239 операции продувки газом. Бросается в глаза, что для операций продувки газом нет данных о времени операции. Исходя из предоставленного нам описания процесса, обдувка производится не постоянно, а в моменты добавления присадок. С этим предстоит разобраться.\n",
    "- Судя по кол-ву операций легирования и обдува, нам предоставлены данные о примерно 3200 партиях металла (уникальных key). Соответственно, каждую партию несколько раз нагревают и несколько раз измеряют температуру. С этим также предстоит разобраться.\n",
    "- Все поля datetime в данных зачитались как object. Их необходимо преобразовать."
   ]
  },
  {
   "cell_type": "markdown",
   "metadata": {},
   "source": [
    "## 2. Исследовательский анализ данных."
   ]
  },
  {
   "cell_type": "markdown",
   "metadata": {},
   "source": [
    "#### 2.1. Преобразуем datetime данные типа object в тип datetime."
   ]
  },
  {
   "cell_type": "code",
   "execution_count": 5,
   "metadata": {},
   "outputs": [],
   "source": [
    "# так как все столбцы типа object содержат только данные типа datetime, \n",
    "# для преобразования просто выберем object столбцы и преобразуем их в datetime\n",
    "for df_name in data:\n",
    "    object_columns = data[df_name].columns[data[df_name].dtypes == 'object']\n",
    "    for col in object_columns:\n",
    "        data[df_name][col] = pd.to_datetime(data[df_name][col])"
   ]
  },
  {
   "cell_type": "markdown",
   "metadata": {},
   "source": [
    "#### 2.2. Структура данных."
   ]
  },
  {
   "cell_type": "markdown",
   "metadata": {},
   "source": [
    "На этапе ознакомления с данными возникло предположение о том, что в таблицах bulk, bulk_time, wire, wire_time и gas каждая запись соответствует какой-то конкретной партии металла (уникальному key) Убедимся в том, что все операции легирования и обдува интертным газом в конкретной партии металла (уникальный key) представлены всего только одной строкой в этих таблицах."
   ]
  },
  {
   "cell_type": "code",
   "execution_count": 6,
   "metadata": {
    "scrolled": false
   },
   "outputs": [
    {
     "name": "stdout",
     "output_type": "stream",
     "text": [
      "Кол-во записей для каждого уникального key в таблице bulk\n",
      "2047    1\n",
      "1070    1\n",
      "1092    1\n",
      "3139    1\n",
      "1090    1\n",
      "       ..\n",
      "2590    1\n",
      "541     1\n",
      "2588    1\n",
      "539     1\n",
      "2049    1\n",
      "Name: key, Length: 3129, dtype: int64\n",
      "\n",
      "Кол-во записей для каждого уникального key в таблице bulk_time\n",
      "2047    1\n",
      "1070    1\n",
      "1092    1\n",
      "3139    1\n",
      "1090    1\n",
      "       ..\n",
      "2590    1\n",
      "541     1\n",
      "2588    1\n",
      "539     1\n",
      "2049    1\n",
      "Name: key, Length: 3129, dtype: int64\n",
      "\n",
      "Кол-во записей для каждого уникального key в таблице wire\n",
      "2047    1\n",
      "1022    1\n",
      "1092    1\n",
      "3139    1\n",
      "1090    1\n",
      "       ..\n",
      "2592    1\n",
      "543     1\n",
      "2590    1\n",
      "541     1\n",
      "2049    1\n",
      "Name: key, Length: 3081, dtype: int64\n",
      "\n",
      "Кол-во записей для каждого уникального key в таблице wire_time\n",
      "2047    1\n",
      "1022    1\n",
      "1092    1\n",
      "3139    1\n",
      "1090    1\n",
      "       ..\n",
      "2592    1\n",
      "543     1\n",
      "2590    1\n",
      "541     1\n",
      "2049    1\n",
      "Name: key, Length: 3081, dtype: int64\n",
      "\n",
      "Кол-во записей для каждого уникального key в таблице gas\n",
      "2047    1\n",
      "2580    1\n",
      "2600    1\n",
      "549     1\n",
      "2596    1\n",
      "       ..\n",
      "3119    1\n",
      "1070    1\n",
      "3115    1\n",
      "1066    1\n",
      "2049    1\n",
      "Name: key, Length: 3239, dtype: int64\n",
      "\n"
     ]
    }
   ],
   "source": [
    "for df_name in ['bulk', 'bulk_time', 'wire', 'wire_time', 'gas']: \n",
    "    print(f'Кол-во записей для каждого уникального key в таблице {df_name}')\n",
    "    print(data[df_name]['key'].value_counts())\n",
    "    print()"
   ]
  },
  {
   "cell_type": "markdown",
   "metadata": {},
   "source": [
    "Итак, понятно, что каждая партия металла во время обработки подвергается нескольким операциям нагрева, нескольким измерениям температуры и нескольким операциям легирования. Исходя из знания физики, понятно, что на температуру расплава могут влиять только следующие факторы:\n",
    "- Получение тепла. Получаемое расплавом тепло пропорционально длительности нагрева и активной мощности нагрева, по физическому определению мощности, фактором влияния на температуру являются не два этих признака по отдельности, а их произведение.\n",
    "- Изменение массы. Каждый раз при добавлении присадок происходит смешение основной нагретой массы металла и небольшого кол-ва ненагретого вещества присадок. Насколько мне известно, легирование не является химической реакцией, то есть не сопровождается выделением или поглощением тепла. Даже если это не так на 100%, исходя из полученных нами данных, понятно, что мы вынуждены сделать именно такое предположение, поскольку нам не предоставлены данные о химическом составе присадок, при этом некоторые присадки добавляются очень редко, если бы надо было учитывать химическую реакцию с выделением/поглощением тепла, требовалось бы гораздо больше данных об изменениях температуры из-за химической реакции с участием конкретных присадок. Соответственно, мы можем считать, что изменение температуры при операции добавления присадок происходит только за счет смешения нагретого металла и ненагретых присадок. Соответственно, нам не надо учитывать какая именно присадка добавлена, достаточно только общее кол-во, момент времени и состояние присадки (wire/bulk).\n",
    "- Рассеяние тепла. Тепло рассеивается со временем - горячие предметы со временем остывают, их температура приходит в равновесие с температурой окружающей среды. Соответственно, на температуру металла должно влиять время. Процесс остывания можно ускорить, например, обдувая горячий металл более холодным газом. Соответственно, на температуру должны влиять и параметры обдува. Остался неясным вопрос, когда именно производится обдув расплава."
   ]
  },
  {
   "cell_type": "markdown",
   "metadata": {},
   "source": [
    "Сформированное представление о структуре предоставленных данных хотелось бы визуализировать, чтобы убедиться в правильности этого представления и лучше представить характеристики данных. Для этого создадим функцию, выводящую все операции над конкретной партией металла на один временной график."
   ]
  },
  {
   "cell_type": "code",
   "execution_count": 7,
   "metadata": {},
   "outputs": [],
   "source": [
    "def supplement_operations(df, key):\n",
    "    supplement_times = df[df['key'] == key]\n",
    "    if len(supplement_times) == 1:\n",
    "        supplement_times = supplement_times.drop(columns='key').iloc[0,:].dropna().drop_duplicates()\n",
    "    else:\n",
    "        supplement_times = pd.Series(dtype='datetime64[ns]')\n",
    "    return supplement_times  \n",
    "\n",
    "def show_process(key):\n",
    "    # для заданной партии металл\n",
    "    #  извлечем последовательность времен измерения температуры\n",
    "    temp_times = data['temp'][data['temp']['key'] == key]['Время замера']\n",
    "    # и соответствующую последовательность величины измеренной температуры\n",
    "    temp_values = data['temp'][data['temp']['key'] == key]['Температура']\n",
    "    # у нас есть пропуски в измерениях температуры, но для выводы временных отметок, заполним пропуски 0\n",
    "    temp_values = temp_values.fillna(0)\n",
    "    # извлечем последовательность времени старта нагрева\n",
    "    start_times = data['arc'][data['arc']['key'] == key]['Начало нагрева дугой']\n",
    "    # извлечем последовательность времени финиша нагрева\n",
    "    finish_times = data['arc'][data['arc']['key'] == key]['Конец нагрева дугой']\n",
    "    \n",
    "    # теперь извлечем последовательность времен добавки присадок из проволоки и сыпучих материалов\n",
    "    # используем известный нам факт, что в таблице добавки присадок для каждой партии есть только одна запись\n",
    "    wire_times = supplement_operations(data['wire_time'], key)\n",
    "    bulk_times = supplement_operations(data['bulk_time'], key)\n",
    "    \n",
    "    # определим точку отсчета времени (самое раняя операция из всех у нас имеющихся)\n",
    "    process_start = min([temp_times.min(), start_times.min()])\n",
    "    \n",
    "    # теперь все временные точки преобразуем в длительность в секундах с момента process_start\n",
    "    temp_times = (temp_times - process_start).dt.seconds\n",
    "    start_times = (start_times - process_start).dt.seconds\n",
    "    finish_times = (finish_times - process_start).dt.seconds\n",
    "    wire_times = (wire_times - process_start).dt.seconds\n",
    "    bulk_times = (bulk_times - process_start).dt.seconds\n",
    "    \n",
    "    # нарисуем график измеренной температуры во времени\n",
    "    fig, ax = plt.subplots(figsize=(16,2))\n",
    "    ax.plot(temp_times, temp_values, marker='o')\n",
    "    \n",
    "    # нарисуем периоды нагрева\n",
    "    for i in start_times.index:\n",
    "        ax.axvspan(start_times[i], finish_times[i], color='red', alpha=0.2)\n",
    "    \n",
    "    # нарисуем операции добавления присадок\n",
    "    for time in wire_times:\n",
    "        ax.axvline(time, color='green')\n",
    "    for time in bulk_times:\n",
    "        ax.axvline(time, color='lime')\n",
    "    plt.grid()\n",
    "    plt.xlim(left=0)\n",
    "    plt.title(f'Партия {key}, синяя кривая -измерение температуры, зеленые -wire присадки, лайм -bulk присадки, красные области -нагрев')\n",
    "    plt.xlabel('Время в секундах с момента первой операции с партией металла')\n",
    "    plt.ylabel('Температура')\n",
    "    plt.show()"
   ]
  },
  {
   "cell_type": "code",
   "execution_count": 8,
   "metadata": {
    "scrolled": false
   },
   "outputs": [
    {
     "data": {
      "image/png": "[encoded data removed]",
      "text/plain": [
       "<Figure size 1152x144 with 1 Axes>"
      ]
     },
     "metadata": {
      "needs_background": "light"
     },
     "output_type": "display_data"
    },
    {
     "data": {
      "image/png": "[encoded data removed]",
      "text/plain": [
       "<Figure size 1152x144 with 1 Axes>"
      ]
     },
     "metadata": {
      "needs_background": "light"
     },
     "output_type": "display_data"
    },
    {
     "data": {
      "image/png": "[encoded data removed]",
      "text/plain": [
       "<Figure size 1152x144 with 1 Axes>"
      ]
     },
     "metadata": {
      "needs_background": "light"
     },
     "output_type": "display_data"
    },
    {
     "data": {
      "image/png": "[encoded data removed]",
      "text/plain": [
       "<Figure size 1152x144 with 1 Axes>"
      ]
     },
     "metadata": {
      "needs_background": "light"
     },
     "output_type": "display_data"
    },
    {
     "data": {
      "image/png": "[encoded data removed]",
      "text/plain": [
       "<Figure size 1152x144 with 1 Axes>"
      ]
     },
     "metadata": {
      "needs_background": "light"
     },
     "output_type": "display_data"
    },
    {
     "data": {
      "image/png": "[encoded data removed]",
      "text/plain": [
       "<Figure size 1152x144 with 1 Axes>"
      ]
     },
     "metadata": {
      "needs_background": "light"
     },
     "output_type": "display_data"
    }
   ],
   "source": [
    "# изобразим временную диаграмму обработки партии металла для нескольких случайно выбранных партий\n",
    "for key in [1, 12, 23, 52, 679, 2004]:\n",
    "    show_process(key)"
   ]
  },
  {
   "cell_type": "markdown",
   "metadata": {},
   "source": [
    "####  Выводы после визуализации процессов обработки партии металла:\n",
    "- Подтверждается тезис, что нагрев вносит основной вклад в повышение температуры.\n",
    "- Подтверждается тезис, что остывание металла со временем вносит существенный вклад в снижение температуры - на графиках есть отрезки измерения температуры без каких-либо операций между ними, температура на этих отрезках снижается.\n",
    "- Есть несколько примечательных участков, когда температура между измерениями изменяется, но это нельзя объяснить имеющимися у нас данными (партия №1 - в самом конце резкое снижение и такой же резкий подъем температуры, партия №12 - резкое снижение температуры в конце). Это факты могут быть обусловлены двумя причинами:\n",
    "    - измерение температуры не точно, и наблюдаемые нами аномалии следствие случайной ошибки измерений (мне представляется это объяснение самым вероятным)\n",
    "    - обдув металла инертным газом происходит в указанные аномальные промежутки (этому объяснению противоречат аномальные участки в партии №1, когда температура изменялась разнонаправленно)"
   ]
  },
  {
   "cell_type": "markdown",
   "metadata": {},
   "source": [
    "#### 2.3.  Исследование пропусков в измерениях температуры."
   ]
  },
  {
   "cell_type": "markdown",
   "metadata": {},
   "source": [
    "Измеренная температура является нашим целевым признаком. Таких пропусков достаточно много. Изучим их внимательно. "
   ]
  },
  {
   "cell_type": "code",
   "execution_count": 9,
   "metadata": {
    "scrolled": false
   },
   "outputs": [
    {
     "data": {
      "text/html": [
       "<div>\n",
       "<style scoped>\n",
       "    .dataframe tbody tr th:only-of-type {\n",
       "        vertical-align: middle;\n",
       "    }\n",
       "\n",
       "    .dataframe tbody tr th {\n",
       "        vertical-align: top;\n",
       "    }\n",
       "\n",
       "    .dataframe thead th {\n",
       "        text-align: right;\n",
       "    }\n",
       "</style>\n",
       "<table border=\"1\" class=\"dataframe\">\n",
       "  <thead>\n",
       "    <tr style=\"text-align: right;\">\n",
       "      <th></th>\n",
       "      <th>Температура</th>\n",
       "    </tr>\n",
       "    <tr>\n",
       "      <th>key</th>\n",
       "      <th></th>\n",
       "    </tr>\n",
       "  </thead>\n",
       "  <tbody>\n",
       "    <tr>\n",
       "      <th>3033</th>\n",
       "      <td>1.0</td>\n",
       "    </tr>\n",
       "    <tr>\n",
       "      <th>3165</th>\n",
       "      <td>1.0</td>\n",
       "    </tr>\n",
       "    <tr>\n",
       "      <th>3046</th>\n",
       "      <td>1.0</td>\n",
       "    </tr>\n",
       "    <tr>\n",
       "      <th>2620</th>\n",
       "      <td>1.0</td>\n",
       "    </tr>\n",
       "    <tr>\n",
       "      <th>3047</th>\n",
       "      <td>1.0</td>\n",
       "    </tr>\n",
       "    <tr>\n",
       "      <th>...</th>\n",
       "      <td>...</td>\n",
       "    </tr>\n",
       "    <tr>\n",
       "      <th>2829</th>\n",
       "      <td>10.0</td>\n",
       "    </tr>\n",
       "    <tr>\n",
       "      <th>2564</th>\n",
       "      <td>11.0</td>\n",
       "    </tr>\n",
       "    <tr>\n",
       "      <th>2916</th>\n",
       "      <td>11.0</td>\n",
       "    </tr>\n",
       "    <tr>\n",
       "      <th>2770</th>\n",
       "      <td>12.0</td>\n",
       "    </tr>\n",
       "    <tr>\n",
       "      <th>2567</th>\n",
       "      <td>12.0</td>\n",
       "    </tr>\n",
       "  </tbody>\n",
       "</table>\n",
       "<p>739 rows × 1 columns</p>\n",
       "</div>"
      ],
      "text/plain": [
       "      Температура\n",
       "key              \n",
       "3033          1.0\n",
       "3165          1.0\n",
       "3046          1.0\n",
       "2620          1.0\n",
       "3047          1.0\n",
       "...           ...\n",
       "2829         10.0\n",
       "2564         11.0\n",
       "2916         11.0\n",
       "2770         12.0\n",
       "2567         12.0\n",
       "\n",
       "[739 rows x 1 columns]"
      ]
     },
     "execution_count": 9,
     "metadata": {},
     "output_type": "execute_result"
    }
   ],
   "source": [
    "# сгруппируем данные с пропусками температуры по полю key\n",
    "data_temp_missed = data['temp'][data['temp']['Температура'].isna()].groupby('key').agg({'Температура':len})\n",
    "data_temp_missed.sort_values(by='Температура')"
   ]
  },
  {
   "cell_type": "markdown",
   "metadata": {},
   "source": [
    "Уникальных key c пропусками гораздо больше, чем пропущенных измерений температуры, примерно в 4 раза, что опять же примерно соответствует соотношению между общим кол-вом измерений температуры и кол-вом партий металла. Проверим - возможно, все пропуски измерений температуры относятся к тем партиям, в которых не было ни одного корректного измерения температуры. "
   ]
  },
  {
   "cell_type": "code",
   "execution_count": 10,
   "metadata": {
    "scrolled": false
   },
   "outputs": [
    {
     "data": {
      "text/html": [
       "<div>\n",
       "<style scoped>\n",
       "    .dataframe tbody tr th:only-of-type {\n",
       "        vertical-align: middle;\n",
       "    }\n",
       "\n",
       "    .dataframe tbody tr th {\n",
       "        vertical-align: top;\n",
       "    }\n",
       "\n",
       "    .dataframe thead th {\n",
       "        text-align: right;\n",
       "    }\n",
       "</style>\n",
       "<table border=\"1\" class=\"dataframe\">\n",
       "  <thead>\n",
       "    <tr style=\"text-align: right;\">\n",
       "      <th></th>\n",
       "      <th>Температура</th>\n",
       "    </tr>\n",
       "    <tr>\n",
       "      <th>key</th>\n",
       "      <th></th>\n",
       "    </tr>\n",
       "  </thead>\n",
       "  <tbody>\n",
       "    <tr>\n",
       "      <th>1</th>\n",
       "      <td>5.0</td>\n",
       "    </tr>\n",
       "    <tr>\n",
       "      <th>2</th>\n",
       "      <td>6.0</td>\n",
       "    </tr>\n",
       "    <tr>\n",
       "      <th>3</th>\n",
       "      <td>5.0</td>\n",
       "    </tr>\n",
       "    <tr>\n",
       "      <th>4</th>\n",
       "      <td>3.0</td>\n",
       "    </tr>\n",
       "    <tr>\n",
       "      <th>5</th>\n",
       "      <td>2.0</td>\n",
       "    </tr>\n",
       "    <tr>\n",
       "      <th>...</th>\n",
       "      <td>...</td>\n",
       "    </tr>\n",
       "    <tr>\n",
       "      <th>3237</th>\n",
       "      <td>5.0</td>\n",
       "    </tr>\n",
       "    <tr>\n",
       "      <th>3238</th>\n",
       "      <td>3.0</td>\n",
       "    </tr>\n",
       "    <tr>\n",
       "      <th>3239</th>\n",
       "      <td>8.0</td>\n",
       "    </tr>\n",
       "    <tr>\n",
       "      <th>3240</th>\n",
       "      <td>8.0</td>\n",
       "    </tr>\n",
       "    <tr>\n",
       "      <th>3241</th>\n",
       "      <td>5.0</td>\n",
       "    </tr>\n",
       "  </tbody>\n",
       "</table>\n",
       "<p>3216 rows × 1 columns</p>\n",
       "</div>"
      ],
      "text/plain": [
       "      Температура\n",
       "key              \n",
       "1             5.0\n",
       "2             6.0\n",
       "3             5.0\n",
       "4             3.0\n",
       "5             2.0\n",
       "...           ...\n",
       "3237          5.0\n",
       "3238          3.0\n",
       "3239          8.0\n",
       "3240          8.0\n",
       "3241          5.0\n",
       "\n",
       "[3216 rows x 1 columns]"
      ]
     },
     "execution_count": 10,
     "metadata": {},
     "output_type": "execute_result"
    }
   ],
   "source": [
    "# сгруппируем все данные измерений температуры по полю key\n",
    "data_temp = data['temp'].groupby('key').agg({'Температура':len})\n",
    "data_temp"
   ]
  },
  {
   "cell_type": "code",
   "execution_count": 11,
   "metadata": {
    "scrolled": true
   },
   "outputs": [],
   "source": [
    "# добавим данные из data_temp к data_temp_missed\n",
    "data_temp_missed = data_temp_missed.join(data_temp, rsuffix='_все')\n",
    "data_temp_missed['diff'] = data_temp_missed['Температура_все'] - data_temp_missed['Температура']"
   ]
  },
  {
   "cell_type": "code",
   "execution_count": 12,
   "metadata": {},
   "outputs": [
    {
     "data": {
      "text/html": [
       "<div>\n",
       "<style scoped>\n",
       "    .dataframe tbody tr th:only-of-type {\n",
       "        vertical-align: middle;\n",
       "    }\n",
       "\n",
       "    .dataframe tbody tr th {\n",
       "        vertical-align: top;\n",
       "    }\n",
       "\n",
       "    .dataframe thead th {\n",
       "        text-align: right;\n",
       "    }\n",
       "</style>\n",
       "<table border=\"1\" class=\"dataframe\">\n",
       "  <thead>\n",
       "    <tr style=\"text-align: right;\">\n",
       "      <th></th>\n",
       "      <th>Температура</th>\n",
       "      <th>Температура_все</th>\n",
       "      <th>diff</th>\n",
       "    </tr>\n",
       "    <tr>\n",
       "      <th>key</th>\n",
       "      <th></th>\n",
       "      <th></th>\n",
       "      <th></th>\n",
       "    </tr>\n",
       "  </thead>\n",
       "  <tbody>\n",
       "    <tr>\n",
       "      <th>2500</th>\n",
       "      <td>3.0</td>\n",
       "      <td>4.0</td>\n",
       "      <td>1.0</td>\n",
       "    </tr>\n",
       "    <tr>\n",
       "      <th>2988</th>\n",
       "      <td>2.0</td>\n",
       "      <td>3.0</td>\n",
       "      <td>1.0</td>\n",
       "    </tr>\n",
       "    <tr>\n",
       "      <th>2989</th>\n",
       "      <td>4.0</td>\n",
       "      <td>5.0</td>\n",
       "      <td>1.0</td>\n",
       "    </tr>\n",
       "    <tr>\n",
       "      <th>2990</th>\n",
       "      <td>5.0</td>\n",
       "      <td>6.0</td>\n",
       "      <td>1.0</td>\n",
       "    </tr>\n",
       "    <tr>\n",
       "      <th>2991</th>\n",
       "      <td>4.0</td>\n",
       "      <td>5.0</td>\n",
       "      <td>1.0</td>\n",
       "    </tr>\n",
       "    <tr>\n",
       "      <th>...</th>\n",
       "      <td>...</td>\n",
       "      <td>...</td>\n",
       "      <td>...</td>\n",
       "    </tr>\n",
       "    <tr>\n",
       "      <th>2750</th>\n",
       "      <td>2.0</td>\n",
       "      <td>3.0</td>\n",
       "      <td>1.0</td>\n",
       "    </tr>\n",
       "    <tr>\n",
       "      <th>2751</th>\n",
       "      <td>4.0</td>\n",
       "      <td>5.0</td>\n",
       "      <td>1.0</td>\n",
       "    </tr>\n",
       "    <tr>\n",
       "      <th>2752</th>\n",
       "      <td>2.0</td>\n",
       "      <td>3.0</td>\n",
       "      <td>1.0</td>\n",
       "    </tr>\n",
       "    <tr>\n",
       "      <th>2743</th>\n",
       "      <td>2.0</td>\n",
       "      <td>3.0</td>\n",
       "      <td>1.0</td>\n",
       "    </tr>\n",
       "    <tr>\n",
       "      <th>3241</th>\n",
       "      <td>4.0</td>\n",
       "      <td>5.0</td>\n",
       "      <td>1.0</td>\n",
       "    </tr>\n",
       "  </tbody>\n",
       "</table>\n",
       "<p>739 rows × 3 columns</p>\n",
       "</div>"
      ],
      "text/plain": [
       "      Температура  Температура_все  diff\n",
       "key                                     \n",
       "2500          3.0              4.0   1.0\n",
       "2988          2.0              3.0   1.0\n",
       "2989          4.0              5.0   1.0\n",
       "2990          5.0              6.0   1.0\n",
       "2991          4.0              5.0   1.0\n",
       "...           ...              ...   ...\n",
       "2750          2.0              3.0   1.0\n",
       "2751          4.0              5.0   1.0\n",
       "2752          2.0              3.0   1.0\n",
       "2743          2.0              3.0   1.0\n",
       "3241          4.0              5.0   1.0\n",
       "\n",
       "[739 rows x 3 columns]"
      ]
     },
     "execution_count": 12,
     "metadata": {},
     "output_type": "execute_result"
    }
   ],
   "source": [
    "data_temp_missed.sort_values(by='diff')"
   ]
  },
  {
   "cell_type": "markdown",
   "metadata": {},
   "source": [
    "Предположение о том, что все пропуски измерений температуры относятся к тем партиям, в которых не было ни одного корректного измерения температуры, не подтвердилось. Оказалось, что в каждой партии, где есть пропуски в измерениях температуры, есть одно и только одно корректное измерение. Сам по себе факт примечательный, но пока неясно, как это может влиять на нашу модель. \n",
    "\n",
    "Посмотрим на временные диаграммы тех партий, где были пропуски в измерениях температуры."
   ]
  },
  {
   "cell_type": "code",
   "execution_count": 13,
   "metadata": {
    "scrolled": false
   },
   "outputs": [
    {
     "data": {
      "image/png": "[encoded data removed]",
      "text/plain": [
       "<Figure size 1152x144 with 1 Axes>"
      ]
     },
     "metadata": {
      "needs_background": "light"
     },
     "output_type": "display_data"
    },
    {
     "data": {
      "image/png": "[encoded data removed]",
      "text/plain": [
       "<Figure size 1152x144 with 1 Axes>"
      ]
     },
     "metadata": {
      "needs_background": "light"
     },
     "output_type": "display_data"
    },
    {
     "data": {
      "image/png": "[encoded data removed]",
      "text/plain": [
       "<Figure size 1152x144 with 1 Axes>"
      ]
     },
     "metadata": {
      "needs_background": "light"
     },
     "output_type": "display_data"
    },
    {
     "data": {
      "image/png": "[encoded data removed]",
      "text/plain": [
       "<Figure size 1152x144 with 1 Axes>"
      ]
     },
     "metadata": {
      "needs_background": "light"
     },
     "output_type": "display_data"
    },
    {
     "data": {
      "image/png": "[encoded data removed]",
      "text/plain": [
       "<Figure size 1152x144 with 1 Axes>"
      ]
     },
     "metadata": {
      "needs_background": "light"
     },
     "output_type": "display_data"
    }
   ],
   "source": [
    "for key in data_temp_missed.head(5).index:\n",
    "    show_process(key)"
   ]
  },
  {
   "cell_type": "code",
   "execution_count": 14,
   "metadata": {
    "scrolled": false
   },
   "outputs": [
    {
     "data": {
      "image/png": "[encoded data removed]",
      "text/plain": [
       "<Figure size 1152x144 with 1 Axes>"
      ]
     },
     "metadata": {
      "needs_background": "light"
     },
     "output_type": "display_data"
    },
    {
     "data": {
      "image/png": "[encoded data removed]",
      "text/plain": [
       "<Figure size 1152x144 with 1 Axes>"
      ]
     },
     "metadata": {
      "needs_background": "light"
     },
     "output_type": "display_data"
    },
    {
     "data": {
      "image/png": "[encoded data removed]",
      "text/plain": [
       "<Figure size 1152x144 with 1 Axes>"
      ]
     },
     "metadata": {
      "needs_background": "light"
     },
     "output_type": "display_data"
    },
    {
     "data": {
      "image/png": "[encoded data removed]",
      "text/plain": [
       "<Figure size 1152x144 with 1 Axes>"
      ]
     },
     "metadata": {
      "needs_background": "light"
     },
     "output_type": "display_data"
    },
    {
     "data": {
      "image/png": "[encoded data removed]",
      "text/plain": [
       "<Figure size 1152x144 with 1 Axes>"
      ]
     },
     "metadata": {
      "needs_background": "light"
     },
     "output_type": "display_data"
    }
   ],
   "source": [
    "# теперь посмотрим на диаграммы партий с самым большим кол-вом неудачных измерений\n",
    "for key in data_temp_missed.sort_values(by='Температура_все', ascending=False).head(5).index:\n",
    "    show_process(key)"
   ]
  },
  {
   "cell_type": "code",
   "execution_count": 15,
   "metadata": {
    "scrolled": false
   },
   "outputs": [
    {
     "data": {
      "image/png": "[encoded data removed]",
      "text/plain": [
       "<Figure size 1152x144 with 1 Axes>"
      ]
     },
     "metadata": {
      "needs_background": "light"
     },
     "output_type": "display_data"
    }
   ],
   "source": [
    "# есть аномальное измеренное значение в партии 2916, посмотрим на временную диаграмму партии 2915\n",
    "show_process(2915)"
   ]
  },
  {
   "cell_type": "markdown",
   "metadata": {},
   "source": [
    "Как уже говорилось, в каждой партии, где есть пропуски в измерениях температуры, есть одно и только одно корректное измерение. Судя по временным диаграммам случайно выбранных партий с пропусками в измерениях, единственно верное измерение является первым измерением в партии. Судя по графикам, в выбранных нами произвольно партиях это значение чуть более 1500. Хотя предположение, что температура в этих измерениях примерно одна и та же, может быть ошибкой и связано это просто с большим диапазоном шкалы температур на графиках для партий металла с пропусками в измерениях - мы присвоили пропускам 0, поэтому диапазон температур для этих графиков от 0 до более 1500, в отличие от нормального диапазона шкалы температур от 1500 до 1600. Тем не менее, убедимся, что особенностей нет. "
   ]
  },
  {
   "cell_type": "code",
   "execution_count": 16,
   "metadata": {
    "scrolled": false
   },
   "outputs": [
    {
     "data": {
      "image/png": "[encoded data removed]",
      "text/plain": [
       "<Figure size 432x288 with 1 Axes>"
      ]
     },
     "metadata": {
      "needs_background": "light"
     },
     "output_type": "display_data"
    }
   ],
   "source": [
    "# выведем гистограмму распределения измеренной температуры для партий с пропусками температур\n",
    "ax = data['temp'][data['temp']['key'].isin(data_temp_missed.index.tolist())].dropna().hist('Температура', bins=100, density=True, alpha=0.7)\n",
    "# на эти же оси выведем гистограмму распределения первой измеренной температуры для всех партий\n",
    "ax = data['temp'].groupby('key').agg({'Температура': 'first'}).hist('Температура', bins=100, ax=ax, density=True, alpha=0.5)"
   ]
  },
  {
   "cell_type": "markdown",
   "metadata": {},
   "source": [
    "Гистограммы практически одинаковы. Значимых различий не наблюдается."
   ]
  },
  {
   "cell_type": "markdown",
   "metadata": {},
   "source": [
    "####  2.3. Выводы после изучения пропусков в измерениях температуры.\n",
    "- В каждой партии, где есть пропуски в измерениях температуры, есть одно и только одно корректное измерение. Судя по всему, это единственное корректное значение является первым измерением температуры в партии.\n",
    "- Я не вижу причин как-то особенно выделять корректные измерения температуры в тех партиях металла, где есть пропуски во всех других измерениях. При формировании данных для построения модели надо будет просто удалить данные с пропусками в значениях измеренной температуры, для других измерений температуры в этих же партиях сформировать признаки по той же методике, что и для всех других измерений температуры. Такую методику еще предстоит выработать.\n",
    "- Было обнаружено аномальное измерение температуры в партии 2916 - по нашим данным не было ни нагрева, ни легирования этой партии до измерения температуры. При любой методике формирования признаков для обучения модели для этого объекта значения всех признаков будут равны 0. Возможно, это просто ошибочное измерение температуры. В пользу этого говорит также тот факт, что предыдущая обработанная партия металла также имела пропуски в измерениях температуры, причем эти пропуски предшествовали измеренному значению. С другой стороны, возможно, это значение задает нам точку отсчета  температур для всех других объектов. Вернемся к этому вопросу в дальнейшем после формирования всех признаков модели."
   ]
  },
  {
   "cell_type": "markdown",
   "metadata": {},
   "source": [
    "#### 2.4. Исследование данных обдува инертным газом.\n",
    "\n",
    "На этапе ознакомления с данными я обратил внимание на отсутствие данных о времени обдува. Если исходить из предоставленного нам описания технологического процесса, обдув производится в моменты добавления легирующих присадок. В таком случае можно выдвинуть две гипотезы:\n",
    "- После каждой операции добавления присадок производится обдув определенным, примерно одним и тем же, количеством инертного газа. \n",
    "- После каждой операции добавления присадок производится обдув инертным газом, причем кол-во используемого газа пропорционально общему добавленных кол-ву присадок. \n",
    "\n",
    "Проверим эти гипотезы. Сравним корреляцию между кол-вом инертного газа и кол-вом операций либо общей массой присадок. "
   ]
  },
  {
   "cell_type": "markdown",
   "metadata": {},
   "source": [
    "Для составления сводной таблицы по количеству операций легирования можно было бы просто определить пропуски методом .isna в каждом интересующем нас столбце, инвертировать ~, затем просуммировать по каждой строке True. Но ранее мы определили что некоторые присадки добавляются в одно и то же время и, значит, представляют из себя одну операцию легирования. Для подсчета уникальных операций легирования для каждой партии придется сделать чуть более сложную функцию обработки каждой строки. "
   ]
  },
  {
   "cell_type": "code",
   "execution_count": 17,
   "metadata": {},
   "outputs": [],
   "source": [
    "# функция обработки строки для таблиц wire_time или bulk_time\n",
    "# в строке удаляется key (остаются только столбцы wire 1... wire N или bulk 1... bulk N), \n",
    "# затем удаляются все пропуски, затем удаляются все дубликаты (нам нужно учитывать только уникальные операции легирования)\n",
    "def calc_operations(row):\n",
    "    return len(row.drop('key').dropna().drop_duplicates())\n",
    "\n",
    "# аналогичная функция суммирования всех добавок\n",
    "def calc_suppl_mass(row):\n",
    "    return row.drop('key').dropna().sum()"
   ]
  },
  {
   "cell_type": "code",
   "execution_count": 18,
   "metadata": {},
   "outputs": [],
   "source": [
    "# создадим новую таблицу data_gas_and_supplement куда соберем данные по кол-ву инертного газа, по кол-ву операций и по общей массе легирования\n",
    "data_gas_and_supplement = data['gas'].copy()\n",
    "\n",
    "# для добавления новых столбцов к data_gas_and_supplement напишем функцию\n",
    "def supple_info_add(supple_type): # supple_type принимает значения либо wire, либо bulk\n",
    "    supple_operations = data[f'{supple_type}_time'].copy()\n",
    "    supple_operations[f'{supple_type}_operations'] = supple_operations.apply(calc_operations, axis=1)\n",
    "    supple_mass = data[supple_type].copy()\n",
    "    supple_mass[f'{supple_type}_mass'] = supple_mass.apply(calc_suppl_mass, axis=1)\n",
    "    return supple_operations.merge(supple_mass, on='key')[['key', f'{supple_type}_operations', f'{supple_type}_mass']]"
   ]
  },
  {
   "cell_type": "code",
   "execution_count": 19,
   "metadata": {},
   "outputs": [],
   "source": [
    "# добавим в data_gas_and_supplement кол-во операций и общую массу присадок\n",
    "for type_supple in ['wire', 'bulk']:\n",
    "    data_gas_and_supplement = data_gas_and_supplement.merge(supple_info_add(type_supple), on='key', how='left')"
   ]
  },
  {
   "cell_type": "code",
   "execution_count": 20,
   "metadata": {},
   "outputs": [
    {
     "data": {
      "text/html": [
       "<div>\n",
       "<style scoped>\n",
       "    .dataframe tbody tr th:only-of-type {\n",
       "        vertical-align: middle;\n",
       "    }\n",
       "\n",
       "    .dataframe tbody tr th {\n",
       "        vertical-align: top;\n",
       "    }\n",
       "\n",
       "    .dataframe thead th {\n",
       "        text-align: right;\n",
       "    }\n",
       "</style>\n",
       "<table border=\"1\" class=\"dataframe\">\n",
       "  <thead>\n",
       "    <tr style=\"text-align: right;\">\n",
       "      <th></th>\n",
       "      <th>key</th>\n",
       "      <th>Газ 1</th>\n",
       "      <th>wire_operations</th>\n",
       "      <th>wire_mass</th>\n",
       "      <th>bulk_operations</th>\n",
       "      <th>bulk_mass</th>\n",
       "    </tr>\n",
       "  </thead>\n",
       "  <tbody>\n",
       "    <tr>\n",
       "      <th>0</th>\n",
       "      <td>1</td>\n",
       "      <td>29.749986</td>\n",
       "      <td>1.0</td>\n",
       "      <td>60.059998</td>\n",
       "      <td>2.0</td>\n",
       "      <td>553.0</td>\n",
       "    </tr>\n",
       "    <tr>\n",
       "      <th>1</th>\n",
       "      <td>2</td>\n",
       "      <td>12.555561</td>\n",
       "      <td>1.0</td>\n",
       "      <td>96.052315</td>\n",
       "      <td>2.0</td>\n",
       "      <td>582.0</td>\n",
       "    </tr>\n",
       "    <tr>\n",
       "      <th>2</th>\n",
       "      <td>3</td>\n",
       "      <td>28.554793</td>\n",
       "      <td>1.0</td>\n",
       "      <td>91.160157</td>\n",
       "      <td>2.0</td>\n",
       "      <td>544.0</td>\n",
       "    </tr>\n",
       "    <tr>\n",
       "      <th>3</th>\n",
       "      <td>4</td>\n",
       "      <td>18.841219</td>\n",
       "      <td>1.0</td>\n",
       "      <td>89.063515</td>\n",
       "      <td>2.0</td>\n",
       "      <td>595.0</td>\n",
       "    </tr>\n",
       "    <tr>\n",
       "      <th>4</th>\n",
       "      <td>5</td>\n",
       "      <td>5.413692</td>\n",
       "      <td>2.0</td>\n",
       "      <td>98.352796</td>\n",
       "      <td>2.0</td>\n",
       "      <td>584.0</td>\n",
       "    </tr>\n",
       "    <tr>\n",
       "      <th>...</th>\n",
       "      <td>...</td>\n",
       "      <td>...</td>\n",
       "      <td>...</td>\n",
       "      <td>...</td>\n",
       "      <td>...</td>\n",
       "      <td>...</td>\n",
       "    </tr>\n",
       "    <tr>\n",
       "      <th>3234</th>\n",
       "      <td>3237</td>\n",
       "      <td>5.543905</td>\n",
       "      <td>1.0</td>\n",
       "      <td>38.088959</td>\n",
       "      <td>2.0</td>\n",
       "      <td>758.0</td>\n",
       "    </tr>\n",
       "    <tr>\n",
       "      <th>3235</th>\n",
       "      <td>3238</td>\n",
       "      <td>6.745669</td>\n",
       "      <td>1.0</td>\n",
       "      <td>56.128799</td>\n",
       "      <td>2.0</td>\n",
       "      <td>594.0</td>\n",
       "    </tr>\n",
       "    <tr>\n",
       "      <th>3236</th>\n",
       "      <td>3239</td>\n",
       "      <td>16.023518</td>\n",
       "      <td>1.0</td>\n",
       "      <td>143.357761</td>\n",
       "      <td>3.0</td>\n",
       "      <td>630.0</td>\n",
       "    </tr>\n",
       "    <tr>\n",
       "      <th>3237</th>\n",
       "      <td>3240</td>\n",
       "      <td>11.863103</td>\n",
       "      <td>1.0</td>\n",
       "      <td>34.070400</td>\n",
       "      <td>2.0</td>\n",
       "      <td>272.0</td>\n",
       "    </tr>\n",
       "    <tr>\n",
       "      <th>3238</th>\n",
       "      <td>3241</td>\n",
       "      <td>12.680959</td>\n",
       "      <td>1.0</td>\n",
       "      <td>63.117595</td>\n",
       "      <td>1.0</td>\n",
       "      <td>232.0</td>\n",
       "    </tr>\n",
       "  </tbody>\n",
       "</table>\n",
       "<p>3239 rows × 6 columns</p>\n",
       "</div>"
      ],
      "text/plain": [
       "       key      Газ 1  wire_operations   wire_mass  bulk_operations  bulk_mass\n",
       "0        1  29.749986              1.0   60.059998              2.0      553.0\n",
       "1        2  12.555561              1.0   96.052315              2.0      582.0\n",
       "2        3  28.554793              1.0   91.160157              2.0      544.0\n",
       "3        4  18.841219              1.0   89.063515              2.0      595.0\n",
       "4        5   5.413692              2.0   98.352796              2.0      584.0\n",
       "...    ...        ...              ...         ...              ...        ...\n",
       "3234  3237   5.543905              1.0   38.088959              2.0      758.0\n",
       "3235  3238   6.745669              1.0   56.128799              2.0      594.0\n",
       "3236  3239  16.023518              1.0  143.357761              3.0      630.0\n",
       "3237  3240  11.863103              1.0   34.070400              2.0      272.0\n",
       "3238  3241  12.680959              1.0   63.117595              1.0      232.0\n",
       "\n",
       "[3239 rows x 6 columns]"
      ]
     },
     "execution_count": 20,
     "metadata": {},
     "output_type": "execute_result"
    }
   ],
   "source": [
    "data_gas_and_supplement"
   ]
  },
  {
   "cell_type": "code",
   "execution_count": 21,
   "metadata": {},
   "outputs": [],
   "source": [
    "# заполним пропуски 0\n",
    "data_gas_and_supplement = data_gas_and_supplement.fillna(0)\n",
    "\n",
    "# и просуммируем кол-во операций и массу присадок\n",
    "for suff in ['operations', 'mass']:\n",
    "    data_gas_and_supplement[f'total_{suff}'] = data_gas_and_supplement[f'wire_{suff}'] + data_gas_and_supplement[f'bulk_{suff}']"
   ]
  },
  {
   "cell_type": "code",
   "execution_count": 22,
   "metadata": {},
   "outputs": [],
   "source": [
    "# для визуализации зависимости общего кол-ва газа и других столбцов создадим функцию\n",
    "def show_corr(col):\n",
    "    corr = data_gas_and_supplement['Газ 1'].corr(data_gas_and_supplement[col])\n",
    "    ax = data_gas_and_supplement.plot(x='Газ 1', y=col, kind='scatter', \n",
    "                                      figsize=(8, 4), grid=True, title=f'Линейная корреляция {corr:.3f}')"
   ]
  },
  {
   "cell_type": "code",
   "execution_count": 23,
   "metadata": {
    "scrolled": false
   },
   "outputs": [
    {
     "data": {
      "image/png": "[encoded data removed]",
      "text/plain": [
       "<Figure size 576x288 with 1 Axes>"
      ]
     },
     "metadata": {
      "needs_background": "light"
     },
     "output_type": "display_data"
    },
    {
     "data": {
      "image/png": "[encoded data removed]",
      "text/plain": [
       "<Figure size 576x288 with 1 Axes>"
      ]
     },
     "metadata": {
      "needs_background": "light"
     },
     "output_type": "display_data"
    },
    {
     "data": {
      "image/png": "[encoded data removed]",
      "text/plain": [
       "<Figure size 576x288 with 1 Axes>"
      ]
     },
     "metadata": {
      "needs_background": "light"
     },
     "output_type": "display_data"
    },
    {
     "data": {
      "image/png": "[encoded data removed]",
      "text/plain": [
       "<Figure size 576x288 with 1 Axes>"
      ]
     },
     "metadata": {
      "needs_background": "light"
     },
     "output_type": "display_data"
    }
   ],
   "source": [
    "for col in ['total_operations', 'total_mass', 'bulk_mass', 'wire_mass']:\n",
    "    show_corr(col)"
   ]
  },
  {
   "cell_type": "markdown",
   "metadata": {},
   "source": [
    "#### 2.4. Выводы после исследование данных обдува инертным газом.\n",
    "- Нам не было преодставлено данных о времени обдува партии металла инертным газом.\n",
    "- Исходя из предоставленного нам описания технологического процесса (обдув производится в моменты добавления легирующих присадок), была исследована корреляция между массой газа для каждой партии и агрегированными данными по операциям легирования в этой же партии. \n",
    "- Наибольшая корреляция наблюдается между между массой газа и общей массой всех присадок.\n",
    "- Я считаю самым целесообразным при формировании признака обучения модели, основанного на данных обдува, для времени обдува использовать время уникальной операции добавления присадок, а массу использованного для обдува газа в конкретной операции обдува посчитать по формуле:\n",
    "$$\n",
    "M_{key}^{i}(gas) = M_{key}^{total}(gas) * \\frac{M_{key}^i(supplement)} {M_{key}^{total}(supplement)} \n",
    "$$"
   ]
  },
  {
   "cell_type": "markdown",
   "metadata": {},
   "source": [
    "#### 2.5.  Исследование данных об активной и реактивной мощности.\n",
    "С точки зрения физики на нагрев должна влиять только активная мощность. Реактивная мощность должна сильно коррелировать с активной мощностью, если не меняется конфигурация сети, влияющая на емкость, индуктивность, что в свою очередь влияет на сдвиг фазы между силой токой и нарпяжением и уже это влияет на соотношение между активной и реактивной мощностью. В любом случае кол-во тепла, а, значит, и изменение температуры, определяет только лишь активная мощность электричества. Тем не менее, изучим наборы данных по активной и реактивной мощности более внимательно."
   ]
  },
  {
   "cell_type": "code",
   "execution_count": 24,
   "metadata": {},
   "outputs": [],
   "source": [
    "def show_corr_power(df):\n",
    "    corr = df['Активная мощность'].corr(df['Реактивная мощность'])\n",
    "    ax = df[['Активная мощность', 'Реактивная мощность']].plot(\n",
    "        x='Активная мощность', y='Реактивная мощность', kind='scatter', \n",
    "        figsize=(8, 4), grid=True, title=f'Линейная корреляция {corr:.3f}' )"
   ]
  },
  {
   "cell_type": "code",
   "execution_count": 25,
   "metadata": {},
   "outputs": [
    {
     "data": {
      "image/png": "[encoded data removed]",
      "text/plain": [
       "<Figure size 576x288 with 1 Axes>"
      ]
     },
     "metadata": {
      "needs_background": "light"
     },
     "output_type": "display_data"
    }
   ],
   "source": [
    "show_corr_power(data['arc'])"
   ]
  },
  {
   "cell_type": "markdown",
   "metadata": {},
   "source": [
    "Увидеть корреляцию нельзя из-за единственного выброса с очень большим и отрицательным значением реактивной мощности. Посмотрим на диаграмму рассеяния без этого выброса"
   ]
  },
  {
   "cell_type": "code",
   "execution_count": 26,
   "metadata": {},
   "outputs": [
    {
     "data": {
      "image/png": "[encoded data removed]",
      "text/plain": [
       "<Figure size 576x288 with 1 Axes>"
      ]
     },
     "metadata": {
      "needs_background": "light"
     },
     "output_type": "display_data"
    }
   ],
   "source": [
    "data_arc = data['arc'][data['arc']['Реактивная мощность'] >= 0 ]\n",
    "show_corr_power(data_arc)"
   ]
  },
  {
   "cell_type": "code",
   "execution_count": 27,
   "metadata": {},
   "outputs": [
    {
     "data": {
      "image/png": "[encoded data removed]",
      "text/plain": [
       "<Figure size 1152x144 with 1 Axes>"
      ]
     },
     "metadata": {
      "needs_background": "light"
     },
     "output_type": "display_data"
    }
   ],
   "source": [
    "# посмотрим еще на временную диаграмму процесса для партий металла с аномальным значением реактивной мощности\n",
    "for key in data['arc'][data['arc']['Реактивная мощность'] < 0]['key']:\n",
    "    show_process(key)"
   ]
  },
  {
   "cell_type": "markdown",
   "metadata": {},
   "source": [
    "#### 2.5.  Выводы после исследования данных об активной и реактивной мощности.\n",
    "- Был подтвержден тезис, основанный на знаниях физики, что реактивная мощность линейно связана с активной мощностью.\n",
    "- Итак, во-первых, опираясь на знание физики, можно утверждать, что реактивная мощность не влияет на передачу тепла расплаву. Во-вторых, исследование корреляции между реактивной  и активной мощностью продемонстрировало очень сильную линейную зависимость между ними (с точки зрения физики это означает, что в нашей конфигурации электрической сети мало меняются индуктивность и емкость). \n",
    "- Я считаю целесообразным никак не использовать признак \"реактивная мощность\" для нашей модели."
   ]
  },
  {
   "cell_type": "markdown",
   "metadata": {},
   "source": [
    "## 2. План дальнейших действий (выводы после исследовательского анализа данных )\n",
    "- Наш целевой признак - температура. Все пропуски температуры надо удалить. Соответственно, общее кол-во объектов для обучения и тестирования модели составит не более 13006 объектов (возможно, некоторые объекты с корректной температурой будут признаны негодными из-за отсутствия обучающих признаков, как в единственном корректном измерении температуры для партии 2916).\n",
    "- Все обучающие признаки для модели будут извлекаться из других таблиц по уникальному номеру партии металла (key):\n",
    " 1. Heating: выбираем все операции нагрева для того же key, произошедшие до измерения температуры, умножаем длительность каждой операции нагрева в секундах на активную мощность, суммируем полученные значения, при этом учитываем краевой эффект - последняя операция нагрева перед измерением могла не закончиться, хотя мы и не встречали такого случая при визуализации процессов.  \n",
    " - Cooldown: считаем временной промежуток в секундах между временем измерения температуры и стартом процесса обработки металла  = min от всех временных значений для данного key.\n",
    " - Blow_on: выбираем все операции обдува для того же key, произошедшие до измерения температуры, суммируем массы инертного газа для всех совершенных операций обдува, массу для каждой операции рассчитываем по формуле:\n",
    "$$\n",
    "M_{key}^{i}(gas) = M_{key}^{total}(gas) * \\frac{M_{key}^i(supplement)} {M_{key}^{total}(supplement)} \n",
    "$$\n",
    " - Supplement_wire: выбираем все операции добавления присадок в виде проволоки для того же key, произошедшие до измерения температуры, суммируем массы присадок.\n",
    " - Supplement_bulk: аналогично для присадок bulk. Считаю целесообразным разделить присадки по типу, поскольку возможно разное влияние на температуру в зависимости от состояния вещества."
   ]
  },
  {
   "cell_type": "markdown",
   "metadata": {},
   "source": [
    "## 3. Подготовка данных для модели - формирование признаков и цели.\n",
    "\n",
    "После уточнения задачи тимлидом стало понятно, что нам надо предсказывать последнее измерение температуры в партии. При этом мы можем использовать первое измерение температуры в партии в качестве фичи. В процессе исследования данных было продемонстрировано, что первое и последнее измерение температур не являются нижней и верхней границей для всех операций обработки партии металла - есть много партий металла, например, когда некоторые операции нагрева и/или легирования осуществлялись до первого измерения. Это надо будет учесть при извлечении из данных признаков для нашего моделирования."
   ]
  },
  {
   "cell_type": "markdown",
   "metadata": {},
   "source": [
    "#### 3.1. Извлечение последнего (target) и первого (feature) измерения температуры."
   ]
  },
  {
   "cell_type": "code",
   "execution_count": 28,
   "metadata": {},
   "outputs": [],
   "source": [
    "# сформируем таблицу, куда внесем первое и последнее измеренное значение температуры и время этих измерений для каждого key\n",
    "data_temp = data['temp'].dropna()\n",
    "temp_key = data_temp.sort_values(by='Время замера').groupby('key').agg({\n",
    "    'Время замера':['first','last'], \n",
    "    'Температура':['first','last']})\n",
    "temp_key.columns = ['first_temp_measure', 'last_temp_measure', 'first_temp','last_temp']\n",
    "temp_key = temp_key[temp_key.first_temp_measure != temp_key.last_temp_measure]"
   ]
  },
  {
   "cell_type": "code",
   "execution_count": 29,
   "metadata": {
    "scrolled": true
   },
   "outputs": [
    {
     "data": {
      "text/html": [
       "<div>\n",
       "<style scoped>\n",
       "    .dataframe tbody tr th:only-of-type {\n",
       "        vertical-align: middle;\n",
       "    }\n",
       "\n",
       "    .dataframe tbody tr th {\n",
       "        vertical-align: top;\n",
       "    }\n",
       "\n",
       "    .dataframe thead th {\n",
       "        text-align: right;\n",
       "    }\n",
       "</style>\n",
       "<table border=\"1\" class=\"dataframe\">\n",
       "  <thead>\n",
       "    <tr style=\"text-align: right;\">\n",
       "      <th></th>\n",
       "      <th>first_temp_measure</th>\n",
       "      <th>last_temp_measure</th>\n",
       "      <th>first_temp</th>\n",
       "      <th>last_temp</th>\n",
       "    </tr>\n",
       "    <tr>\n",
       "      <th>key</th>\n",
       "      <th></th>\n",
       "      <th></th>\n",
       "      <th></th>\n",
       "      <th></th>\n",
       "    </tr>\n",
       "  </thead>\n",
       "  <tbody>\n",
       "    <tr>\n",
       "      <th>1</th>\n",
       "      <td>2019-05-03 11:16:18</td>\n",
       "      <td>2019-05-03 11:30:39</td>\n",
       "      <td>1571.0</td>\n",
       "      <td>1613.0</td>\n",
       "    </tr>\n",
       "    <tr>\n",
       "      <th>2</th>\n",
       "      <td>2019-05-03 11:37:27</td>\n",
       "      <td>2019-05-03 11:59:12</td>\n",
       "      <td>1581.0</td>\n",
       "      <td>1602.0</td>\n",
       "    </tr>\n",
       "    <tr>\n",
       "      <th>3</th>\n",
       "      <td>2019-05-03 12:13:17</td>\n",
       "      <td>2019-05-03 12:34:57</td>\n",
       "      <td>1596.0</td>\n",
       "      <td>1599.0</td>\n",
       "    </tr>\n",
       "    <tr>\n",
       "      <th>4</th>\n",
       "      <td>2019-05-03 12:52:57</td>\n",
       "      <td>2019-05-03 12:59:25</td>\n",
       "      <td>1601.0</td>\n",
       "      <td>1625.0</td>\n",
       "    </tr>\n",
       "    <tr>\n",
       "      <th>5</th>\n",
       "      <td>2019-05-03 13:23:19</td>\n",
       "      <td>2019-05-03 13:36:01</td>\n",
       "      <td>1576.0</td>\n",
       "      <td>1602.0</td>\n",
       "    </tr>\n",
       "  </tbody>\n",
       "</table>\n",
       "</div>"
      ],
      "text/plain": [
       "     first_temp_measure   last_temp_measure  first_temp  last_temp\n",
       "key                                                               \n",
       "1   2019-05-03 11:16:18 2019-05-03 11:30:39      1571.0     1613.0\n",
       "2   2019-05-03 11:37:27 2019-05-03 11:59:12      1581.0     1602.0\n",
       "3   2019-05-03 12:13:17 2019-05-03 12:34:57      1596.0     1599.0\n",
       "4   2019-05-03 12:52:57 2019-05-03 12:59:25      1601.0     1625.0\n",
       "5   2019-05-03 13:23:19 2019-05-03 13:36:01      1576.0     1602.0"
      ]
     },
     "execution_count": 29,
     "metadata": {},
     "output_type": "execute_result"
    }
   ],
   "source": [
    "temp_key.head()"
   ]
  },
  {
   "cell_type": "code",
   "execution_count": 30,
   "metadata": {
    "scrolled": true
   },
   "outputs": [
    {
     "name": "stdout",
     "output_type": "stream",
     "text": [
      "<class 'pandas.core.frame.DataFrame'>\n",
      "Int64Index: 2475 entries, 1 to 2499\n",
      "Data columns (total 4 columns):\n",
      " #   Column              Non-Null Count  Dtype         \n",
      "---  ------              --------------  -----         \n",
      " 0   first_temp_measure  2475 non-null   datetime64[ns]\n",
      " 1   last_temp_measure   2475 non-null   datetime64[ns]\n",
      " 2   first_temp          2475 non-null   float64       \n",
      " 3   last_temp           2475 non-null   float64       \n",
      "dtypes: datetime64[ns](2), float64(2)\n",
      "memory usage: 96.7 KB\n"
     ]
    }
   ],
   "source": [
    "temp_key.info()"
   ]
  },
  {
   "cell_type": "code",
   "execution_count": 31,
   "metadata": {
    "scrolled": true
   },
   "outputs": [
    {
     "data": {
      "text/plain": [
       "0"
      ]
     },
     "execution_count": 31,
     "metadata": {},
     "output_type": "execute_result"
    }
   ],
   "source": [
    "# убедимся, что значения во времени корректные\n",
    "(temp_key['last_temp_measure'] <= temp_key['first_temp_measure']).sum()"
   ]
  },
  {
   "cell_type": "markdown",
   "metadata": {},
   "source": [
    "#### 3.2. Извлечение операций нагрева, произошедших между первым и последним измереним температур.\n",
    "- Очевидно, что те нагревы, которые были до первого измерения температуры, \"включены\" в первое измерение и в нашей будущей модели не могут быть признаками. То же самое можно сказать и о нагревах, произошедших после последнего измерения. \n",
    "- Возможно, в некоторых партиях одно из измерений температуры происходило в момент нагрева, это также необходимо учесть."
   ]
  },
  {
   "cell_type": "code",
   "execution_count": 32,
   "metadata": {},
   "outputs": [],
   "source": [
    "# сначала сформируем таблицу, куда для каждой операции нагрева добавим время первого и последнего измерения температуры\n",
    "heat_sessions = data['arc'].copy()\n",
    "heat_sessions = heat_sessions.join(temp_key, on='key')"
   ]
  },
  {
   "cell_type": "code",
   "execution_count": 33,
   "metadata": {},
   "outputs": [
    {
     "data": {
      "text/plain": [
       "0"
      ]
     },
     "execution_count": 33,
     "metadata": {},
     "output_type": "execute_result"
    }
   ],
   "source": [
    "# убедимся, что значения во времени операций нагрева корректные\n",
    "(heat_sessions['Начало нагрева дугой'] >= heat_sessions['Конец нагрева дугой']).sum()"
   ]
  },
  {
   "cell_type": "code",
   "execution_count": 34,
   "metadata": {},
   "outputs": [],
   "source": [
    "# теперь для каждой операции нагрева посчитаем кол-во переданного тепла, но будем учитывать пересечение \n",
    "# временных интервалов нагрева и интервала между первым и последним измерением температур\n",
    "heat_sessions['new_start'] = heat_sessions[['Начало нагрева дугой', 'first_temp_measure']].max(axis=1)\n",
    "heat_sessions['new_finish'] = heat_sessions[['Конец нагрева дугой', 'last_temp_measure']].min(axis=1)\n",
    "heat_sessions['new_finish'] = heat_sessions['new_finish'].where(heat_sessions['new_finish'] > heat_sessions['new_start'], heat_sessions['new_start'])\n",
    "heat_sessions['get_warmth'] = (heat_sessions['new_finish'] - heat_sessions['new_start']).dt.seconds * heat_sessions['Активная мощность']"
   ]
  },
  {
   "cell_type": "code",
   "execution_count": 35,
   "metadata": {},
   "outputs": [],
   "source": [
    "# теперь агрегируем данные нагрева для каждого key\n",
    "heat_key = heat_sessions.groupby('key').agg({\n",
    "    'Начало нагрева дугой' : 'min',\n",
    "    'Конец нагрева дугой' : 'max',\n",
    "    'get_warmth' : 'sum'})\n",
    "heat_key.columns = ['first_heat_start', 'last_heat_end', 'get_warmth']"
   ]
  },
  {
   "cell_type": "code",
   "execution_count": 36,
   "metadata": {
    "scrolled": true
   },
   "outputs": [
    {
     "data": {
      "text/html": [
       "<div>\n",
       "<style scoped>\n",
       "    .dataframe tbody tr th:only-of-type {\n",
       "        vertical-align: middle;\n",
       "    }\n",
       "\n",
       "    .dataframe tbody tr th {\n",
       "        vertical-align: top;\n",
       "    }\n",
       "\n",
       "    .dataframe thead th {\n",
       "        text-align: right;\n",
       "    }\n",
       "</style>\n",
       "<table border=\"1\" class=\"dataframe\">\n",
       "  <thead>\n",
       "    <tr style=\"text-align: right;\">\n",
       "      <th></th>\n",
       "      <th>first_heat_start</th>\n",
       "      <th>last_heat_end</th>\n",
       "      <th>get_warmth</th>\n",
       "    </tr>\n",
       "    <tr>\n",
       "      <th>key</th>\n",
       "      <th></th>\n",
       "      <th></th>\n",
       "      <th></th>\n",
       "    </tr>\n",
       "  </thead>\n",
       "  <tbody>\n",
       "    <tr>\n",
       "      <th>1</th>\n",
       "      <td>2019-05-03 11:02:14</td>\n",
       "      <td>2019-05-03 11:28:37</td>\n",
       "      <td>708.195035</td>\n",
       "    </tr>\n",
       "    <tr>\n",
       "      <th>2</th>\n",
       "      <td>2019-05-03 11:34:14</td>\n",
       "      <td>2019-05-03 11:53:18</td>\n",
       "      <td>673.801792</td>\n",
       "    </tr>\n",
       "    <tr>\n",
       "      <th>3</th>\n",
       "      <td>2019-05-03 12:06:54</td>\n",
       "      <td>2019-05-03 12:32:19</td>\n",
       "      <td>146.208505</td>\n",
       "    </tr>\n",
       "    <tr>\n",
       "      <th>4</th>\n",
       "      <td>2019-05-03 12:39:37</td>\n",
       "      <td>2019-05-03 12:57:50</td>\n",
       "      <td>339.425494</td>\n",
       "    </tr>\n",
       "    <tr>\n",
       "      <th>5</th>\n",
       "      <td>2019-05-03 13:11:13</td>\n",
       "      <td>2019-05-03 13:33:55</td>\n",
       "      <td>691.980241</td>\n",
       "    </tr>\n",
       "  </tbody>\n",
       "</table>\n",
       "</div>"
      ],
      "text/plain": [
       "       first_heat_start       last_heat_end  get_warmth\n",
       "key                                                    \n",
       "1   2019-05-03 11:02:14 2019-05-03 11:28:37  708.195035\n",
       "2   2019-05-03 11:34:14 2019-05-03 11:53:18  673.801792\n",
       "3   2019-05-03 12:06:54 2019-05-03 12:32:19  146.208505\n",
       "4   2019-05-03 12:39:37 2019-05-03 12:57:50  339.425494\n",
       "5   2019-05-03 13:11:13 2019-05-03 13:33:55  691.980241"
      ]
     },
     "execution_count": 36,
     "metadata": {},
     "output_type": "execute_result"
    }
   ],
   "source": [
    "heat_key.head()"
   ]
  },
  {
   "cell_type": "markdown",
   "metadata": {},
   "source": [
    "####  3.3. Извлечение данных о легировании.\n",
    "По аналогии с нагревом будем агрегировать данные по легированию, включая в признаки будущей модели данные только для тех операций легирования, которые происходили между первым и последним измерением температуры."
   ]
  },
  {
   "cell_type": "code",
   "execution_count": 37,
   "metadata": {},
   "outputs": [],
   "source": [
    "# создадим функцию, которая возвращает новый df, содержащий массы только тех добавок,\n",
    "# которые были внесены в партию металла в период времени между первым измерением температуры и последним \n",
    "def supple_intime(type_supple):\n",
    "    data_supple = data[type_supple].copy().set_index('key').fillna(0) # заполним нулями пропуски в таблице масс различных присадок\n",
    "    col_of_supple = data_supple.columns.to_list() # сформируем список столбцов присадок (bulk 1, bulk 2.... или wire 1, wire 2, ...)\n",
    "    data_supple_times = data[f'{type_supple}_time'].copy().set_index('key') \n",
    "    data_supple_times = data_supple_times.join(temp_key) # присоединим таблицу, где есть столбцы с первым измерением температуры и последним\n",
    "    for col in col_of_supple: # теперь столбцы с временем легирования заменим на булевые значения (True для тех присадок, которые между первым и последним)\n",
    "        data_supple_times[col] = (data_supple_times[col] >= data_supple_times['first_temp_measure']) & (data_supple_times[col] <= data_supple_times['last_temp_measure'])\n",
    "        # data_supple_times[col] = (data_supple_times[col] <= data_supple_times['last_temp_measure'])\n",
    "    data_supple_times = data_supple_times[col_of_supple] # оставим только булевые столбцы\n",
    "    return data_supple * data_supple_times "
   ]
  },
  {
   "cell_type": "code",
   "execution_count": 38,
   "metadata": {
    "scrolled": false
   },
   "outputs": [
    {
     "data": {
      "text/html": [
       "<div>\n",
       "<style scoped>\n",
       "    .dataframe tbody tr th:only-of-type {\n",
       "        vertical-align: middle;\n",
       "    }\n",
       "\n",
       "    .dataframe tbody tr th {\n",
       "        vertical-align: top;\n",
       "    }\n",
       "\n",
       "    .dataframe thead th {\n",
       "        text-align: right;\n",
       "    }\n",
       "</style>\n",
       "<table border=\"1\" class=\"dataframe\">\n",
       "  <thead>\n",
       "    <tr style=\"text-align: right;\">\n",
       "      <th></th>\n",
       "      <th>Bulk 1</th>\n",
       "      <th>Bulk 2</th>\n",
       "      <th>Bulk 3</th>\n",
       "      <th>Bulk 4</th>\n",
       "      <th>Bulk 5</th>\n",
       "      <th>Bulk 6</th>\n",
       "      <th>Bulk 7</th>\n",
       "      <th>Bulk 8</th>\n",
       "      <th>Bulk 9</th>\n",
       "      <th>Bulk 10</th>\n",
       "      <th>Bulk 11</th>\n",
       "      <th>Bulk 12</th>\n",
       "      <th>Bulk 13</th>\n",
       "      <th>Bulk 14</th>\n",
       "      <th>Bulk 15</th>\n",
       "    </tr>\n",
       "    <tr>\n",
       "      <th>key</th>\n",
       "      <th></th>\n",
       "      <th></th>\n",
       "      <th></th>\n",
       "      <th></th>\n",
       "      <th></th>\n",
       "      <th></th>\n",
       "      <th></th>\n",
       "      <th></th>\n",
       "      <th></th>\n",
       "      <th></th>\n",
       "      <th></th>\n",
       "      <th></th>\n",
       "      <th></th>\n",
       "      <th></th>\n",
       "      <th></th>\n",
       "    </tr>\n",
       "  </thead>\n",
       "  <tbody>\n",
       "    <tr>\n",
       "      <th>1</th>\n",
       "      <td>0.0</td>\n",
       "      <td>0.0</td>\n",
       "      <td>0.0</td>\n",
       "      <td>43.0</td>\n",
       "      <td>0.0</td>\n",
       "      <td>0.0</td>\n",
       "      <td>0.0</td>\n",
       "      <td>0.0</td>\n",
       "      <td>0.0</td>\n",
       "      <td>0.0</td>\n",
       "      <td>0.0</td>\n",
       "      <td>0.0</td>\n",
       "      <td>0.0</td>\n",
       "      <td>0.0</td>\n",
       "      <td>0.0</td>\n",
       "    </tr>\n",
       "    <tr>\n",
       "      <th>2</th>\n",
       "      <td>0.0</td>\n",
       "      <td>0.0</td>\n",
       "      <td>0.0</td>\n",
       "      <td>73.0</td>\n",
       "      <td>0.0</td>\n",
       "      <td>0.0</td>\n",
       "      <td>0.0</td>\n",
       "      <td>0.0</td>\n",
       "      <td>0.0</td>\n",
       "      <td>0.0</td>\n",
       "      <td>0.0</td>\n",
       "      <td>206.0</td>\n",
       "      <td>0.0</td>\n",
       "      <td>149.0</td>\n",
       "      <td>154.0</td>\n",
       "    </tr>\n",
       "    <tr>\n",
       "      <th>3</th>\n",
       "      <td>0.0</td>\n",
       "      <td>0.0</td>\n",
       "      <td>0.0</td>\n",
       "      <td>34.0</td>\n",
       "      <td>0.0</td>\n",
       "      <td>0.0</td>\n",
       "      <td>0.0</td>\n",
       "      <td>0.0</td>\n",
       "      <td>0.0</td>\n",
       "      <td>0.0</td>\n",
       "      <td>0.0</td>\n",
       "      <td>0.0</td>\n",
       "      <td>0.0</td>\n",
       "      <td>0.0</td>\n",
       "      <td>0.0</td>\n",
       "    </tr>\n",
       "    <tr>\n",
       "      <th>4</th>\n",
       "      <td>0.0</td>\n",
       "      <td>0.0</td>\n",
       "      <td>0.0</td>\n",
       "      <td>0.0</td>\n",
       "      <td>0.0</td>\n",
       "      <td>0.0</td>\n",
       "      <td>0.0</td>\n",
       "      <td>0.0</td>\n",
       "      <td>0.0</td>\n",
       "      <td>0.0</td>\n",
       "      <td>0.0</td>\n",
       "      <td>0.0</td>\n",
       "      <td>0.0</td>\n",
       "      <td>0.0</td>\n",
       "      <td>0.0</td>\n",
       "    </tr>\n",
       "    <tr>\n",
       "      <th>5</th>\n",
       "      <td>0.0</td>\n",
       "      <td>0.0</td>\n",
       "      <td>0.0</td>\n",
       "      <td>0.0</td>\n",
       "      <td>0.0</td>\n",
       "      <td>0.0</td>\n",
       "      <td>0.0</td>\n",
       "      <td>0.0</td>\n",
       "      <td>0.0</td>\n",
       "      <td>0.0</td>\n",
       "      <td>0.0</td>\n",
       "      <td>0.0</td>\n",
       "      <td>0.0</td>\n",
       "      <td>0.0</td>\n",
       "      <td>0.0</td>\n",
       "    </tr>\n",
       "  </tbody>\n",
       "</table>\n",
       "</div>"
      ],
      "text/plain": [
       "     Bulk 1  Bulk 2  Bulk 3  Bulk 4  Bulk 5  Bulk 6  Bulk 7  Bulk 8  Bulk 9  \\\n",
       "key                                                                           \n",
       "1       0.0     0.0     0.0    43.0     0.0     0.0     0.0     0.0     0.0   \n",
       "2       0.0     0.0     0.0    73.0     0.0     0.0     0.0     0.0     0.0   \n",
       "3       0.0     0.0     0.0    34.0     0.0     0.0     0.0     0.0     0.0   \n",
       "4       0.0     0.0     0.0     0.0     0.0     0.0     0.0     0.0     0.0   \n",
       "5       0.0     0.0     0.0     0.0     0.0     0.0     0.0     0.0     0.0   \n",
       "\n",
       "     Bulk 10  Bulk 11  Bulk 12  Bulk 13  Bulk 14  Bulk 15  \n",
       "key                                                        \n",
       "1        0.0      0.0      0.0      0.0      0.0      0.0  \n",
       "2        0.0      0.0    206.0      0.0    149.0    154.0  \n",
       "3        0.0      0.0      0.0      0.0      0.0      0.0  \n",
       "4        0.0      0.0      0.0      0.0      0.0      0.0  \n",
       "5        0.0      0.0      0.0      0.0      0.0      0.0  "
      ]
     },
     "execution_count": 38,
     "metadata": {},
     "output_type": "execute_result"
    }
   ],
   "source": [
    "bulk_key = supple_intime('bulk')\n",
    "bulk_key.head()"
   ]
  },
  {
   "cell_type": "code",
   "execution_count": 39,
   "metadata": {
    "scrolled": true
   },
   "outputs": [
    {
     "data": {
      "text/html": [
       "<div>\n",
       "<style scoped>\n",
       "    .dataframe tbody tr th:only-of-type {\n",
       "        vertical-align: middle;\n",
       "    }\n",
       "\n",
       "    .dataframe tbody tr th {\n",
       "        vertical-align: top;\n",
       "    }\n",
       "\n",
       "    .dataframe thead th {\n",
       "        text-align: right;\n",
       "    }\n",
       "</style>\n",
       "<table border=\"1\" class=\"dataframe\">\n",
       "  <thead>\n",
       "    <tr style=\"text-align: right;\">\n",
       "      <th></th>\n",
       "      <th>Wire 1</th>\n",
       "      <th>Wire 2</th>\n",
       "      <th>Wire 3</th>\n",
       "      <th>Wire 4</th>\n",
       "      <th>Wire 5</th>\n",
       "      <th>Wire 6</th>\n",
       "      <th>Wire 7</th>\n",
       "      <th>Wire 8</th>\n",
       "      <th>Wire 9</th>\n",
       "    </tr>\n",
       "    <tr>\n",
       "      <th>key</th>\n",
       "      <th></th>\n",
       "      <th></th>\n",
       "      <th></th>\n",
       "      <th></th>\n",
       "      <th></th>\n",
       "      <th></th>\n",
       "      <th></th>\n",
       "      <th></th>\n",
       "      <th></th>\n",
       "    </tr>\n",
       "  </thead>\n",
       "  <tbody>\n",
       "    <tr>\n",
       "      <th>1</th>\n",
       "      <td>0.000000</td>\n",
       "      <td>0.00000</td>\n",
       "      <td>0.0</td>\n",
       "      <td>0.0</td>\n",
       "      <td>0.0</td>\n",
       "      <td>0.0</td>\n",
       "      <td>0.0</td>\n",
       "      <td>0.0</td>\n",
       "      <td>0.0</td>\n",
       "    </tr>\n",
       "    <tr>\n",
       "      <th>2</th>\n",
       "      <td>96.052315</td>\n",
       "      <td>0.00000</td>\n",
       "      <td>0.0</td>\n",
       "      <td>0.0</td>\n",
       "      <td>0.0</td>\n",
       "      <td>0.0</td>\n",
       "      <td>0.0</td>\n",
       "      <td>0.0</td>\n",
       "      <td>0.0</td>\n",
       "    </tr>\n",
       "    <tr>\n",
       "      <th>3</th>\n",
       "      <td>91.160157</td>\n",
       "      <td>0.00000</td>\n",
       "      <td>0.0</td>\n",
       "      <td>0.0</td>\n",
       "      <td>0.0</td>\n",
       "      <td>0.0</td>\n",
       "      <td>0.0</td>\n",
       "      <td>0.0</td>\n",
       "      <td>0.0</td>\n",
       "    </tr>\n",
       "    <tr>\n",
       "      <th>4</th>\n",
       "      <td>0.000000</td>\n",
       "      <td>0.00000</td>\n",
       "      <td>0.0</td>\n",
       "      <td>0.0</td>\n",
       "      <td>0.0</td>\n",
       "      <td>0.0</td>\n",
       "      <td>0.0</td>\n",
       "      <td>0.0</td>\n",
       "      <td>0.0</td>\n",
       "    </tr>\n",
       "    <tr>\n",
       "      <th>5</th>\n",
       "      <td>0.000000</td>\n",
       "      <td>9.11456</td>\n",
       "      <td>0.0</td>\n",
       "      <td>0.0</td>\n",
       "      <td>0.0</td>\n",
       "      <td>0.0</td>\n",
       "      <td>0.0</td>\n",
       "      <td>0.0</td>\n",
       "      <td>0.0</td>\n",
       "    </tr>\n",
       "  </tbody>\n",
       "</table>\n",
       "</div>"
      ],
      "text/plain": [
       "        Wire 1   Wire 2  Wire 3  Wire 4  Wire 5  Wire 6  Wire 7  Wire 8  \\\n",
       "key                                                                       \n",
       "1     0.000000  0.00000     0.0     0.0     0.0     0.0     0.0     0.0   \n",
       "2    96.052315  0.00000     0.0     0.0     0.0     0.0     0.0     0.0   \n",
       "3    91.160157  0.00000     0.0     0.0     0.0     0.0     0.0     0.0   \n",
       "4     0.000000  0.00000     0.0     0.0     0.0     0.0     0.0     0.0   \n",
       "5     0.000000  9.11456     0.0     0.0     0.0     0.0     0.0     0.0   \n",
       "\n",
       "     Wire 9  \n",
       "key          \n",
       "1       0.0  \n",
       "2       0.0  \n",
       "3       0.0  \n",
       "4       0.0  \n",
       "5       0.0  "
      ]
     },
     "execution_count": 39,
     "metadata": {},
     "output_type": "execute_result"
    }
   ],
   "source": [
    "wire_key = supple_intime('wire')\n",
    "wire_key.head()"
   ]
  },
  {
   "cell_type": "markdown",
   "metadata": {},
   "source": [
    "#### 3.4. Расчет кол-ва газа, использованного для обдува\n",
    "Нам не были предоставлены данные по времени обдува. На этапе исследования данных мы установили наиболее вероятную формулу расчета массы газа, использованного для обдува в каждой операции легирования. Используем данную формулу, а именно:\n",
    "$$\n",
    "M_{key}^{i}(gas) = M_{key}^{total}(gas) * \\frac{M_{key}^i(supplement)} {M_{key}^{total}(supplement)} \n",
    "$$\n",
    "\n",
    "при расчете кол-ва газа, использованного для обдува, который производился в период между первым и последним измерением температур."
   ]
  },
  {
   "cell_type": "code",
   "execution_count": 40,
   "metadata": {},
   "outputs": [],
   "source": [
    "def calc_total(df_supple):\n",
    "    total_supple = pd.Series(0, index=df_supple.index)\n",
    "    for col in df_supple.columns:\n",
    "        total_supple += df_supple[col]\n",
    "    return total_supple"
   ]
  },
  {
   "cell_type": "code",
   "execution_count": 41,
   "metadata": {
    "scrolled": true
   },
   "outputs": [
    {
     "data": {
      "text/html": [
       "<div>\n",
       "<style scoped>\n",
       "    .dataframe tbody tr th:only-of-type {\n",
       "        vertical-align: middle;\n",
       "    }\n",
       "\n",
       "    .dataframe tbody tr th {\n",
       "        vertical-align: top;\n",
       "    }\n",
       "\n",
       "    .dataframe thead th {\n",
       "        text-align: right;\n",
       "    }\n",
       "</style>\n",
       "<table border=\"1\" class=\"dataframe\">\n",
       "  <thead>\n",
       "    <tr style=\"text-align: right;\">\n",
       "      <th></th>\n",
       "      <th>Bulk 1</th>\n",
       "      <th>Bulk 2</th>\n",
       "      <th>Bulk 3</th>\n",
       "      <th>Bulk 4</th>\n",
       "      <th>Bulk 5</th>\n",
       "      <th>Bulk 6</th>\n",
       "      <th>Bulk 7</th>\n",
       "      <th>Bulk 8</th>\n",
       "      <th>Bulk 9</th>\n",
       "      <th>Bulk 10</th>\n",
       "      <th>Bulk 11</th>\n",
       "      <th>Bulk 12</th>\n",
       "      <th>Bulk 13</th>\n",
       "      <th>Bulk 14</th>\n",
       "      <th>Bulk 15</th>\n",
       "      <th>bulk_intime</th>\n",
       "      <th>bulk_total</th>\n",
       "    </tr>\n",
       "    <tr>\n",
       "      <th>key</th>\n",
       "      <th></th>\n",
       "      <th></th>\n",
       "      <th></th>\n",
       "      <th></th>\n",
       "      <th></th>\n",
       "      <th></th>\n",
       "      <th></th>\n",
       "      <th></th>\n",
       "      <th></th>\n",
       "      <th></th>\n",
       "      <th></th>\n",
       "      <th></th>\n",
       "      <th></th>\n",
       "      <th></th>\n",
       "      <th></th>\n",
       "      <th></th>\n",
       "      <th></th>\n",
       "    </tr>\n",
       "  </thead>\n",
       "  <tbody>\n",
       "    <tr>\n",
       "      <th>1</th>\n",
       "      <td>0.0</td>\n",
       "      <td>0.0</td>\n",
       "      <td>0.0</td>\n",
       "      <td>43.0</td>\n",
       "      <td>0.0</td>\n",
       "      <td>0.0</td>\n",
       "      <td>0.0</td>\n",
       "      <td>0.0</td>\n",
       "      <td>0.0</td>\n",
       "      <td>0.0</td>\n",
       "      <td>0.0</td>\n",
       "      <td>0.0</td>\n",
       "      <td>0.0</td>\n",
       "      <td>0.0</td>\n",
       "      <td>0.0</td>\n",
       "      <td>43.0</td>\n",
       "      <td>553.0</td>\n",
       "    </tr>\n",
       "    <tr>\n",
       "      <th>2</th>\n",
       "      <td>0.0</td>\n",
       "      <td>0.0</td>\n",
       "      <td>0.0</td>\n",
       "      <td>73.0</td>\n",
       "      <td>0.0</td>\n",
       "      <td>0.0</td>\n",
       "      <td>0.0</td>\n",
       "      <td>0.0</td>\n",
       "      <td>0.0</td>\n",
       "      <td>0.0</td>\n",
       "      <td>0.0</td>\n",
       "      <td>206.0</td>\n",
       "      <td>0.0</td>\n",
       "      <td>149.0</td>\n",
       "      <td>154.0</td>\n",
       "      <td>582.0</td>\n",
       "      <td>582.0</td>\n",
       "    </tr>\n",
       "    <tr>\n",
       "      <th>3</th>\n",
       "      <td>0.0</td>\n",
       "      <td>0.0</td>\n",
       "      <td>0.0</td>\n",
       "      <td>34.0</td>\n",
       "      <td>0.0</td>\n",
       "      <td>0.0</td>\n",
       "      <td>0.0</td>\n",
       "      <td>0.0</td>\n",
       "      <td>0.0</td>\n",
       "      <td>0.0</td>\n",
       "      <td>0.0</td>\n",
       "      <td>0.0</td>\n",
       "      <td>0.0</td>\n",
       "      <td>0.0</td>\n",
       "      <td>0.0</td>\n",
       "      <td>34.0</td>\n",
       "      <td>544.0</td>\n",
       "    </tr>\n",
       "    <tr>\n",
       "      <th>4</th>\n",
       "      <td>0.0</td>\n",
       "      <td>0.0</td>\n",
       "      <td>0.0</td>\n",
       "      <td>0.0</td>\n",
       "      <td>0.0</td>\n",
       "      <td>0.0</td>\n",
       "      <td>0.0</td>\n",
       "      <td>0.0</td>\n",
       "      <td>0.0</td>\n",
       "      <td>0.0</td>\n",
       "      <td>0.0</td>\n",
       "      <td>0.0</td>\n",
       "      <td>0.0</td>\n",
       "      <td>0.0</td>\n",
       "      <td>0.0</td>\n",
       "      <td>0.0</td>\n",
       "      <td>595.0</td>\n",
       "    </tr>\n",
       "    <tr>\n",
       "      <th>5</th>\n",
       "      <td>0.0</td>\n",
       "      <td>0.0</td>\n",
       "      <td>0.0</td>\n",
       "      <td>0.0</td>\n",
       "      <td>0.0</td>\n",
       "      <td>0.0</td>\n",
       "      <td>0.0</td>\n",
       "      <td>0.0</td>\n",
       "      <td>0.0</td>\n",
       "      <td>0.0</td>\n",
       "      <td>0.0</td>\n",
       "      <td>0.0</td>\n",
       "      <td>0.0</td>\n",
       "      <td>0.0</td>\n",
       "      <td>0.0</td>\n",
       "      <td>0.0</td>\n",
       "      <td>584.0</td>\n",
       "    </tr>\n",
       "  </tbody>\n",
       "</table>\n",
       "</div>"
      ],
      "text/plain": [
       "     Bulk 1  Bulk 2  Bulk 3  Bulk 4  Bulk 5  Bulk 6  Bulk 7  Bulk 8  Bulk 9  \\\n",
       "key                                                                           \n",
       "1       0.0     0.0     0.0    43.0     0.0     0.0     0.0     0.0     0.0   \n",
       "2       0.0     0.0     0.0    73.0     0.0     0.0     0.0     0.0     0.0   \n",
       "3       0.0     0.0     0.0    34.0     0.0     0.0     0.0     0.0     0.0   \n",
       "4       0.0     0.0     0.0     0.0     0.0     0.0     0.0     0.0     0.0   \n",
       "5       0.0     0.0     0.0     0.0     0.0     0.0     0.0     0.0     0.0   \n",
       "\n",
       "     Bulk 10  Bulk 11  Bulk 12  Bulk 13  Bulk 14  Bulk 15  bulk_intime  \\\n",
       "key                                                                      \n",
       "1        0.0      0.0      0.0      0.0      0.0      0.0         43.0   \n",
       "2        0.0      0.0    206.0      0.0    149.0    154.0        582.0   \n",
       "3        0.0      0.0      0.0      0.0      0.0      0.0         34.0   \n",
       "4        0.0      0.0      0.0      0.0      0.0      0.0          0.0   \n",
       "5        0.0      0.0      0.0      0.0      0.0      0.0          0.0   \n",
       "\n",
       "     bulk_total  \n",
       "key              \n",
       "1         553.0  \n",
       "2         582.0  \n",
       "3         544.0  \n",
       "4         595.0  \n",
       "5         584.0  "
      ]
     },
     "execution_count": 41,
     "metadata": {},
     "output_type": "execute_result"
    }
   ],
   "source": [
    "bulk_key['bulk_intime'] = calc_total(bulk_key)\n",
    "bulk_key['bulk_total'] = calc_total(data['bulk'].set_index('key').fillna(0))\n",
    "bulk_key.head()"
   ]
  },
  {
   "cell_type": "code",
   "execution_count": 42,
   "metadata": {
    "scrolled": true
   },
   "outputs": [
    {
     "data": {
      "text/html": [
       "<div>\n",
       "<style scoped>\n",
       "    .dataframe tbody tr th:only-of-type {\n",
       "        vertical-align: middle;\n",
       "    }\n",
       "\n",
       "    .dataframe tbody tr th {\n",
       "        vertical-align: top;\n",
       "    }\n",
       "\n",
       "    .dataframe thead th {\n",
       "        text-align: right;\n",
       "    }\n",
       "</style>\n",
       "<table border=\"1\" class=\"dataframe\">\n",
       "  <thead>\n",
       "    <tr style=\"text-align: right;\">\n",
       "      <th></th>\n",
       "      <th>Wire 1</th>\n",
       "      <th>Wire 2</th>\n",
       "      <th>Wire 3</th>\n",
       "      <th>Wire 4</th>\n",
       "      <th>Wire 5</th>\n",
       "      <th>Wire 6</th>\n",
       "      <th>Wire 7</th>\n",
       "      <th>Wire 8</th>\n",
       "      <th>Wire 9</th>\n",
       "      <th>wire_intime</th>\n",
       "      <th>wire_total</th>\n",
       "    </tr>\n",
       "    <tr>\n",
       "      <th>key</th>\n",
       "      <th></th>\n",
       "      <th></th>\n",
       "      <th></th>\n",
       "      <th></th>\n",
       "      <th></th>\n",
       "      <th></th>\n",
       "      <th></th>\n",
       "      <th></th>\n",
       "      <th></th>\n",
       "      <th></th>\n",
       "      <th></th>\n",
       "    </tr>\n",
       "  </thead>\n",
       "  <tbody>\n",
       "    <tr>\n",
       "      <th>1</th>\n",
       "      <td>0.000000</td>\n",
       "      <td>0.00000</td>\n",
       "      <td>0.0</td>\n",
       "      <td>0.0</td>\n",
       "      <td>0.0</td>\n",
       "      <td>0.0</td>\n",
       "      <td>0.0</td>\n",
       "      <td>0.0</td>\n",
       "      <td>0.0</td>\n",
       "      <td>0.000000</td>\n",
       "      <td>60.059998</td>\n",
       "    </tr>\n",
       "    <tr>\n",
       "      <th>2</th>\n",
       "      <td>96.052315</td>\n",
       "      <td>0.00000</td>\n",
       "      <td>0.0</td>\n",
       "      <td>0.0</td>\n",
       "      <td>0.0</td>\n",
       "      <td>0.0</td>\n",
       "      <td>0.0</td>\n",
       "      <td>0.0</td>\n",
       "      <td>0.0</td>\n",
       "      <td>96.052315</td>\n",
       "      <td>96.052315</td>\n",
       "    </tr>\n",
       "    <tr>\n",
       "      <th>3</th>\n",
       "      <td>91.160157</td>\n",
       "      <td>0.00000</td>\n",
       "      <td>0.0</td>\n",
       "      <td>0.0</td>\n",
       "      <td>0.0</td>\n",
       "      <td>0.0</td>\n",
       "      <td>0.0</td>\n",
       "      <td>0.0</td>\n",
       "      <td>0.0</td>\n",
       "      <td>91.160157</td>\n",
       "      <td>91.160157</td>\n",
       "    </tr>\n",
       "    <tr>\n",
       "      <th>4</th>\n",
       "      <td>0.000000</td>\n",
       "      <td>0.00000</td>\n",
       "      <td>0.0</td>\n",
       "      <td>0.0</td>\n",
       "      <td>0.0</td>\n",
       "      <td>0.0</td>\n",
       "      <td>0.0</td>\n",
       "      <td>0.0</td>\n",
       "      <td>0.0</td>\n",
       "      <td>0.000000</td>\n",
       "      <td>89.063515</td>\n",
       "    </tr>\n",
       "    <tr>\n",
       "      <th>5</th>\n",
       "      <td>0.000000</td>\n",
       "      <td>9.11456</td>\n",
       "      <td>0.0</td>\n",
       "      <td>0.0</td>\n",
       "      <td>0.0</td>\n",
       "      <td>0.0</td>\n",
       "      <td>0.0</td>\n",
       "      <td>0.0</td>\n",
       "      <td>0.0</td>\n",
       "      <td>9.114560</td>\n",
       "      <td>98.352796</td>\n",
       "    </tr>\n",
       "  </tbody>\n",
       "</table>\n",
       "</div>"
      ],
      "text/plain": [
       "        Wire 1   Wire 2  Wire 3  Wire 4  Wire 5  Wire 6  Wire 7  Wire 8  \\\n",
       "key                                                                       \n",
       "1     0.000000  0.00000     0.0     0.0     0.0     0.0     0.0     0.0   \n",
       "2    96.052315  0.00000     0.0     0.0     0.0     0.0     0.0     0.0   \n",
       "3    91.160157  0.00000     0.0     0.0     0.0     0.0     0.0     0.0   \n",
       "4     0.000000  0.00000     0.0     0.0     0.0     0.0     0.0     0.0   \n",
       "5     0.000000  9.11456     0.0     0.0     0.0     0.0     0.0     0.0   \n",
       "\n",
       "     Wire 9  wire_intime  wire_total  \n",
       "key                                   \n",
       "1       0.0     0.000000   60.059998  \n",
       "2       0.0    96.052315   96.052315  \n",
       "3       0.0    91.160157   91.160157  \n",
       "4       0.0     0.000000   89.063515  \n",
       "5       0.0     9.114560   98.352796  "
      ]
     },
     "execution_count": 42,
     "metadata": {},
     "output_type": "execute_result"
    }
   ],
   "source": [
    "wire_key['wire_intime'] = calc_total(wire_key)\n",
    "wire_key['wire_total'] = calc_total(data['wire'].set_index('key').fillna(0))\n",
    "wire_key.head()"
   ]
  },
  {
   "cell_type": "code",
   "execution_count": 43,
   "metadata": {},
   "outputs": [],
   "source": [
    "supplements_total = bulk_key.join(wire_key, how='outer')\n",
    "supplements_total = supplements_total.fillna(0)\n",
    "supplements_total['ratio'] = ((supplements_total['bulk_intime'] + supplements_total['wire_intime']) /\n",
    "                             (supplements_total['bulk_total'] + supplements_total['wire_total']))                                                   "
   ]
  },
  {
   "cell_type": "code",
   "execution_count": 44,
   "metadata": {
    "scrolled": false
   },
   "outputs": [],
   "source": [
    "# присоединим данные по обдуву \n",
    "gas_key = data['gas'].set_index('key')\n",
    "gas_key.columns = ['total_gas']\n",
    "supple_and_gas = supplements_total.join(gas_key, how='outer')\n",
    "supple_and_gas = supple_and_gas.fillna(0)\n",
    "supple_and_gas['total_gas'] = supple_and_gas['total_gas'] * supple_and_gas['ratio']"
   ]
  },
  {
   "cell_type": "markdown",
   "metadata": {},
   "source": [
    "#### 3.5. Объединение данных по разным операциям."
   ]
  },
  {
   "cell_type": "code",
   "execution_count": 45,
   "metadata": {},
   "outputs": [],
   "source": [
    "# объединим все таблицы\n",
    "data_key = temp_key.join([heat_key, supple_and_gas])"
   ]
  },
  {
   "cell_type": "code",
   "execution_count": 46,
   "metadata": {
    "scrolled": false
   },
   "outputs": [
    {
     "name": "stdout",
     "output_type": "stream",
     "text": [
      "<class 'pandas.core.frame.DataFrame'>\n",
      "Int64Index: 2475 entries, 1 to 2499\n",
      "Data columns (total 38 columns):\n",
      " #   Column              Non-Null Count  Dtype         \n",
      "---  ------              --------------  -----         \n",
      " 0   first_temp_measure  2475 non-null   datetime64[ns]\n",
      " 1   last_temp_measure   2475 non-null   datetime64[ns]\n",
      " 2   first_temp          2475 non-null   float64       \n",
      " 3   last_temp           2475 non-null   float64       \n",
      " 4   first_heat_start    2475 non-null   datetime64[ns]\n",
      " 5   last_heat_end       2475 non-null   datetime64[ns]\n",
      " 6   get_warmth          2475 non-null   float64       \n",
      " 7   Bulk 1              2475 non-null   float64       \n",
      " 8   Bulk 2              2475 non-null   float64       \n",
      " 9   Bulk 3              2475 non-null   float64       \n",
      " 10  Bulk 4              2475 non-null   float64       \n",
      " 11  Bulk 5              2475 non-null   float64       \n",
      " 12  Bulk 6              2475 non-null   float64       \n",
      " 13  Bulk 7              2475 non-null   float64       \n",
      " 14  Bulk 8              2475 non-null   float64       \n",
      " 15  Bulk 9              2475 non-null   float64       \n",
      " 16  Bulk 10             2475 non-null   float64       \n",
      " 17  Bulk 11             2475 non-null   float64       \n",
      " 18  Bulk 12             2475 non-null   float64       \n",
      " 19  Bulk 13             2475 non-null   float64       \n",
      " 20  Bulk 14             2475 non-null   float64       \n",
      " 21  Bulk 15             2475 non-null   float64       \n",
      " 22  bulk_intime         2475 non-null   float64       \n",
      " 23  bulk_total          2475 non-null   float64       \n",
      " 24  Wire 1              2475 non-null   float64       \n",
      " 25  Wire 2              2475 non-null   float64       \n",
      " 26  Wire 3              2475 non-null   float64       \n",
      " 27  Wire 4              2475 non-null   float64       \n",
      " 28  Wire 5              2475 non-null   float64       \n",
      " 29  Wire 6              2475 non-null   float64       \n",
      " 30  Wire 7              2475 non-null   float64       \n",
      " 31  Wire 8              2475 non-null   float64       \n",
      " 32  Wire 9              2475 non-null   float64       \n",
      " 33  wire_intime         2475 non-null   float64       \n",
      " 34  wire_total          2475 non-null   float64       \n",
      " 35  ratio               2475 non-null   float64       \n",
      " 36  total_gas           2475 non-null   float64       \n",
      " 37  duration_process    2475 non-null   int64         \n",
      "dtypes: datetime64[ns](4), float64(33), int64(1)\n",
      "memory usage: 754.1 KB\n"
     ]
    }
   ],
   "source": [
    "data_key_ready = data_key.copy()\n",
    "# добавим столбец с длительностью в секундах между самой первой операцией над партией металла и временем измерения температуры\n",
    "data_key_ready['duration_process'] = (data_key_ready['last_temp_measure'] - data_key_ready['first_temp_measure']).dt.seconds\n",
    "data_key_ready.info()"
   ]
  },
  {
   "cell_type": "code",
   "execution_count": 47,
   "metadata": {},
   "outputs": [],
   "source": [
    "def supple_cols(supple_type):\n",
    "    cols_to_keep = data[supple_type].columns.to_list()\n",
    "    cols_to_keep.remove('key')\n",
    "    return cols_to_keep"
   ]
  },
  {
   "cell_type": "code",
   "execution_count": 48,
   "metadata": {},
   "outputs": [],
   "source": [
    "# сформируем целевой признак и обучающие признаки\n",
    "y = data_key_ready['last_temp']\n",
    "features_cols = ['first_temp', 'get_warmth', 'total_gas', 'duration_process', *supple_cols('bulk'), *supple_cols('wire')]\n",
    "X = data_key_ready[features_cols]\n",
    "# X = data_key_ready.drop(cols_to_drop, axis=1)"
   ]
  },
  {
   "cell_type": "code",
   "execution_count": 49,
   "metadata": {
    "scrolled": true
   },
   "outputs": [
    {
     "data": {
      "text/html": [
       "<div>\n",
       "<style scoped>\n",
       "    .dataframe tbody tr th:only-of-type {\n",
       "        vertical-align: middle;\n",
       "    }\n",
       "\n",
       "    .dataframe tbody tr th {\n",
       "        vertical-align: top;\n",
       "    }\n",
       "\n",
       "    .dataframe thead th {\n",
       "        text-align: right;\n",
       "    }\n",
       "</style>\n",
       "<table border=\"1\" class=\"dataframe\">\n",
       "  <thead>\n",
       "    <tr style=\"text-align: right;\">\n",
       "      <th></th>\n",
       "      <th>first_temp</th>\n",
       "      <th>get_warmth</th>\n",
       "      <th>total_gas</th>\n",
       "      <th>duration_process</th>\n",
       "      <th>Bulk 1</th>\n",
       "      <th>Bulk 2</th>\n",
       "      <th>Bulk 3</th>\n",
       "      <th>Bulk 4</th>\n",
       "      <th>Bulk 5</th>\n",
       "      <th>Bulk 6</th>\n",
       "      <th>...</th>\n",
       "      <th>Bulk 15</th>\n",
       "      <th>Wire 1</th>\n",
       "      <th>Wire 2</th>\n",
       "      <th>Wire 3</th>\n",
       "      <th>Wire 4</th>\n",
       "      <th>Wire 5</th>\n",
       "      <th>Wire 6</th>\n",
       "      <th>Wire 7</th>\n",
       "      <th>Wire 8</th>\n",
       "      <th>Wire 9</th>\n",
       "    </tr>\n",
       "    <tr>\n",
       "      <th>key</th>\n",
       "      <th></th>\n",
       "      <th></th>\n",
       "      <th></th>\n",
       "      <th></th>\n",
       "      <th></th>\n",
       "      <th></th>\n",
       "      <th></th>\n",
       "      <th></th>\n",
       "      <th></th>\n",
       "      <th></th>\n",
       "      <th></th>\n",
       "      <th></th>\n",
       "      <th></th>\n",
       "      <th></th>\n",
       "      <th></th>\n",
       "      <th></th>\n",
       "      <th></th>\n",
       "      <th></th>\n",
       "      <th></th>\n",
       "      <th></th>\n",
       "      <th></th>\n",
       "    </tr>\n",
       "  </thead>\n",
       "  <tbody>\n",
       "    <tr>\n",
       "      <th>1</th>\n",
       "      <td>1571.0</td>\n",
       "      <td>708.195035</td>\n",
       "      <td>2.086663</td>\n",
       "      <td>861</td>\n",
       "      <td>0.0</td>\n",
       "      <td>0.0</td>\n",
       "      <td>0.0</td>\n",
       "      <td>43.0</td>\n",
       "      <td>0.0</td>\n",
       "      <td>0.0</td>\n",
       "      <td>...</td>\n",
       "      <td>0.0</td>\n",
       "      <td>0.000000</td>\n",
       "      <td>0.00000</td>\n",
       "      <td>0.0</td>\n",
       "      <td>0.0</td>\n",
       "      <td>0.0</td>\n",
       "      <td>0.0</td>\n",
       "      <td>0.0</td>\n",
       "      <td>0.0</td>\n",
       "      <td>0.0</td>\n",
       "    </tr>\n",
       "    <tr>\n",
       "      <th>2</th>\n",
       "      <td>1581.0</td>\n",
       "      <td>673.801792</td>\n",
       "      <td>12.555561</td>\n",
       "      <td>1305</td>\n",
       "      <td>0.0</td>\n",
       "      <td>0.0</td>\n",
       "      <td>0.0</td>\n",
       "      <td>73.0</td>\n",
       "      <td>0.0</td>\n",
       "      <td>0.0</td>\n",
       "      <td>...</td>\n",
       "      <td>154.0</td>\n",
       "      <td>96.052315</td>\n",
       "      <td>0.00000</td>\n",
       "      <td>0.0</td>\n",
       "      <td>0.0</td>\n",
       "      <td>0.0</td>\n",
       "      <td>0.0</td>\n",
       "      <td>0.0</td>\n",
       "      <td>0.0</td>\n",
       "      <td>0.0</td>\n",
       "    </tr>\n",
       "    <tr>\n",
       "      <th>3</th>\n",
       "      <td>1596.0</td>\n",
       "      <td>146.208505</td>\n",
       "      <td>5.626805</td>\n",
       "      <td>1300</td>\n",
       "      <td>0.0</td>\n",
       "      <td>0.0</td>\n",
       "      <td>0.0</td>\n",
       "      <td>34.0</td>\n",
       "      <td>0.0</td>\n",
       "      <td>0.0</td>\n",
       "      <td>...</td>\n",
       "      <td>0.0</td>\n",
       "      <td>91.160157</td>\n",
       "      <td>0.00000</td>\n",
       "      <td>0.0</td>\n",
       "      <td>0.0</td>\n",
       "      <td>0.0</td>\n",
       "      <td>0.0</td>\n",
       "      <td>0.0</td>\n",
       "      <td>0.0</td>\n",
       "      <td>0.0</td>\n",
       "    </tr>\n",
       "    <tr>\n",
       "      <th>4</th>\n",
       "      <td>1601.0</td>\n",
       "      <td>339.425494</td>\n",
       "      <td>0.000000</td>\n",
       "      <td>388</td>\n",
       "      <td>0.0</td>\n",
       "      <td>0.0</td>\n",
       "      <td>0.0</td>\n",
       "      <td>0.0</td>\n",
       "      <td>0.0</td>\n",
       "      <td>0.0</td>\n",
       "      <td>...</td>\n",
       "      <td>0.0</td>\n",
       "      <td>0.000000</td>\n",
       "      <td>0.00000</td>\n",
       "      <td>0.0</td>\n",
       "      <td>0.0</td>\n",
       "      <td>0.0</td>\n",
       "      <td>0.0</td>\n",
       "      <td>0.0</td>\n",
       "      <td>0.0</td>\n",
       "      <td>0.0</td>\n",
       "    </tr>\n",
       "    <tr>\n",
       "      <th>5</th>\n",
       "      <td>1576.0</td>\n",
       "      <td>691.980241</td>\n",
       "      <td>0.072314</td>\n",
       "      <td>762</td>\n",
       "      <td>0.0</td>\n",
       "      <td>0.0</td>\n",
       "      <td>0.0</td>\n",
       "      <td>0.0</td>\n",
       "      <td>0.0</td>\n",
       "      <td>0.0</td>\n",
       "      <td>...</td>\n",
       "      <td>0.0</td>\n",
       "      <td>0.000000</td>\n",
       "      <td>9.11456</td>\n",
       "      <td>0.0</td>\n",
       "      <td>0.0</td>\n",
       "      <td>0.0</td>\n",
       "      <td>0.0</td>\n",
       "      <td>0.0</td>\n",
       "      <td>0.0</td>\n",
       "      <td>0.0</td>\n",
       "    </tr>\n",
       "  </tbody>\n",
       "</table>\n",
       "<p>5 rows × 28 columns</p>\n",
       "</div>"
      ],
      "text/plain": [
       "     first_temp  get_warmth  total_gas  duration_process  Bulk 1  Bulk 2  \\\n",
       "key                                                                        \n",
       "1        1571.0  708.195035   2.086663               861     0.0     0.0   \n",
       "2        1581.0  673.801792  12.555561              1305     0.0     0.0   \n",
       "3        1596.0  146.208505   5.626805              1300     0.0     0.0   \n",
       "4        1601.0  339.425494   0.000000               388     0.0     0.0   \n",
       "5        1576.0  691.980241   0.072314               762     0.0     0.0   \n",
       "\n",
       "     Bulk 3  Bulk 4  Bulk 5  Bulk 6  ...  Bulk 15     Wire 1   Wire 2  Wire 3  \\\n",
       "key                                  ...                                        \n",
       "1       0.0    43.0     0.0     0.0  ...      0.0   0.000000  0.00000     0.0   \n",
       "2       0.0    73.0     0.0     0.0  ...    154.0  96.052315  0.00000     0.0   \n",
       "3       0.0    34.0     0.0     0.0  ...      0.0  91.160157  0.00000     0.0   \n",
       "4       0.0     0.0     0.0     0.0  ...      0.0   0.000000  0.00000     0.0   \n",
       "5       0.0     0.0     0.0     0.0  ...      0.0   0.000000  9.11456     0.0   \n",
       "\n",
       "     Wire 4  Wire 5  Wire 6  Wire 7  Wire 8  Wire 9  \n",
       "key                                                  \n",
       "1       0.0     0.0     0.0     0.0     0.0     0.0  \n",
       "2       0.0     0.0     0.0     0.0     0.0     0.0  \n",
       "3       0.0     0.0     0.0     0.0     0.0     0.0  \n",
       "4       0.0     0.0     0.0     0.0     0.0     0.0  \n",
       "5       0.0     0.0     0.0     0.0     0.0     0.0  \n",
       "\n",
       "[5 rows x 28 columns]"
      ]
     },
     "execution_count": 49,
     "metadata": {},
     "output_type": "execute_result"
    }
   ],
   "source": [
    "X.head()"
   ]
  },
  {
   "cell_type": "code",
   "execution_count": 50,
   "metadata": {
    "scrolled": false
   },
   "outputs": [
    {
     "name": "stdout",
     "output_type": "stream",
     "text": [
      "<class 'pandas.core.frame.DataFrame'>\n",
      "Int64Index: 2475 entries, 1 to 2499\n",
      "Data columns (total 28 columns):\n",
      " #   Column            Non-Null Count  Dtype  \n",
      "---  ------            --------------  -----  \n",
      " 0   first_temp        2475 non-null   float64\n",
      " 1   get_warmth        2475 non-null   float64\n",
      " 2   total_gas         2475 non-null   float64\n",
      " 3   duration_process  2475 non-null   int64  \n",
      " 4   Bulk 1            2475 non-null   float64\n",
      " 5   Bulk 2            2475 non-null   float64\n",
      " 6   Bulk 3            2475 non-null   float64\n",
      " 7   Bulk 4            2475 non-null   float64\n",
      " 8   Bulk 5            2475 non-null   float64\n",
      " 9   Bulk 6            2475 non-null   float64\n",
      " 10  Bulk 7            2475 non-null   float64\n",
      " 11  Bulk 8            2475 non-null   float64\n",
      " 12  Bulk 9            2475 non-null   float64\n",
      " 13  Bulk 10           2475 non-null   float64\n",
      " 14  Bulk 11           2475 non-null   float64\n",
      " 15  Bulk 12           2475 non-null   float64\n",
      " 16  Bulk 13           2475 non-null   float64\n",
      " 17  Bulk 14           2475 non-null   float64\n",
      " 18  Bulk 15           2475 non-null   float64\n",
      " 19  Wire 1            2475 non-null   float64\n",
      " 20  Wire 2            2475 non-null   float64\n",
      " 21  Wire 3            2475 non-null   float64\n",
      " 22  Wire 4            2475 non-null   float64\n",
      " 23  Wire 5            2475 non-null   float64\n",
      " 24  Wire 6            2475 non-null   float64\n",
      " 25  Wire 7            2475 non-null   float64\n",
      " 26  Wire 8            2475 non-null   float64\n",
      " 27  Wire 9            2475 non-null   float64\n",
      "dtypes: float64(27), int64(1)\n",
      "memory usage: 560.7 KB\n"
     ]
    }
   ],
   "source": [
    "X.info()"
   ]
  },
  {
   "cell_type": "markdown",
   "metadata": {},
   "source": [
    "## 4. Обучение и выбор модели."
   ]
  },
  {
   "cell_type": "code",
   "execution_count": 51,
   "metadata": {
    "scrolled": true
   },
   "outputs": [],
   "source": [
    "X_train = {}\n",
    "X_test = {}\n",
    "RANDOM_STATE = 1234\n",
    "X_train['raw'], X_test['raw'], y_train, y_test = train_test_split(X, y, test_size=0.25, random_state=RANDOM_STATE)\n",
    "# для сравнения разных моделей создадим df с результатами метрик\n",
    "results = pd.DataFrame(columns=['MAE on test data', 'MAE on train data', 'MAE_test / MAE_train'])\n",
    "# и с показателями feature_importances_\n",
    "fi = pd.DataFrame(index=X.columns)"
   ]
  },
  {
   "cell_type": "code",
   "execution_count": 52,
   "metadata": {},
   "outputs": [],
   "source": [
    "# стандартизуем данные\n",
    "scaler = StandardScaler()\n",
    "scaler.fit(X_train['raw']) \n",
    "X_train['standart'] = scaler.transform(X_train['raw'])\n",
    "X_test['standart'] = scaler.transform(X_test['raw'])"
   ]
  },
  {
   "cell_type": "code",
   "execution_count": 53,
   "metadata": {},
   "outputs": [],
   "source": [
    "# функция добавляет результаты в итоговую таблицу для уже обученной модели\n",
    "def add_results(model, model_name, data_type):\n",
    "    y_test_predict = model.predict(X_test[data_type])\n",
    "    mae_test = mean_absolute_error(y_test, y_test_predict)\n",
    "    y_train_predict = model.predict(X_train[data_type])\n",
    "    mae_train = mean_absolute_error(y_train, y_train_predict)\n",
    "    results.loc[model_name, 'MAE on test data'] = mae_test\n",
    "    results.loc[model_name, 'MAE on train data'] = mae_train\n",
    "    results.loc[model_name, 'MAE_test / MAE_train'] = mae_test / mae_train\n"
   ]
  },
  {
   "cell_type": "code",
   "execution_count": 54,
   "metadata": {},
   "outputs": [],
   "source": [
    "class DummyModel:\n",
    "    def fit(self, y_train):\n",
    "        self.meaning = y_train.median()\n",
    "    def predict(self, X):\n",
    "        dummy_predict = np.full(X.shape[0], self.meaning)\n",
    "        return dummy_predict"
   ]
  },
  {
   "cell_type": "code",
   "execution_count": 55,
   "metadata": {},
   "outputs": [],
   "source": [
    "dummy = DummyModel()\n",
    "dummy.fit(y_train)\n",
    "add_results(dummy, 'Dummy model, median value in train data', 'raw')"
   ]
  },
  {
   "cell_type": "markdown",
   "metadata": {},
   "source": [
    "#### Линейная регрессия."
   ]
  },
  {
   "cell_type": "code",
   "execution_count": 56,
   "metadata": {},
   "outputs": [],
   "source": [
    "model = LinearRegression().fit(X_train['standart'], y_train)\n",
    "add_results(model, 'Linear regression, default parameters, standart data', 'standart')"
   ]
  },
  {
   "cell_type": "code",
   "execution_count": 57,
   "metadata": {
    "scrolled": false
   },
   "outputs": [
    {
     "data": {
      "text/html": [
       "<div>\n",
       "<style scoped>\n",
       "    .dataframe tbody tr th:only-of-type {\n",
       "        vertical-align: middle;\n",
       "    }\n",
       "\n",
       "    .dataframe tbody tr th {\n",
       "        vertical-align: top;\n",
       "    }\n",
       "\n",
       "    .dataframe thead th {\n",
       "        text-align: right;\n",
       "    }\n",
       "</style>\n",
       "<table border=\"1\" class=\"dataframe\">\n",
       "  <thead>\n",
       "    <tr style=\"text-align: right;\">\n",
       "      <th></th>\n",
       "      <th>MAE on test data</th>\n",
       "      <th>MAE on train data</th>\n",
       "      <th>MAE_test / MAE_train</th>\n",
       "    </tr>\n",
       "  </thead>\n",
       "  <tbody>\n",
       "    <tr>\n",
       "      <th>Dummy model, median value in train data</th>\n",
       "      <td>10.0872</td>\n",
       "      <td>9.8319</td>\n",
       "      <td>1.02597</td>\n",
       "    </tr>\n",
       "    <tr>\n",
       "      <th>Linear regression, default parameters, standart data</th>\n",
       "      <td>7.71973</td>\n",
       "      <td>7.50882</td>\n",
       "      <td>1.02809</td>\n",
       "    </tr>\n",
       "  </tbody>\n",
       "</table>\n",
       "</div>"
      ],
      "text/plain": [
       "                                                   MAE on test data  \\\n",
       "Dummy model, median value in train data                     10.0872   \n",
       "Linear regression, default parameters, standart...          7.71973   \n",
       "\n",
       "                                                   MAE on train data  \\\n",
       "Dummy model, median value in train data                       9.8319   \n",
       "Linear regression, default parameters, standart...           7.50882   \n",
       "\n",
       "                                                   MAE_test / MAE_train  \n",
       "Dummy model, median value in train data                         1.02597  \n",
       "Linear regression, default parameters, standart...              1.02809  "
      ]
     },
     "execution_count": 57,
     "metadata": {},
     "output_type": "execute_result"
    }
   ],
   "source": [
    "results"
   ]
  },
  {
   "cell_type": "code",
   "execution_count": 58,
   "metadata": {},
   "outputs": [
    {
     "data": {
      "image/png": "[encoded data removed]",
      "text/plain": [
       "<Figure size 1008x288 with 1 Axes>"
      ]
     },
     "metadata": {
      "needs_background": "light"
     },
     "output_type": "display_data"
    }
   ],
   "source": [
    "# добавим данные в таблицу fi\n",
    "feature_importances = pd.Series(model.coef_, index=X.columns)\n",
    "feature_importances = feature_importances.abs()\n",
    "feature_importances = feature_importances / feature_importances.sum()\n",
    "ax = feature_importances.plot(kind='bar', grid=True, figsize=(14,4), title='Feature importances for Linear regression, default parameters')\n",
    "fi['LR'] = feature_importances"
   ]
  },
  {
   "cell_type": "markdown",
   "metadata": {},
   "source": [
    "#### Случайный лес."
   ]
  },
  {
   "cell_type": "code",
   "execution_count": 59,
   "metadata": {
    "scrolled": true
   },
   "outputs": [],
   "source": [
    "# функция выбирает лучшие гиперпараметры модели кросс-валидацией, \n",
    "# затем обучает модель с этими параметрами на всем train наборе, затем добавляет результат в итоговую таблицу\n",
    "def select_model(model_method, param_grid, data_type):\n",
    "    model = model_method(random_state=RANDOM_STATE)\n",
    "    CV_model = GridSearchCV(estimator=model, param_grid=param_grid, error_score='neg_mean_absolute_error', cv=5)\n",
    "    CV_model.fit(X_train[data_type], y_train)\n",
    "    model_best = model_method(random_state=RANDOM_STATE, **CV_model.best_params_)\n",
    "    model_best.fit(X_train[data_type], y_train)\n",
    "    param_summary = ''\n",
    "    for param in CV_model.best_params_:\n",
    "        param_summary += str(param) + '='\n",
    "        param_summary += str(CV_model.best_params_[param]) + ' '\n",
    "    model_best_name = f'{model_best.__class__.__name__}, {param_summary}, {data_type} data'\n",
    "    add_results(model_best, model_best_name, data_type)\n",
    "    feature_importances = pd.Series(model_best.feature_importances_, index=X.columns)\n",
    "    model_best_summary = model_best_name + ': '\n",
    "    for col in results.columns:\n",
    "        model_best_summary += col + ': ' + str(round(results.loc[model_best_name, col], 1)) + ' '\n",
    "    ax = feature_importances.plot(kind='bar', grid=True, title = model_best_summary, figsize=(14,4))\n",
    "    return feature_importances"
   ]
  },
  {
   "cell_type": "code",
   "execution_count": 60,
   "metadata": {
    "scrolled": true
   },
   "outputs": [
    {
     "data": {
      "image/png": "[encoded data removed]",
      "text/plain": [
       "<Figure size 1008x288 with 1 Axes>"
      ]
     },
     "metadata": {
      "needs_background": "light"
     },
     "output_type": "display_data"
    }
   ],
   "source": [
    "# не будем производить поиск с кросс-валидацией по всей матрице (глубина, кол-во деревьев), \n",
    "# определим сначала лучшую глубину на небольшом кол-ве деревьев\n",
    "fi_new = select_model(RandomForestRegressor, {'max_depth' : range(5, 20), 'n_estimators' : [20]}, 'raw')"
   ]
  },
  {
   "cell_type": "code",
   "execution_count": 61,
   "metadata": {},
   "outputs": [],
   "source": [
    "fi['RF_d17_est20'] = fi_new"
   ]
  },
  {
   "cell_type": "code",
   "execution_count": 62,
   "metadata": {
    "scrolled": true
   },
   "outputs": [
    {
     "data": {
      "text/html": [
       "<div>\n",
       "<style scoped>\n",
       "    .dataframe tbody tr th:only-of-type {\n",
       "        vertical-align: middle;\n",
       "    }\n",
       "\n",
       "    .dataframe tbody tr th {\n",
       "        vertical-align: top;\n",
       "    }\n",
       "\n",
       "    .dataframe thead th {\n",
       "        text-align: right;\n",
       "    }\n",
       "</style>\n",
       "<table border=\"1\" class=\"dataframe\">\n",
       "  <thead>\n",
       "    <tr style=\"text-align: right;\">\n",
       "      <th></th>\n",
       "      <th>MAE on test data</th>\n",
       "      <th>MAE on train data</th>\n",
       "      <th>MAE_test / MAE_train</th>\n",
       "    </tr>\n",
       "  </thead>\n",
       "  <tbody>\n",
       "    <tr>\n",
       "      <th>Dummy model, median value in train data</th>\n",
       "      <td>10.0872</td>\n",
       "      <td>9.8319</td>\n",
       "      <td>1.02597</td>\n",
       "    </tr>\n",
       "    <tr>\n",
       "      <th>Linear regression, default parameters, standart data</th>\n",
       "      <td>7.71973</td>\n",
       "      <td>7.50882</td>\n",
       "      <td>1.02809</td>\n",
       "    </tr>\n",
       "    <tr>\n",
       "      <th>RandomForestRegressor, max_depth=17 n_estimators=20 , raw data</th>\n",
       "      <td>6.20103</td>\n",
       "      <td>2.68328</td>\n",
       "      <td>2.31099</td>\n",
       "    </tr>\n",
       "  </tbody>\n",
       "</table>\n",
       "</div>"
      ],
      "text/plain": [
       "                                                   MAE on test data  \\\n",
       "Dummy model, median value in train data                     10.0872   \n",
       "Linear regression, default parameters, standart...          7.71973   \n",
       "RandomForestRegressor, max_depth=17 n_estimator...          6.20103   \n",
       "\n",
       "                                                   MAE on train data  \\\n",
       "Dummy model, median value in train data                       9.8319   \n",
       "Linear regression, default parameters, standart...           7.50882   \n",
       "RandomForestRegressor, max_depth=17 n_estimator...           2.68328   \n",
       "\n",
       "                                                   MAE_test / MAE_train  \n",
       "Dummy model, median value in train data                         1.02597  \n",
       "Linear regression, default parameters, standart...              1.02809  \n",
       "RandomForestRegressor, max_depth=17 n_estimator...              2.31099  "
      ]
     },
     "execution_count": 62,
     "metadata": {},
     "output_type": "execute_result"
    }
   ],
   "source": [
    "results"
   ]
  },
  {
   "cell_type": "code",
   "execution_count": 63,
   "metadata": {},
   "outputs": [
    {
     "data": {
      "image/png": "[encoded data removed]",
      "text/plain": [
       "<Figure size 1008x288 with 1 Axes>"
      ]
     },
     "metadata": {
      "needs_background": "light"
     },
     "output_type": "display_data"
    }
   ],
   "source": [
    "# теперь подберем лучшее кол-во оценщиков\n",
    "fi_new = select_model(RandomForestRegressor, {'max_depth' : [17], 'n_estimators' : range(90, 180, 9)}, 'raw')"
   ]
  },
  {
   "cell_type": "code",
   "execution_count": 64,
   "metadata": {},
   "outputs": [],
   "source": [
    "fi['RF_d17_est171'] = fi_new"
   ]
  },
  {
   "cell_type": "code",
   "execution_count": 65,
   "metadata": {
    "scrolled": true
   },
   "outputs": [
    {
     "data": {
      "image/png": "[encoded data removed]",
      "text/plain": [
       "<Figure size 1008x288 with 1 Axes>"
      ]
     },
     "metadata": {
      "needs_background": "light"
     },
     "output_type": "display_data"
    }
   ],
   "source": [
    "# лес сильно переобучен, попробуем сильнее ограничить число уровней\n",
    "fi_new = select_model(RandomForestRegressor, {'max_depth' : [11], 'n_estimators' : range(171, 220, 9)}, 'raw')"
   ]
  },
  {
   "cell_type": "code",
   "execution_count": 66,
   "metadata": {},
   "outputs": [],
   "source": [
    "fi['RF_d11_est216'] = fi_new"
   ]
  },
  {
   "cell_type": "code",
   "execution_count": 67,
   "metadata": {},
   "outputs": [
    {
     "data": {
      "text/html": [
       "<div>\n",
       "<style scoped>\n",
       "    .dataframe tbody tr th:only-of-type {\n",
       "        vertical-align: middle;\n",
       "    }\n",
       "\n",
       "    .dataframe tbody tr th {\n",
       "        vertical-align: top;\n",
       "    }\n",
       "\n",
       "    .dataframe thead th {\n",
       "        text-align: right;\n",
       "    }\n",
       "</style>\n",
       "<table border=\"1\" class=\"dataframe\">\n",
       "  <thead>\n",
       "    <tr style=\"text-align: right;\">\n",
       "      <th></th>\n",
       "      <th>MAE on test data</th>\n",
       "      <th>MAE on train data</th>\n",
       "      <th>MAE_test / MAE_train</th>\n",
       "    </tr>\n",
       "  </thead>\n",
       "  <tbody>\n",
       "    <tr>\n",
       "      <th>Dummy model, median value in train data</th>\n",
       "      <td>10.0872</td>\n",
       "      <td>9.8319</td>\n",
       "      <td>1.02597</td>\n",
       "    </tr>\n",
       "    <tr>\n",
       "      <th>Linear regression, default parameters, standart data</th>\n",
       "      <td>7.71973</td>\n",
       "      <td>7.50882</td>\n",
       "      <td>1.02809</td>\n",
       "    </tr>\n",
       "    <tr>\n",
       "      <th>RandomForestRegressor, max_depth=17 n_estimators=20 , raw data</th>\n",
       "      <td>6.20103</td>\n",
       "      <td>2.68328</td>\n",
       "      <td>2.31099</td>\n",
       "    </tr>\n",
       "    <tr>\n",
       "      <th>RandomForestRegressor, max_depth=17 n_estimators=171 , raw data</th>\n",
       "      <td>6.04314</td>\n",
       "      <td>2.51325</td>\n",
       "      <td>2.40451</td>\n",
       "    </tr>\n",
       "    <tr>\n",
       "      <th>RandomForestRegressor, max_depth=11 n_estimators=216 , raw data</th>\n",
       "      <td>6.11885</td>\n",
       "      <td>3.61589</td>\n",
       "      <td>1.69221</td>\n",
       "    </tr>\n",
       "  </tbody>\n",
       "</table>\n",
       "</div>"
      ],
      "text/plain": [
       "                                                   MAE on test data  \\\n",
       "Dummy model, median value in train data                     10.0872   \n",
       "Linear regression, default parameters, standart...          7.71973   \n",
       "RandomForestRegressor, max_depth=17 n_estimator...          6.20103   \n",
       "RandomForestRegressor, max_depth=17 n_estimator...          6.04314   \n",
       "RandomForestRegressor, max_depth=11 n_estimator...          6.11885   \n",
       "\n",
       "                                                   MAE on train data  \\\n",
       "Dummy model, median value in train data                       9.8319   \n",
       "Linear regression, default parameters, standart...           7.50882   \n",
       "RandomForestRegressor, max_depth=17 n_estimator...           2.68328   \n",
       "RandomForestRegressor, max_depth=17 n_estimator...           2.51325   \n",
       "RandomForestRegressor, max_depth=11 n_estimator...           3.61589   \n",
       "\n",
       "                                                   MAE_test / MAE_train  \n",
       "Dummy model, median value in train data                         1.02597  \n",
       "Linear regression, default parameters, standart...              1.02809  \n",
       "RandomForestRegressor, max_depth=17 n_estimator...              2.31099  \n",
       "RandomForestRegressor, max_depth=17 n_estimator...              2.40451  \n",
       "RandomForestRegressor, max_depth=11 n_estimator...              1.69221  "
      ]
     },
     "execution_count": 67,
     "metadata": {},
     "output_type": "execute_result"
    }
   ],
   "source": [
    "results"
   ]
  },
  {
   "cell_type": "markdown",
   "metadata": {},
   "source": [
    "### Градиентный бустинг."
   ]
  },
  {
   "cell_type": "markdown",
   "metadata": {},
   "source": [
    "Библиотека LightGBM позволяет проводить обучение на train наборе, останавливая обучение, если целевая метрика на validation наборе перестает улучшаться. Для того, чтобы \"не заглядывать в будущее\", я поступлю следующим образом - разобью исходный набор данных на train и valid с другим random_state. На этом разбиении получу наилучший гиперпараметр  - кол-во деревьев. Затем, используя этот гиперпараметр, переобучу модель на стандартном train наборе для всех предыдущих моделей и полученную на test наборе метрику внесу в конечную таблицу."
   ]
  },
  {
   "cell_type": "code",
   "execution_count": 68,
   "metadata": {},
   "outputs": [],
   "source": [
    "RANDOM_STATE_LGB = RANDOM_STATE + 1\n",
    "X_train_lgb, X_valid, y_train_lgb, y_valid = train_test_split(X, y, test_size=0.25, random_state=RANDOM_STATE_LGB)"
   ]
  },
  {
   "cell_type": "code",
   "execution_count": 69,
   "metadata": {
    "scrolled": true
   },
   "outputs": [
    {
     "data": {
      "text/plain": [
       "LGBMRegressor(boosting_type='gbdt', class_weight=None, colsample_bytree=1.0,\n",
       "              importance_type='split', learning_rate=0.1, max_depth=-1,\n",
       "              min_child_samples=20, min_child_weight=0.001, min_split_gain=0.0,\n",
       "              n_estimators=100, n_jobs=-1, num_leaves=31, objective=None,\n",
       "              random_state=1235, reg_alpha=0.0, reg_lambda=0.0, silent=True,\n",
       "              subsample=1.0, subsample_for_bin=200000, subsample_freq=0)"
      ]
     },
     "execution_count": 69,
     "metadata": {},
     "output_type": "execute_result"
    }
   ],
   "source": [
    "model_lgb = lgb.LGBMRegressor(random_state=RANDOM_STATE_LGB)\n",
    "model_lgb.fit(X_train_lgb, y_train_lgb, eval_set=[(X_valid, y_valid)], eval_metric='l1', early_stopping_rounds=5, verbose=0)"
   ]
  },
  {
   "cell_type": "code",
   "execution_count": 70,
   "metadata": {},
   "outputs": [],
   "source": [
    "n_estimators_lgb = model_lgb.best_iteration_"
   ]
  },
  {
   "cell_type": "code",
   "execution_count": 71,
   "metadata": {
    "scrolled": true
   },
   "outputs": [
    {
     "data": {
      "text/html": [
       "<div>\n",
       "<style scoped>\n",
       "    .dataframe tbody tr th:only-of-type {\n",
       "        vertical-align: middle;\n",
       "    }\n",
       "\n",
       "    .dataframe tbody tr th {\n",
       "        vertical-align: top;\n",
       "    }\n",
       "\n",
       "    .dataframe thead th {\n",
       "        text-align: right;\n",
       "    }\n",
       "</style>\n",
       "<table border=\"1\" class=\"dataframe\">\n",
       "  <thead>\n",
       "    <tr style=\"text-align: right;\">\n",
       "      <th></th>\n",
       "      <th>MAE on test data</th>\n",
       "      <th>MAE on train data</th>\n",
       "      <th>MAE_test / MAE_train</th>\n",
       "    </tr>\n",
       "  </thead>\n",
       "  <tbody>\n",
       "    <tr>\n",
       "      <th>Dummy model, median value in train data</th>\n",
       "      <td>10.0872</td>\n",
       "      <td>9.8319</td>\n",
       "      <td>1.02597</td>\n",
       "    </tr>\n",
       "    <tr>\n",
       "      <th>Linear regression, default parameters, standart data</th>\n",
       "      <td>7.71973</td>\n",
       "      <td>7.50882</td>\n",
       "      <td>1.02809</td>\n",
       "    </tr>\n",
       "    <tr>\n",
       "      <th>RandomForestRegressor, max_depth=17 n_estimators=20 , raw data</th>\n",
       "      <td>6.20103</td>\n",
       "      <td>2.68328</td>\n",
       "      <td>2.31099</td>\n",
       "    </tr>\n",
       "    <tr>\n",
       "      <th>RandomForestRegressor, max_depth=17 n_estimators=171 , raw data</th>\n",
       "      <td>6.04314</td>\n",
       "      <td>2.51325</td>\n",
       "      <td>2.40451</td>\n",
       "    </tr>\n",
       "    <tr>\n",
       "      <th>RandomForestRegressor, max_depth=11 n_estimators=216 , raw data</th>\n",
       "      <td>6.11885</td>\n",
       "      <td>3.61589</td>\n",
       "      <td>1.69221</td>\n",
       "    </tr>\n",
       "    <tr>\n",
       "      <th>LightGBM, n_estimators=56, raw data</th>\n",
       "      <td>5.86435</td>\n",
       "      <td>3.86632</td>\n",
       "      <td>1.51678</td>\n",
       "    </tr>\n",
       "  </tbody>\n",
       "</table>\n",
       "</div>"
      ],
      "text/plain": [
       "                                                   MAE on test data  \\\n",
       "Dummy model, median value in train data                     10.0872   \n",
       "Linear regression, default parameters, standart...          7.71973   \n",
       "RandomForestRegressor, max_depth=17 n_estimator...          6.20103   \n",
       "RandomForestRegressor, max_depth=17 n_estimator...          6.04314   \n",
       "RandomForestRegressor, max_depth=11 n_estimator...          6.11885   \n",
       "LightGBM, n_estimators=56, raw data                         5.86435   \n",
       "\n",
       "                                                   MAE on train data  \\\n",
       "Dummy model, median value in train data                       9.8319   \n",
       "Linear regression, default parameters, standart...           7.50882   \n",
       "RandomForestRegressor, max_depth=17 n_estimator...           2.68328   \n",
       "RandomForestRegressor, max_depth=17 n_estimator...           2.51325   \n",
       "RandomForestRegressor, max_depth=11 n_estimator...           3.61589   \n",
       "LightGBM, n_estimators=56, raw data                          3.86632   \n",
       "\n",
       "                                                   MAE_test / MAE_train  \n",
       "Dummy model, median value in train data                         1.02597  \n",
       "Linear regression, default parameters, standart...              1.02809  \n",
       "RandomForestRegressor, max_depth=17 n_estimator...              2.31099  \n",
       "RandomForestRegressor, max_depth=17 n_estimator...              2.40451  \n",
       "RandomForestRegressor, max_depth=11 n_estimator...              1.69221  \n",
       "LightGBM, n_estimators=56, raw data                             1.51678  "
      ]
     },
     "execution_count": 71,
     "metadata": {},
     "output_type": "execute_result"
    }
   ],
   "source": [
    "model_lgb_final = lgb.LGBMRegressor(random_state=RANDOM_STATE_LGB, n_estimators=n_estimators_lgb)\n",
    "model_lgb_final.fit(X_train['raw'], y_train, verbose=0)\n",
    "add_results(model_lgb_final, f'LightGBM, n_estimators={n_estimators_lgb}, raw data', 'raw')\n",
    "results"
   ]
  },
  {
   "cell_type": "code",
   "execution_count": 72,
   "metadata": {
    "scrolled": false
   },
   "outputs": [
    {
     "data": {
      "image/png": "[encoded data removed]",
      "text/plain": [
       "<Figure size 1080x432 with 1 Axes>"
      ]
     },
     "metadata": {
      "needs_background": "light"
     },
     "output_type": "display_data"
    }
   ],
   "source": [
    "# добавим данные в таблицу fi\n",
    "fi_new = pd.Series(model_lgb_final.feature_importances_, index=X.columns)\n",
    "fi_new = fi_new / fi_new.sum()\n",
    "fi['LGBM_est56'] = fi_new\n",
    "ax = fi.plot(kind='bar', grid=True, figsize=(15,6), title='Feature importances for all models')"
   ]
  },
  {
   "cell_type": "markdown",
   "metadata": {},
   "source": [
    "На общем графике хорошо видно, что первое измерение температуры, полученное тепло, кол-во газа для обдува и промежуток времени между измерениями температур являются неотъемлемыми признаками для любой модели. Данные по легированию для разных методов моделирования имеют различную важность. Тем не менее, можно выделить те добавки, которые также важны для любого метода моделирования - Bulk 6, Bulk 12, Bulk 14, Bulk 15, Wire 1, Wire 2, Wire 6. Попробуем улучшить качество лучшей модели, оставив для обучения только те признаки, которые имеют высокую важность."
   ]
  },
  {
   "cell_type": "code",
   "execution_count": 73,
   "metadata": {},
   "outputs": [],
   "source": [
    "cols_to_keep = fi[fi['LGBM_est56'] > 0].index.to_list()"
   ]
  },
  {
   "cell_type": "code",
   "execution_count": 74,
   "metadata": {
    "scrolled": true
   },
   "outputs": [
    {
     "data": {
      "text/html": [
       "<div>\n",
       "<style scoped>\n",
       "    .dataframe tbody tr th:only-of-type {\n",
       "        vertical-align: middle;\n",
       "    }\n",
       "\n",
       "    .dataframe tbody tr th {\n",
       "        vertical-align: top;\n",
       "    }\n",
       "\n",
       "    .dataframe thead th {\n",
       "        text-align: right;\n",
       "    }\n",
       "</style>\n",
       "<table border=\"1\" class=\"dataframe\">\n",
       "  <thead>\n",
       "    <tr style=\"text-align: right;\">\n",
       "      <th></th>\n",
       "      <th>MAE on test data</th>\n",
       "      <th>MAE on train data</th>\n",
       "      <th>MAE_test / MAE_train</th>\n",
       "    </tr>\n",
       "  </thead>\n",
       "  <tbody>\n",
       "    <tr>\n",
       "      <th>Dummy model, median value in train data</th>\n",
       "      <td>10.0872</td>\n",
       "      <td>9.8319</td>\n",
       "      <td>1.02597</td>\n",
       "    </tr>\n",
       "    <tr>\n",
       "      <th>Linear regression, default parameters, standart data</th>\n",
       "      <td>7.71973</td>\n",
       "      <td>7.50882</td>\n",
       "      <td>1.02809</td>\n",
       "    </tr>\n",
       "    <tr>\n",
       "      <th>RandomForestRegressor, max_depth=17 n_estimators=20 , raw data</th>\n",
       "      <td>6.20103</td>\n",
       "      <td>2.68328</td>\n",
       "      <td>2.31099</td>\n",
       "    </tr>\n",
       "    <tr>\n",
       "      <th>RandomForestRegressor, max_depth=17 n_estimators=171 , raw data</th>\n",
       "      <td>6.04314</td>\n",
       "      <td>2.51325</td>\n",
       "      <td>2.40451</td>\n",
       "    </tr>\n",
       "    <tr>\n",
       "      <th>RandomForestRegressor, max_depth=11 n_estimators=216 , raw data</th>\n",
       "      <td>6.11885</td>\n",
       "      <td>3.61589</td>\n",
       "      <td>1.69221</td>\n",
       "    </tr>\n",
       "    <tr>\n",
       "      <th>LightGBM, n_estimators=56, raw data</th>\n",
       "      <td>5.86435</td>\n",
       "      <td>3.86632</td>\n",
       "      <td>1.51678</td>\n",
       "    </tr>\n",
       "    <tr>\n",
       "      <th>LightGBM, drop non important features, n_estimators=52, raw data</th>\n",
       "      <td>5.87007</td>\n",
       "      <td>3.95438</td>\n",
       "      <td>1.48445</td>\n",
       "    </tr>\n",
       "  </tbody>\n",
       "</table>\n",
       "</div>"
      ],
      "text/plain": [
       "                                                   MAE on test data  \\\n",
       "Dummy model, median value in train data                     10.0872   \n",
       "Linear regression, default parameters, standart...          7.71973   \n",
       "RandomForestRegressor, max_depth=17 n_estimator...          6.20103   \n",
       "RandomForestRegressor, max_depth=17 n_estimator...          6.04314   \n",
       "RandomForestRegressor, max_depth=11 n_estimator...          6.11885   \n",
       "LightGBM, n_estimators=56, raw data                         5.86435   \n",
       "LightGBM, drop non important features, n_estima...          5.87007   \n",
       "\n",
       "                                                   MAE on train data  \\\n",
       "Dummy model, median value in train data                       9.8319   \n",
       "Linear regression, default parameters, standart...           7.50882   \n",
       "RandomForestRegressor, max_depth=17 n_estimator...           2.68328   \n",
       "RandomForestRegressor, max_depth=17 n_estimator...           2.51325   \n",
       "RandomForestRegressor, max_depth=11 n_estimator...           3.61589   \n",
       "LightGBM, n_estimators=56, raw data                          3.86632   \n",
       "LightGBM, drop non important features, n_estima...           3.95438   \n",
       "\n",
       "                                                   MAE_test / MAE_train  \n",
       "Dummy model, median value in train data                         1.02597  \n",
       "Linear regression, default parameters, standart...              1.02809  \n",
       "RandomForestRegressor, max_depth=17 n_estimator...              2.31099  \n",
       "RandomForestRegressor, max_depth=17 n_estimator...              2.40451  \n",
       "RandomForestRegressor, max_depth=11 n_estimator...              1.69221  \n",
       "LightGBM, n_estimators=56, raw data                             1.51678  \n",
       "LightGBM, drop non important features, n_estima...              1.48445  "
      ]
     },
     "execution_count": 74,
     "metadata": {},
     "output_type": "execute_result"
    }
   ],
   "source": [
    "X = X[cols_to_keep]\n",
    "X_train_lgb, X_valid, y_train_lgb, y_valid = train_test_split(X, y, test_size=0.25, random_state=RANDOM_STATE_LGB)\n",
    "model_lgb = lgb.LGBMRegressor(random_state=RANDOM_STATE_LGB)\n",
    "model_lgb.fit(X_train_lgb, y_train_lgb, eval_set=[(X_valid, y_valid)], eval_metric='l1', early_stopping_rounds=5, verbose=0)\n",
    "n_estimators_lgb = model_lgb.best_iteration_\n",
    "model_lgb_final = lgb.LGBMRegressor(random_state=RANDOM_STATE_LGB, n_estimators=n_estimators_lgb)\n",
    "model_lgb_final.fit(X_train['raw'], y_train, verbose=0)\n",
    "add_results(model_lgb_final, f'LightGBM, drop non important features, n_estimators={n_estimators_lgb}, raw data', 'raw')\n",
    "results"
   ]
  },
  {
   "cell_type": "markdown",
   "metadata": {},
   "source": [
    "## Выводы.\n",
    "- Для формирования признаков модели использовались данные о нагреве, легировании и обдуве. Учитывались данные только для тех операций, которые производились в период времени между первым и последним (целевым) измерением температуры.\n",
    "- Целевого значения метрики MAE на тестовом наборе удалось достигнуть  при моделировании методом градиентного бустинга,  MAE = 5.86. Ошибка почти в два раза лучше dummy прогнозирования. Близкий к этому результат получен и методом случайного леса (MAE=6.04), но при существенно бОльшем уровне переобученности модели.\n",
    "- Были продемонстрированы наиболее важные признаки для разных моделей при прогнозировании целевого измерения температуры. Удаление неважных признаков позволило уменьшить степень переобученности лучшей модели. \n",
    "- Полученная модель и способ формирования признаков для нее позволяют прогнозировать не только конечную температуру партии, имея начальную, но и температуру, вообще говоря, в любой момент времени в процессе обработки партии, имея лишь  какое-то измерение температуры, произведенное ранее, и информацию обо всех операциях нагрева, легирования и обдува в промежутке времени между измерениями.\n",
    "- С учетом сказанного выше, можно попытаться улучшить качество обучения модели, сформировав значительно бОльшее кол-во объектов для обучения. Для этого из данных по каждой партии металла (key) можно формировать не один, как у нас, а несколько наблюдений с разными парами t_temp_before, t_temp_after, главное, что между этими временами были операции, влияющие на изменение температуры. "
   ]
  },
  {
   "cell_type": "markdown",
   "metadata": {},
   "source": [
    "## Отчет.\n",
    "1. Выполнены все пункты плана. Для формирования признаков модели использовались данные о нагреве, легировании и обдуве. Учитывались данные только для тех операций, которые производились в период времени между первым и последним (целевым) измерением температуры.\n",
    "2. При выполнении работы была трудность с данными об обдуве газом - данные были только целиком по всей партии, без указания времени. Преодолел проблему следующим образом. Еще на этапе EDA проверил несколько гипотез - кол-во использованного газа для обдува связано с общим кол-вом операций легирования (то есть предположение, что обдув производится одинаковыми порциями за каждую операцию обдува), кол-во газа для обдува связано с массой тех присадок, которые были добавлены в партию в соотв. момент времени. В результате анализа выбрал вариант формулы расчета кол-ва газа для каждой операции обдува, который и использовал для формирования признаков (подробности описаны в соотв. разделах тетради).\n",
    "3. Я считаю, что ключевым моментом моделирования был тщательный EDA, поскольку для всего моделирования самым сложным было формирование и извлечение признаков из предоставленных данных. \n",
    "4. Наилучшая модель показала MAE на тестовом наборе данных 5.86.\n",
    "\n",
    "### Предложение по улучшению моделирования.\n",
    "Полученная модель и способ формирования признаков для нее позволяют прогнозировать не только конечную температуру партии, имея начальную, но и температуру, вообще говоря, в любой момент времени в процессе обработки партии, имея лишь какое-то измерение температуры, произведенное ранее, и информацию обо всех операциях нагрева, легирования и обдува в промежутке времени между измерениями. Можно попытаться улучшить качество обучения модели, сформировав значительно бОльшее кол-во объектов для обучения. Для этого из данных по каждой партии металла (key) можно формировать не один, как у нас, а несколько наблюдений с разными парами t_temp_before, t_temp_after, главное, чтобы между этими временами были операции, влияющие на изменение температуры."
   ]
  }
 ],
 "metadata": {
  "kernelspec": {
   "display_name": "Python 3",
   "language": "python",
   "name": "python3"
  },
  "language_info": {
   "codemirror_mode": {
    "name": "ipython",
    "version": 3
   },
   "file_extension": ".py",
   "mimetype": "text/x-python",
   "name": "python",
   "nbconvert_exporter": "python",
   "pygments_lexer": "ipython3",
   "version": "3.7.6"
  }
 },
 "nbformat": 4,
 "nbformat_minor": 4
}
