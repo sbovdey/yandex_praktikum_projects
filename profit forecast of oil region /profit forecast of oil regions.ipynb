{
 "cells": [
  {
   "cell_type": "markdown",
   "metadata": {},
   "source": [
    "# Описание проекта"
   ]
  },
  {
   "cell_type": "markdown",
   "metadata": {},
   "source": [
    "Проект выполняется в интересах добывающей компании «ГлавРосГосНефть». Цель проекта - определить, где бурить новую скважину.\n",
    "\n",
    "Нам предоставлены пробы нефти в трёх регионах: в каждом 10 000 месторождений, где измерили качество нефти и объём её запасов. В рамках проекта будет обучена модель машинного обучения, которая поможет определить регион, где добыча принесёт наибольшую прибыль. Возможная прибыль и риски будут оценены техникой *Bootstrap*.\n",
    "\n",
    "Методика для выбора локации:\n",
    "\n",
    "- В избранном регионе ищут месторождения, для каждого определяют значения признаков;\n",
    "- Строят модель и оценивают объём запасов;\n",
    "- Выбирают месторождения с самым высокими оценками значений. Количество месторождений зависит от бюджета компании и стоимости разработки одной скважины;\n",
    "- Прибыль равна суммарной прибыли отобранных месторождений.\n",
    "\n",
    "Описание данных:\n",
    "\n",
    "- Данные геологоразведки трёх регионов находятся в файлах:\n",
    "geo_data_0.csv\n",
    "geo_data_1.csv\n",
    "geo_data_2.csv;\n",
    "- id — уникальный идентификатор скважины;\n",
    "- f0, f1, f2 — три признака точек (неважно, что они означают, но сами признаки значимы);\n",
    "- product — объём запасов в скважине (тыс. баррелей).\n"
   ]
  },
  {
   "cell_type": "markdown",
   "metadata": {},
   "source": [
    "# 1. Загрузка и подготовка данных"
   ]
  },
  {
   "cell_type": "code",
   "execution_count": 1,
   "metadata": {},
   "outputs": [],
   "source": [
    "import pandas as pd\n",
    "import numpy as np\n",
    "import matplotlib.pyplot as plt\n",
    "from scipy import stats\n",
    "from sklearn.model_selection import train_test_split\n",
    "from sklearn.preprocessing import StandardScaler\n",
    "from sklearn.metrics import mean_squared_error\n",
    "from sklearn.linear_model import LinearRegression"
   ]
  },
  {
   "cell_type": "code",
   "execution_count": 2,
   "metadata": {},
   "outputs": [],
   "source": [
    "# зачитаем данные\n",
    "# у нас будет много однотипных данных для каждого из регионов, договоримся использовать списки для их сохранения\n",
    "regions = [i for i in range(3)] # регионы будут адресоваться просто 0, 1, 2, для наглядности кода сформируем список \n",
    "data = [] \n",
    "for region in regions:\n",
    "    file_name = f'/datasets/geo_data_{region}.csv'\n",
    "    data.append(pd.read_csv(file_name))"
   ]
  },
  {
   "cell_type": "code",
   "execution_count": 3,
   "metadata": {
    "scrolled": false
   },
   "outputs": [
    {
     "name": "stdout",
     "output_type": "stream",
     "text": [
      "Region:  0\n",
      "<class 'pandas.core.frame.DataFrame'>\n",
      "RangeIndex: 100000 entries, 0 to 99999\n",
      "Data columns (total 5 columns):\n",
      "id         100000 non-null object\n",
      "f0         100000 non-null float64\n",
      "f1         100000 non-null float64\n",
      "f2         100000 non-null float64\n",
      "product    100000 non-null float64\n",
      "dtypes: float64(4), object(1)\n",
      "memory usage: 3.8+ MB\n",
      "None\n"
     ]
    },
    {
     "data": {
      "text/html": [
       "<div>\n",
       "<style scoped>\n",
       "    .dataframe tbody tr th:only-of-type {\n",
       "        vertical-align: middle;\n",
       "    }\n",
       "\n",
       "    .dataframe tbody tr th {\n",
       "        vertical-align: top;\n",
       "    }\n",
       "\n",
       "    .dataframe thead th {\n",
       "        text-align: right;\n",
       "    }\n",
       "</style>\n",
       "<table border=\"1\" class=\"dataframe\">\n",
       "  <thead>\n",
       "    <tr style=\"text-align: right;\">\n",
       "      <th></th>\n",
       "      <th>id</th>\n",
       "      <th>f0</th>\n",
       "      <th>f1</th>\n",
       "      <th>f2</th>\n",
       "      <th>product</th>\n",
       "    </tr>\n",
       "  </thead>\n",
       "  <tbody>\n",
       "    <tr>\n",
       "      <td>0</td>\n",
       "      <td>txEyH</td>\n",
       "      <td>0.705745</td>\n",
       "      <td>-0.497823</td>\n",
       "      <td>1.221170</td>\n",
       "      <td>105.280062</td>\n",
       "    </tr>\n",
       "    <tr>\n",
       "      <td>1</td>\n",
       "      <td>2acmU</td>\n",
       "      <td>1.334711</td>\n",
       "      <td>-0.340164</td>\n",
       "      <td>4.365080</td>\n",
       "      <td>73.037750</td>\n",
       "    </tr>\n",
       "    <tr>\n",
       "      <td>2</td>\n",
       "      <td>409Wp</td>\n",
       "      <td>1.022732</td>\n",
       "      <td>0.151990</td>\n",
       "      <td>1.419926</td>\n",
       "      <td>85.265647</td>\n",
       "    </tr>\n",
       "    <tr>\n",
       "      <td>3</td>\n",
       "      <td>iJLyR</td>\n",
       "      <td>-0.032172</td>\n",
       "      <td>0.139033</td>\n",
       "      <td>2.978566</td>\n",
       "      <td>168.620776</td>\n",
       "    </tr>\n",
       "    <tr>\n",
       "      <td>4</td>\n",
       "      <td>Xdl7t</td>\n",
       "      <td>1.988431</td>\n",
       "      <td>0.155413</td>\n",
       "      <td>4.751769</td>\n",
       "      <td>154.036647</td>\n",
       "    </tr>\n",
       "  </tbody>\n",
       "</table>\n",
       "</div>"
      ],
      "text/plain": [
       "      id        f0        f1        f2     product\n",
       "0  txEyH  0.705745 -0.497823  1.221170  105.280062\n",
       "1  2acmU  1.334711 -0.340164  4.365080   73.037750\n",
       "2  409Wp  1.022732  0.151990  1.419926   85.265647\n",
       "3  iJLyR -0.032172  0.139033  2.978566  168.620776\n",
       "4  Xdl7t  1.988431  0.155413  4.751769  154.036647"
      ]
     },
     "metadata": {},
     "output_type": "display_data"
    },
    {
     "name": "stdout",
     "output_type": "stream",
     "text": [
      "\n",
      "Region:  1\n",
      "<class 'pandas.core.frame.DataFrame'>\n",
      "RangeIndex: 100000 entries, 0 to 99999\n",
      "Data columns (total 5 columns):\n",
      "id         100000 non-null object\n",
      "f0         100000 non-null float64\n",
      "f1         100000 non-null float64\n",
      "f2         100000 non-null float64\n",
      "product    100000 non-null float64\n",
      "dtypes: float64(4), object(1)\n",
      "memory usage: 3.8+ MB\n",
      "None\n"
     ]
    },
    {
     "data": {
      "text/html": [
       "<div>\n",
       "<style scoped>\n",
       "    .dataframe tbody tr th:only-of-type {\n",
       "        vertical-align: middle;\n",
       "    }\n",
       "\n",
       "    .dataframe tbody tr th {\n",
       "        vertical-align: top;\n",
       "    }\n",
       "\n",
       "    .dataframe thead th {\n",
       "        text-align: right;\n",
       "    }\n",
       "</style>\n",
       "<table border=\"1\" class=\"dataframe\">\n",
       "  <thead>\n",
       "    <tr style=\"text-align: right;\">\n",
       "      <th></th>\n",
       "      <th>id</th>\n",
       "      <th>f0</th>\n",
       "      <th>f1</th>\n",
       "      <th>f2</th>\n",
       "      <th>product</th>\n",
       "    </tr>\n",
       "  </thead>\n",
       "  <tbody>\n",
       "    <tr>\n",
       "      <td>0</td>\n",
       "      <td>kBEdx</td>\n",
       "      <td>-15.001348</td>\n",
       "      <td>-8.276000</td>\n",
       "      <td>-0.005876</td>\n",
       "      <td>3.179103</td>\n",
       "    </tr>\n",
       "    <tr>\n",
       "      <td>1</td>\n",
       "      <td>62mP7</td>\n",
       "      <td>14.272088</td>\n",
       "      <td>-3.475083</td>\n",
       "      <td>0.999183</td>\n",
       "      <td>26.953261</td>\n",
       "    </tr>\n",
       "    <tr>\n",
       "      <td>2</td>\n",
       "      <td>vyE1P</td>\n",
       "      <td>6.263187</td>\n",
       "      <td>-5.948386</td>\n",
       "      <td>5.001160</td>\n",
       "      <td>134.766305</td>\n",
       "    </tr>\n",
       "    <tr>\n",
       "      <td>3</td>\n",
       "      <td>KcrkZ</td>\n",
       "      <td>-13.081196</td>\n",
       "      <td>-11.506057</td>\n",
       "      <td>4.999415</td>\n",
       "      <td>137.945408</td>\n",
       "    </tr>\n",
       "    <tr>\n",
       "      <td>4</td>\n",
       "      <td>AHL4O</td>\n",
       "      <td>12.702195</td>\n",
       "      <td>-8.147433</td>\n",
       "      <td>5.004363</td>\n",
       "      <td>134.766305</td>\n",
       "    </tr>\n",
       "  </tbody>\n",
       "</table>\n",
       "</div>"
      ],
      "text/plain": [
       "      id         f0         f1        f2     product\n",
       "0  kBEdx -15.001348  -8.276000 -0.005876    3.179103\n",
       "1  62mP7  14.272088  -3.475083  0.999183   26.953261\n",
       "2  vyE1P   6.263187  -5.948386  5.001160  134.766305\n",
       "3  KcrkZ -13.081196 -11.506057  4.999415  137.945408\n",
       "4  AHL4O  12.702195  -8.147433  5.004363  134.766305"
      ]
     },
     "metadata": {},
     "output_type": "display_data"
    },
    {
     "name": "stdout",
     "output_type": "stream",
     "text": [
      "\n",
      "Region:  2\n",
      "<class 'pandas.core.frame.DataFrame'>\n",
      "RangeIndex: 100000 entries, 0 to 99999\n",
      "Data columns (total 5 columns):\n",
      "id         100000 non-null object\n",
      "f0         100000 non-null float64\n",
      "f1         100000 non-null float64\n",
      "f2         100000 non-null float64\n",
      "product    100000 non-null float64\n",
      "dtypes: float64(4), object(1)\n",
      "memory usage: 3.8+ MB\n",
      "None\n"
     ]
    },
    {
     "data": {
      "text/html": [
       "<div>\n",
       "<style scoped>\n",
       "    .dataframe tbody tr th:only-of-type {\n",
       "        vertical-align: middle;\n",
       "    }\n",
       "\n",
       "    .dataframe tbody tr th {\n",
       "        vertical-align: top;\n",
       "    }\n",
       "\n",
       "    .dataframe thead th {\n",
       "        text-align: right;\n",
       "    }\n",
       "</style>\n",
       "<table border=\"1\" class=\"dataframe\">\n",
       "  <thead>\n",
       "    <tr style=\"text-align: right;\">\n",
       "      <th></th>\n",
       "      <th>id</th>\n",
       "      <th>f0</th>\n",
       "      <th>f1</th>\n",
       "      <th>f2</th>\n",
       "      <th>product</th>\n",
       "    </tr>\n",
       "  </thead>\n",
       "  <tbody>\n",
       "    <tr>\n",
       "      <td>0</td>\n",
       "      <td>fwXo0</td>\n",
       "      <td>-1.146987</td>\n",
       "      <td>0.963328</td>\n",
       "      <td>-0.828965</td>\n",
       "      <td>27.758673</td>\n",
       "    </tr>\n",
       "    <tr>\n",
       "      <td>1</td>\n",
       "      <td>WJtFt</td>\n",
       "      <td>0.262778</td>\n",
       "      <td>0.269839</td>\n",
       "      <td>-2.530187</td>\n",
       "      <td>56.069697</td>\n",
       "    </tr>\n",
       "    <tr>\n",
       "      <td>2</td>\n",
       "      <td>ovLUW</td>\n",
       "      <td>0.194587</td>\n",
       "      <td>0.289035</td>\n",
       "      <td>-5.586433</td>\n",
       "      <td>62.871910</td>\n",
       "    </tr>\n",
       "    <tr>\n",
       "      <td>3</td>\n",
       "      <td>q6cA6</td>\n",
       "      <td>2.236060</td>\n",
       "      <td>-0.553760</td>\n",
       "      <td>0.930038</td>\n",
       "      <td>114.572842</td>\n",
       "    </tr>\n",
       "    <tr>\n",
       "      <td>4</td>\n",
       "      <td>WPMUX</td>\n",
       "      <td>-0.515993</td>\n",
       "      <td>1.716266</td>\n",
       "      <td>5.899011</td>\n",
       "      <td>149.600746</td>\n",
       "    </tr>\n",
       "  </tbody>\n",
       "</table>\n",
       "</div>"
      ],
      "text/plain": [
       "      id        f0        f1        f2     product\n",
       "0  fwXo0 -1.146987  0.963328 -0.828965   27.758673\n",
       "1  WJtFt  0.262778  0.269839 -2.530187   56.069697\n",
       "2  ovLUW  0.194587  0.289035 -5.586433   62.871910\n",
       "3  q6cA6  2.236060 -0.553760  0.930038  114.572842\n",
       "4  WPMUX -0.515993  1.716266  5.899011  149.600746"
      ]
     },
     "metadata": {},
     "output_type": "display_data"
    },
    {
     "name": "stdout",
     "output_type": "stream",
     "text": [
      "\n"
     ]
    }
   ],
   "source": [
    "# посмотрим пропуски и тип данных\n",
    "for region in regions:\n",
    "    print(f'Region:  {region}')\n",
    "    print(data[region].info())\n",
    "    display(data[region].head())\n",
    "    print()"
   ]
  },
  {
   "cell_type": "code",
   "execution_count": 4,
   "metadata": {},
   "outputs": [],
   "source": [
    "# выделим признаки и цели, затем разобьем данные на обучающие и валидационные выборки\n",
    "SPLIT_RANDOM_STATE = 134\n",
    "VALID_SIZE = .25\n",
    "x_train, y_train, x_valid, y_valid = [], [], [], []\n",
    "\n",
    "for region in regions:\n",
    "    x_i = data[region].drop(columns=['product', 'id'])\n",
    "    y_i = data[region]['product']\n",
    "    x_train_i, x_valid_i, y_train_i, y_valid_i = train_test_split(x_i, y_i, test_size=VALID_SIZE, random_state=SPLIT_RANDOM_STATE)\n",
    "    x_train.append(x_train_i)\n",
    "    x_valid.append(x_valid_i)\n",
    "    y_train.append(y_train_i)\n",
    "    y_valid.append(y_valid_i)"
   ]
  },
  {
   "cell_type": "code",
   "execution_count": 5,
   "metadata": {
    "scrolled": false
   },
   "outputs": [
    {
     "name": "stdout",
     "output_type": "stream",
     "text": [
      "Region: 0, X train size: (75000, 3), y train size: (75000,)\n",
      "X valid size: (25000, 3), y valid size: (25000,)\n",
      "Region: 1, X train size: (75000, 3), y train size: (75000,)\n",
      "X valid size: (25000, 3), y valid size: (25000,)\n",
      "Region: 2, X train size: (75000, 3), y train size: (75000,)\n",
      "X valid size: (25000, 3), y valid size: (25000,)\n"
     ]
    }
   ],
   "source": [
    "# убедимся в правильности разбивки\n",
    "for region in regions:\n",
    "    print(f'Region: {region}, X train size: {x_train[region].shape}, y train size: {y_train[region].shape}')\n",
    "    print(f'X valid size: {x_valid[region].shape}, y valid size: {y_valid[region].shape}')"
   ]
  },
  {
   "cell_type": "code",
   "execution_count": 6,
   "metadata": {},
   "outputs": [
    {
     "data": {
      "image/png": "[encoded data removed]",
      "text/plain": [
       "<Figure size 432x288 with 1 Axes>"
      ]
     },
     "metadata": {
      "needs_background": "light"
     },
     "output_type": "display_data"
    },
    {
     "data": {
      "image/png": "[encoded data removed]",
      "text/plain": [
       "<Figure size 432x288 with 1 Axes>"
      ]
     },
     "metadata": {
      "needs_background": "light"
     },
     "output_type": "display_data"
    },
    {
     "data": {
      "image/png": "[encoded data removed]",
      "text/plain": [
       "<Figure size 432x288 with 1 Axes>"
      ]
     },
     "metadata": {
      "needs_background": "light"
     },
     "output_type": "display_data"
    }
   ],
   "source": [
    "# посмотрим на разброс признаков\n",
    "for region in regions:\n",
    "    x_train[region].boxplot()\n",
    "    plt.title(f'Boxplot-ы для признаков, регион {region}')\n",
    "    plt.show()"
   ]
  },
  {
   "cell_type": "code",
   "execution_count": 7,
   "metadata": {},
   "outputs": [],
   "source": [
    "# масштабируем признаки\n",
    "scaler = []\n",
    "for region in regions:\n",
    "    scaler_i = StandardScaler()\n",
    "    scaler_i.fit(x_train[region])\n",
    "    x_train[region] = scaler_i.transform(x_train[region])\n",
    "    x_valid[region] = scaler_i.transform(x_valid[region])\n",
    "    scaler.append(scaler_i)"
   ]
  },
  {
   "cell_type": "code",
   "execution_count": 8,
   "metadata": {
    "scrolled": false
   },
   "outputs": [
    {
     "data": {
      "image/png": "[encoded data removed]",
      "text/plain": [
       "<Figure size 432x288 with 1 Axes>"
      ]
     },
     "metadata": {
      "needs_background": "light"
     },
     "output_type": "display_data"
    },
    {
     "data": {
      "image/png": "[encoded data removed]",
      "text/plain": [
       "<Figure size 432x288 with 1 Axes>"
      ]
     },
     "metadata": {
      "needs_background": "light"
     },
     "output_type": "display_data"
    },
    {
     "data": {
      "image/png": "[encoded data removed]",
      "text/plain": [
       "<Figure size 432x288 with 1 Axes>"
      ]
     },
     "metadata": {
      "needs_background": "light"
     },
     "output_type": "display_data"
    }
   ],
   "source": [
    "# визуализируем результат масштабирования\n",
    "for region in regions:\n",
    "    plt.boxplot(x_train[region])\n",
    "    plt.title(f'Boxplot-ы для масштабированных признаков, регион {region}')\n",
    "    plt.grid()\n",
    "    plt.show()"
   ]
  },
  {
   "cell_type": "markdown",
   "metadata": {},
   "source": [
    "## Выводы\n",
    "- По каждому региону представлены данные по 100000 объектов.\n",
    "- Все данные полны, пропуски не обнаружены.\n",
    "- Распределение значений для одних и тех же признаков в разных регионах существенно отличаются друг друга.\n",
    "- Была произведена разбивка данных  на обучающие и валидационные наборы в каждом регионе в пропорции 3 к 1."
   ]
  },
  {
   "cell_type": "markdown",
   "metadata": {},
   "source": [
    "# 2. Обучение и проверка модели"
   ]
  },
  {
   "cell_type": "code",
   "execution_count": 9,
   "metadata": {},
   "outputs": [
    {
     "name": "stdout",
     "output_type": "stream",
     "text": [
      "Регион: 0, средний запас скважины в предсказании модели: 92.56, среднеквадратичная ошибка предсказания 37.39\n",
      "Регион: 1, средний запас скважины в предсказании модели: 68.64, среднеквадратичная ошибка предсказания  0.89\n",
      "Регион: 2, средний запас скважины в предсказании модели: 95.05, среднеквадратичная ошибка предсказания 40.21\n"
     ]
    }
   ],
   "source": [
    "# обучим модели линейной регрессии для каждого региона и сохраним их, \n",
    "# сделаем и сохраним предсказания на валидационных выборках,\n",
    "# посчитаем и сохраним rmse для каждого региона\n",
    "\n",
    "models = [] #  список для сохранения моделей для каждого региона\n",
    "predictions = [] # список серий для каждого региона, в каждой серии будут сохранены предсказания модели, \n",
    "# причем индексы серий будут соответствовать таргетам тех же валидационных выборок \n",
    "errors = [] # список rmse ошибок для каждого региона\n",
    "\n",
    "for region in regions:\n",
    "    model_i = LinearRegression().fit(x_train[region], y_train[region])\n",
    "    models.append(model_i)\n",
    "    prediction_i = model_i.predict(x_valid[region])\n",
    "    prediction_i = pd.Series(prediction_i, index=y_valid[region].index)\n",
    "    predictions.append(prediction_i)\n",
    "    rmse_i = mean_squared_error(y_valid[region], predictions[region]) ** 0.5\n",
    "    errors.append(rmse_i)\n",
    "    print(f'Регион: {region}, средний запас скважины в предсказании модели: {prediction_i.mean():5.2f}, среднеквадратичная ошибка предсказания {rmse_i:5.2f}')"
   ]
  },
  {
   "cell_type": "code",
   "execution_count": 10,
   "metadata": {
    "scrolled": false
   },
   "outputs": [
    {
     "data": {
      "image/png": "[encoded data removed]",
      "text/plain": [
       "<Figure size 432x288 with 1 Axes>"
      ]
     },
     "metadata": {
      "needs_background": "light"
     },
     "output_type": "display_data"
    },
    {
     "data": {
      "image/png": "[encoded data removed]",
      "text/plain": [
       "<Figure size 432x288 with 1 Axes>"
      ]
     },
     "metadata": {
      "needs_background": "light"
     },
     "output_type": "display_data"
    },
    {
     "data": {
      "image/png": "[encoded data removed]",
      "text/plain": [
       "<Figure size 432x288 with 1 Axes>"
      ]
     },
     "metadata": {
      "needs_background": "light"
     },
     "output_type": "display_data"
    }
   ],
   "source": [
    "# среднее значение в районе №1 сильно отличается от двух других районов, \n",
    "# посмотрим на реальное распределение запасов по скважинам в каждом районе в валидационных выборках\n",
    "for region in regions:\n",
    "    plt.hist(y_valid[region], bins=30)\n",
    "    plt.title(f'Распределение запасов по скважинам, регион {region}')\n",
    "    plt.grid()\n",
    "    plt.show()"
   ]
  },
  {
   "cell_type": "markdown",
   "metadata": {},
   "source": [
    "## Выводы:\n",
    "- В регионах 0 и 2 средний запас скважины значительно выше, чем средний запас скважины в регионе 1.\n",
    "- Распределение реальных запасов по скважинам в регионе №1 существенно отличается от распределений в регионах 0 и 2.  В регионах 0 и 2 распределение колоколообразные, среднее примерно соответствует вершине колокола, в регионе 1 распределение напоминает воронку - минимум в центре примерно соответствует среднему, максимумы по краям в районе минимальных и максимальных запасов.\n",
    "- Кроме того обученная нами модель, предсказывающая запас каждой скважины, в регионе 1 значительно точнее, что позволит выбирать лучшие для бурения скважины в этом районе с гораздо мЕньшим риском ошибки. "
   ]
  },
  {
   "cell_type": "markdown",
   "metadata": {},
   "source": [
    "# 3. Подготовка к расчёту прибыли"
   ]
  },
  {
   "cell_type": "code",
   "execution_count": 11,
   "metadata": {},
   "outputs": [],
   "source": [
    "# заданы некоторые числа для экономического расчета в условиях проекта, присвоим их соотв. константам\n",
    "BUDGET_PER_REGION = 10000 # общий бюджет для бурения в одном регионе, в млн. руб.\n",
    "WELLs_IN_REGION_FOR_DRILLING = 200 # кол-во скважин в регионе, которые будут пробурены для добычи\n",
    "INCOME_PER_UNIT = .45 # доход в млн. руб., полученный с одной единицы сырья, кол-во единиц представлено в столбце product наших данных"
   ]
  },
  {
   "cell_type": "code",
   "execution_count": 12,
   "metadata": {},
   "outputs": [
    {
     "name": "stdout",
     "output_type": "stream",
     "text": [
      "Безубыточный минимум в средней скважине: 111.11\n"
     ]
    }
   ],
   "source": [
    "# посчитаем, какой объем добычи должен быть в среднем у одной скважины для безубыточности и сравним со средними значениями в регионе\n",
    "print(f'Безубыточный минимум в средней скважине: {BUDGET_PER_REGION / WELLs_IN_REGION_FOR_DRILLING / INCOME_PER_UNIT:5.2f}')\n"
   ]
  },
  {
   "cell_type": "markdown",
   "metadata": {},
   "source": [
    "## Выводы:\n",
    "- Нам необходимо выбрать регионы для бурения, при этом средний запас в скважине в регионах 0 и 2 ниже безубыточного уровня  на 15-18%\n",
    "- В регионе № 1 средний запас в скважине ниже безубыточного уровня почти на 40%, однако в данном регионе: \n",
    " - во-первых, распределение запасов по скважинам имеет необычный вид - максимум кол-ва скважин находится в \"хвостах\" распределения, в районе нулевых запасов и максимальных запасов,\n",
    " - во-вторых, модель, предсказывающая запас сырья в скважине, значительно точнее, что, естественно, должно сократить вероятность ошибки при выборе лучших, а, значит, и риски. Проверим на этапе моделирования прибыли и рисков."
   ]
  },
  {
   "cell_type": "markdown",
   "metadata": {},
   "source": [
    "# 4. Расчёт прибыли и рисков "
   ]
  },
  {
   "cell_type": "code",
   "execution_count": 13,
   "metadata": {},
   "outputs": [],
   "source": [
    "# для расчета прибыли и рисков будем моделировать добычу в каждом регионе, воспользовавшись техникой bootstrap\n",
    "# для этого создадим функцию, подсчитывающую возможную прибыль добычи в отдельном регионе,\n",
    "# в качестве параметров в функцию передаются данные прогноза модели и реальные данные запасов каждой скважины\n",
    "# по данным прогноза (по предсказанию модели) выбирается заданное количество (wells_in_region) лучших скважин \n",
    "# прибыль считается, исходя из реальных запасов выбранных скважин\n",
    "def profit_from_region(predicted_products, real_products):\n",
    "    selected_predictions = predicted_products.sort_values(ascending=False).head(WELLs_IN_REGION_FOR_DRILLING)\n",
    "    selected_products = real_products[selected_predictions.index]\n",
    "    return selected_products.sum() * INCOME_PER_UNIT - BUDGET_PER_REGION"
   ]
  },
  {
   "cell_type": "code",
   "execution_count": 14,
   "metadata": {},
   "outputs": [],
   "source": [
    "WELLs_IN_REGION_FOR_CHOOSING = 500 # кол-во скважин, из которых выбираются 200 лучших для бурения, задано условиями проекта\n",
    "state = np.random.RandomState(134)\n",
    "\n",
    "mean_revenue_in_region = []\n",
    "# сохраним все полученные в результате моделирования значения прибыли в dataframe для удобства последующей визуализации\n",
    "bootstrap_profits_all_regions = pd.DataFrame() \n",
    "\n",
    "\n",
    "for region in regions:\n",
    "    bootstrap_profits = []\n",
    "    for i in range(1000): \n",
    "        bootstrap_real_products = y_valid[region].sample(n=WELLs_IN_REGION_FOR_CHOOSING, random_state=state, replace=True) \n",
    "        bootstrap_predicted_products = predictions[region][bootstrap_real_products.index] \n",
    "        bootstrap_profits.append(profit_from_region(bootstrap_predicted_products, bootstrap_real_products))\n",
    "    bootstrap_profits = pd.Series(bootstrap_profits)\n",
    "    mean_revenue_in_region.append(bootstrap_profits.mean())\n",
    "    bootstrap_profits_all_regions[f'region_{region}'] = bootstrap_profits"
   ]
  },
  {
   "cell_type": "code",
   "execution_count": 15,
   "metadata": {
    "scrolled": true
   },
   "outputs": [
    {
     "data": {
      "image/png": "[encoded data removed]",
      "text/plain": [
       "<Figure size 432x288 with 1 Axes>"
      ]
     },
     "metadata": {
      "needs_background": "light"
     },
     "output_type": "display_data"
    }
   ],
   "source": [
    "ax = bootstrap_profits_all_regions.plot.kde(grid=True, xlim=(-500, 2000))"
   ]
  },
  {
   "cell_type": "code",
   "execution_count": 16,
   "metadata": {},
   "outputs": [],
   "source": [
    "# даже на графике видно, что регион №1 выигрывает по перспективности добычи, убедимся по статистическим показателям экономики\n",
    "benchmarks_all_regions = pd.DataFrame() # внесем все статистики в dataframe для удобства вывода \n",
    "for region in regions:\n",
    "    benchmarks_all_regions.loc['Средняя прибыль по прогнозу, млн. руб.', region] = mean_revenue_in_region[region]\n",
    "    benchmarks_all_regions.loc['Вероятность убытка, %', region] = stats.percentileofscore(bootstrap_profits_all_regions[f'region_{region}'], 0)\n",
    "    benchmarks_all_regions.loc['Нижняя оценка прибыли - 2.5% квантиль (95% доверительный интервал), млн. руб.', region] = bootstrap_profits_all_regions[f'region_{region}'].quantile(q=.025)\n",
    "    benchmarks_all_regions.loc['Верхняя оценка прибыли - 97.5% квантиль (95% доверительный интервал), млн. руб.', region] = bootstrap_profits_all_regions[f'region_{region}'].quantile(q=.975)\n",
    "    benchmarks_all_regions.loc['Вероятность прибыли более 1 млрд. руб., %', region] = 100 - stats.percentileofscore(bootstrap_profits_all_regions[f'region_{region}'], 1000)\n",
    "benchmarks_all_regions.columns = ['Регион №0', 'Регион №1', 'Регион №2']\n",
    "benchmarks_all_regions = benchmarks_all_regions.round(2)"
   ]
  },
  {
   "cell_type": "code",
   "execution_count": 17,
   "metadata": {
    "scrolled": false
   },
   "outputs": [
    {
     "data": {
      "text/html": [
       "<div>\n",
       "<style scoped>\n",
       "    .dataframe tbody tr th:only-of-type {\n",
       "        vertical-align: middle;\n",
       "    }\n",
       "\n",
       "    .dataframe tbody tr th {\n",
       "        vertical-align: top;\n",
       "    }\n",
       "\n",
       "    .dataframe thead th {\n",
       "        text-align: right;\n",
       "    }\n",
       "</style>\n",
       "<table border=\"1\" class=\"dataframe\">\n",
       "  <thead>\n",
       "    <tr style=\"text-align: right;\">\n",
       "      <th></th>\n",
       "      <th>Регион №0</th>\n",
       "      <th>Регион №1</th>\n",
       "      <th>Регион №2</th>\n",
       "    </tr>\n",
       "  </thead>\n",
       "  <tbody>\n",
       "    <tr>\n",
       "      <td>Средняя прибыль по прогнозу, млн. руб.</td>\n",
       "      <td>637.04</td>\n",
       "      <td>641.05</td>\n",
       "      <td>551.00</td>\n",
       "    </tr>\n",
       "    <tr>\n",
       "      <td>Вероятность убытка, %</td>\n",
       "      <td>2.50</td>\n",
       "      <td>0.60</td>\n",
       "      <td>3.00</td>\n",
       "    </tr>\n",
       "    <tr>\n",
       "      <td>Нижняя оценка прибыли - 2.5% квантиль (95% доверительный интервал), млн. руб.</td>\n",
       "      <td>12.39</td>\n",
       "      <td>120.27</td>\n",
       "      <td>-29.85</td>\n",
       "    </tr>\n",
       "    <tr>\n",
       "      <td>Верхняя оценка прибыли - 97.5% квантиль (95% доверительный интервал), млн. руб.</td>\n",
       "      <td>1291.03</td>\n",
       "      <td>1209.03</td>\n",
       "      <td>1178.92</td>\n",
       "    </tr>\n",
       "    <tr>\n",
       "      <td>Вероятность прибыли более 1 млрд. руб., %</td>\n",
       "      <td>13.60</td>\n",
       "      <td>9.40</td>\n",
       "      <td>7.40</td>\n",
       "    </tr>\n",
       "  </tbody>\n",
       "</table>\n",
       "</div>"
      ],
      "text/plain": [
       "                                                    Регион №0  Регион №1  \\\n",
       "Средняя прибыль по прогнозу, млн. руб.                 637.04     641.05   \n",
       "Вероятность убытка, %                                    2.50       0.60   \n",
       "Нижняя оценка прибыли - 2.5% квантиль (95% дове...      12.39     120.27   \n",
       "Верхняя оценка прибыли - 97.5% квантиль (95% до...    1291.03    1209.03   \n",
       "Вероятность прибыли более 1 млрд. руб., %               13.60       9.40   \n",
       "\n",
       "                                                    Регион №2  \n",
       "Средняя прибыль по прогнозу, млн. руб.                 551.00  \n",
       "Вероятность убытка, %                                    3.00  \n",
       "Нижняя оценка прибыли - 2.5% квантиль (95% дове...     -29.85  \n",
       "Верхняя оценка прибыли - 97.5% квантиль (95% до...    1178.92  \n",
       "Вероятность прибыли более 1 млрд. руб., %                7.40  "
      ]
     },
     "execution_count": 17,
     "metadata": {},
     "output_type": "execute_result"
    }
   ],
   "source": [
    "benchmarks_all_regions"
   ]
  },
  {
   "cell_type": "markdown",
   "metadata": {},
   "source": [
    "## Выводы:\n",
    "- В условиях проекта есть требование по максимальному уровню риска убытков - 2.5%. Данному требованию удовлетворяют только два региона: №0 и №1. В регионе №2 риск убытка больше и составляет 3%.\n",
    "- Наилучшим кандидатом нам представляется регион №1, несмотря на гораздо более низкий средний уровень добычи по скважинам в сравнении с другими регионами, как было отмечено ранее. Причины следующие:\n",
    " - во-первых, риск убытков в данном регионе минимальный и составляет 0.6%;\n",
    " - во-вторых, средняя прибыль, полученная из нашего моделирования, составила 641 млн. руб. и это наибольшая величина из всех трех регионов;\n",
    " - в-третьих, с вероятностью 97.5% прибыль в данном регионе будет не ниже 120 млн. руб., тогда как для региона №0 с такой же степенью  уверенности можно утверждать, что проект будет безубыточным, а для региона №2 можно только утверждать, что возможный убыток будет ограничен 30 млн. руб.\n",
    "- Стоит отметить, что регион №0, также прошедший отбор по критерию максимального риска убыточности, имеет более высокую вероятность большой прибыли:\n",
    " - во-первых, на графике видно, что для данного регоина вероятность получить прибыль более 1 млрд. руб. заметно выше, чем для региона №1, мы дополнительно посчитали вероятность такой большой прибыли для разных регионов - для региона №0 она составила 13,6%, тогда как для региона №1 - 9,4%;\n",
    " - во-вторых, 97,5% квантиль в данном регионе составляет чуть более 1,29 млрд. руб. прибыли и это  почти на 7% выше, чем 97,5% квантиль в регионе №1 (1,21 млрд. руб.). \n",
    " \n",
    " Тем не менее, мы считаем регион №1 лучшим кандидатом по причинам, описанным выше."
   ]
  }
 ],
 "metadata": {
  "kernelspec": {
   "display_name": "Python 3",
   "language": "python",
   "name": "python3"
  },
  "language_info": {
   "codemirror_mode": {
    "name": "ipython",
    "version": 3
   },
   "file_extension": ".py",
   "mimetype": "text/x-python",
   "name": "python",
   "nbconvert_exporter": "python",
   "pygments_lexer": "ipython3",
   "version": "3.7.6"
  }
 },
 "nbformat": 4,
 "nbformat_minor": 2
}
